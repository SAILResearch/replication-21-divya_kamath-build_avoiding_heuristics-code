{
 "cells": [
  {
   "cell_type": "code",
   "execution_count": 1,
   "id": "1bf3a726",
   "metadata": {},
   "outputs": [],
   "source": [
    "import pandas as pd"
   ]
  },
  {
   "cell_type": "code",
   "execution_count": 2,
   "id": "736727ea",
   "metadata": {},
   "outputs": [],
   "source": [
    "data = pd.read_csv('final_results_for_plotting.csv')"
   ]
  },
  {
   "cell_type": "code",
   "execution_count": 3,
   "id": "0d9beb5c",
   "metadata": {},
   "outputs": [],
   "source": [
    "mlci_data = data[ data['method'] == 'mlci']\n",
    "tr_data = data[ data['method'] == 'tr']\n",
    "gr_data = data[ data['method'] == 'gr']\n",
    "sbs_data = data[ data['method'] == 'sbs']"
   ]
  },
  {
   "cell_type": "code",
   "execution_count": 4,
   "id": "d00db1f6",
   "metadata": {},
   "outputs": [],
   "source": [
    "mlci_pivot = pd.read_csv('mlci_pivot_median_delay.csv')\n",
    "baseline_pivot = pd.read_csv('baseline_pivot_median_delay.csv')\n",
    "tr_pivot = pd.read_csv('tr_pivot_median_delay.csv')"
   ]
  },
  {
   "cell_type": "code",
   "execution_count": null,
   "id": "3cfcf9f0",
   "metadata": {},
   "outputs": [],
   "source": []
  }
 ],
 "metadata": {
  "kernelspec": {
   "display_name": "Python 3 (ipykernel)",
   "language": "python",
   "name": "python3"
  },
  "language_info": {
   "codemirror_mode": {
    "name": "ipython",
    "version": 3
   },
   "file_extension": ".py",
   "mimetype": "text/x-python",
   "name": "python",
   "nbconvert_exporter": "python",
   "pygments_lexer": "ipython3",
   "version": "3.9.7"
  }
 },
 "nbformat": 4,
 "nbformat_minor": 5
}
