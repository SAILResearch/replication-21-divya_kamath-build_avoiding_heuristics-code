{
 "cells": [
  {
   "cell_type": "code",
   "execution_count": 1,
   "id": "f5b3268e",
   "metadata": {},
   "outputs": [],
   "source": [
    "import pandas as pd"
   ]
  },
  {
   "cell_type": "code",
   "execution_count": 2,
   "id": "3b838d10",
   "metadata": {},
   "outputs": [],
   "source": [
    "algorithms = ['B4', 'BS4', 'BB']\n",
    "batch_sizes = [1, 2, 4, 8, 16]\n",
    "methods = ['tr', 'mlci', 'baseline']"
   ]
  },
  {
   "cell_type": "code",
   "execution_count": 3,
   "id": "6383ceac",
   "metadata": {},
   "outputs": [],
   "source": [
    "build_vals = []\n",
    "delay_vals = []\n",
    "b_alg_vals = []\n",
    "d_alg_vals = []"
   ]
  },
  {
   "cell_type": "code",
   "execution_count": 4,
   "id": "38eda3ef",
   "metadata": {},
   "outputs": [],
   "source": [
    "for m in methods:\n",
    "    filename = m + '_pivot_median_delay.csv'\n",
    "    data = pd.read_csv(filename)\n",
    "    \n",
    "    column_names = data.columns\n",
    "    for c in column_names:\n",
    "        \n",
    "        if '_builds' in c:\n",
    "            values = data[c].tolist()\n",
    "            key_name = m + '_' + c\n",
    "            build_vals.extend(values)\n",
    "            keys = [key_name] * len(values)\n",
    "            b_alg_vals.extend(keys)\n",
    "        if '_delay' in c:\n",
    "            values = data[c].tolist()\n",
    "            key_name = m + '_' + c\n",
    "            delay_vals.extend(values)\n",
    "            keys = [key_name] * len(values)\n",
    "            d_alg_vals.extend(keys)\n",
    "        "
   ]
  },
  {
   "cell_type": "code",
   "execution_count": 5,
   "id": "ec0518e5",
   "metadata": {},
   "outputs": [
    {
     "data": {
      "text/plain": [
       "(200, 200)"
      ]
     },
     "execution_count": 5,
     "metadata": {},
     "output_type": "execute_result"
    }
   ],
   "source": [
    "len(build_vals), len(b_alg_vals)"
   ]
  },
  {
   "cell_type": "code",
   "execution_count": 6,
   "id": "f104176b",
   "metadata": {},
   "outputs": [
    {
     "data": {
      "text/plain": [
       "(200, 200)"
      ]
     },
     "execution_count": 6,
     "metadata": {},
     "output_type": "execute_result"
    }
   ],
   "source": [
    "len(delay_vals), len(d_alg_vals)"
   ]
  },
  {
   "cell_type": "code",
   "execution_count": 7,
   "id": "054f0852",
   "metadata": {},
   "outputs": [],
   "source": [
    "df = pd.DataFrame()\n",
    "df['builds'] = build_vals\n",
    "df['group'] = b_alg_vals\n",
    "df.to_csv('builds.csv')"
   ]
  },
  {
   "cell_type": "code",
   "execution_count": 8,
   "id": "25e40be9",
   "metadata": {},
   "outputs": [],
   "source": [
    "df = pd.DataFrame()\n",
    "df['delays'] = delay_vals\n",
    "df['group'] = d_alg_vals\n",
    "df.to_csv('delays.csv')"
   ]
  },
  {
   "cell_type": "code",
   "execution_count": null,
   "id": "f876ae0f",
   "metadata": {},
   "outputs": [],
   "source": []
  }
 ],
 "metadata": {
  "kernelspec": {
   "display_name": "Python 3 (ipykernel)",
   "language": "python",
   "name": "python3"
  },
  "language_info": {
   "codemirror_mode": {
    "name": "ipython",
    "version": 3
   },
   "file_extension": ".py",
   "mimetype": "text/x-python",
   "name": "python",
   "nbconvert_exporter": "python",
   "pygments_lexer": "ipython3",
   "version": "3.9.7"
  }
 },
 "nbformat": 4,
 "nbformat_minor": 5
}
