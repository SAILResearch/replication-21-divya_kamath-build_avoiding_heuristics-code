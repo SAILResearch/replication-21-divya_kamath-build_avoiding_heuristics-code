{
 "cells": [
  {
   "cell_type": "code",
   "execution_count": 1,
   "id": "8c70b017",
   "metadata": {},
   "outputs": [],
   "source": [
    "import pandas as pd"
   ]
  },
  {
   "cell_type": "code",
   "execution_count": 2,
   "id": "25dcf6ba",
   "metadata": {},
   "outputs": [],
   "source": [
    "project_list = ['jruby.csv', 'metasploit-framework.csv', 'cloudify.csv', 'vagrant.csv', 'rubinius.csv', 'open-build-service.csv', 'sonarqube.csv', 'loomio.csv', 'fog.csv', 'opal.csv', 'cloud_controller_ng.csv', 'puppet.csv', 'concerto.csv', 'sufia.csv', 'geoserver.csv', 'orbeon-forms.csv', 'graylog2-server.csv']\n"
   ]
  },
  {
   "cell_type": "code",
   "execution_count": 4,
   "id": "5e0b84d1",
   "metadata": {},
   "outputs": [],
   "source": [
    "for p in project_list:\n",
    "    duration_file = p + '_duration.csv'\n",
    "    actual_file = '../../data/full_data/' + p\n",
    "    \n",
    "    dur = pd.read_csv(duration_file)\n",
    "    act = pd.read_csv(actual_file)\n",
    "    \n",
    "    if len(dur) != len(act):\n",
    "        print('Problem in {}'.format(p))\n",
    "        continue\n",
    "    \n",
    "    size = len(dur)\n",
    "    for i in range(len(dur)):\n",
    "        drow = dur.iloc[i]\n",
    "        arow = act.iloc[i]\n",
    "        \n",
    "        if drow['tr_build_id'] != arow['tr_build_id']:\n",
    "            print('build ids not similar at {}'.format(i+1))\n",
    "        else:\n",
    "            \n",
    "            if drow['tr_duration'] != arow['tr_duration']:\n",
    "                print('tr durations are not similar at {}'.format(i+1))"
   ]
  },
  {
   "cell_type": "code",
   "execution_count": null,
   "id": "01b58058",
   "metadata": {},
   "outputs": [],
   "source": []
  }
 ],
 "metadata": {
  "kernelspec": {
   "display_name": "Python 3 (ipykernel)",
   "language": "python",
   "name": "python3"
  },
  "language_info": {
   "codemirror_mode": {
    "name": "ipython",
    "version": 3
   },
   "file_extension": ".py",
   "mimetype": "text/x-python",
   "name": "python",
   "nbconvert_exporter": "python",
   "pygments_lexer": "ipython3",
   "version": "3.9.7"
  }
 },
 "nbformat": 4,
 "nbformat_minor": 5
}
