{
 "cells": [
  {
   "cell_type": "code",
   "execution_count": 7,
   "id": "abd01bbb",
   "metadata": {},
   "outputs": [],
   "source": [
    "import pandas as pd\n",
    "import sys\n",
    "import csv"
   ]
  },
  {
   "cell_type": "code",
   "execution_count": 3,
   "id": "e916ad9e",
   "metadata": {},
   "outputs": [],
   "source": [
    "data = pd.read_csv('Updated_RQ_Results.csv')"
   ]
  },
  {
   "cell_type": "code",
   "execution_count": 9,
   "id": "c77cbb51",
   "metadata": {},
   "outputs": [],
   "source": [
    "project_list = list(set(data['project'].tolist()))\n",
    "algorithms = ['BATCH4', 'BATCHSTOP4', 'BATCHBISECT']"
   ]
  },
  {
   "cell_type": "code",
   "execution_count": 32,
   "id": "f707c57e",
   "metadata": {},
   "outputs": [
    {
     "data": {
      "text/plain": [
       "63"
      ]
     },
     "execution_count": 32,
     "metadata": {},
     "output_type": "execute_result"
    }
   ],
   "source": [
    "result_file = open('rq1_table.csv', 'w')\n",
    "res_headers = ['project', 'sbs', 'batch4', 'batchbisect', 'batchsize', 'batchstop4', 'batchsize']\n",
    "res_writer = csv.writer(result_file)\n",
    "res_writer.writerow(res_headers)"
   ]
  },
  {
   "cell_type": "code",
   "execution_count": 41,
   "id": "82dbec01",
   "metadata": {},
   "outputs": [
    {
     "name": "stdout",
     "output_type": "stream",
     "text": [
      "loomio.csv & 6.829 & 62.439 & 62.439 & 4 & 68.293 & 4 \\\\ \n",
      "\\hline\n",
      "rubinius.csv & 12.273 & 75.909 & 75.909 & 4 & 81.818 & 2 \\\\ \n",
      "\\hline\n",
      "fog.csv & 2.849 & 71.51 & 71.51 & 4 & 76.353 & 4 \\\\ \n",
      "\\hline\n",
      "vagrant.csv & 0.0 & 37.676 & 30.634 & 16 & 30.986 & 16 \\\\ \n",
      "\\hline\n",
      "open-build-service.csv & 2.146 & 62.017 & 62.017 & 4 & 64.163 & 4 \\\\ \n",
      "\\hline\n",
      "heroku.csv & 0.0 & 9223372036854775807 & 9223372036854775807 & 0 & 9223372036854775807 & 0 \\\\ \n",
      "\\hline\n",
      "geoserver.csv & 6.548 & 94.048 & 94.048 & 4 & 97.619 & 2 \\\\ \n",
      "\\hline\n",
      "sufia.csv & 0.0 & 47.368 & 47.368 & 4 & 47.368 & 4 \\\\ \n",
      "\\hline\n",
      "rails.csv & 1.963 & 60.799 & 60.799 & 4 & 63.372 & 4 \\\\ \n",
      "\\hline\n",
      "gradle.csv & 1.077 & 39.497 & 33.573 & 16 & 33.573 & 16 \\\\ \n",
      "\\hline\n",
      "concerto.csv & 0.345 & 45.862 & 42.414 & 8 & 42.414 & 8 \\\\ \n",
      "\\hline\n",
      "jruby.csv & 6.295 & 82.324 & 82.324 & 4 & 84.988 & 2 \\\\ \n",
      "\\hline\n",
      "metasploit-framework.csv & 0.519 & 36.965 & 27.886 & 16 & 28.145 & 16 \\\\ \n",
      "\\hline\n",
      "orbeon-forms.csv & 2.146 & 59.657 & 59.657 & 4 & 59.657 & 4 \\\\ \n",
      "\\hline\n",
      "graylog2-server.csv & 0.499 & 32.17 & 20.449 & 16 & 20.449 & 16 \\\\ \n",
      "\\hline\n",
      "sonarqube.csv & 0.667 & 54.333 & 54.0 & 8 & 54.0 & 8 \\\\ \n",
      "\\hline\n",
      "puppet.csv & 0.0 & 31.884 & 18.841 & 16 & 21.739 & 16 \\\\ \n",
      "\\hline\n",
      "cloudify.csv & 0.41 & 38.934 & 30.943 & 16 & 31.352 & 16 \\\\ \n",
      "\\hline\n",
      "opal.csv & 1.786 & 39.286 & 33.929 & 8 & 34.821 & 8 \\\\ \n",
      "\\hline\n",
      "cloud_controller_ng.csv & 4.348 & 75.889 & 75.889 & 4 & 76.285 & 2 \\\\ \n",
      "\\hline\n"
     ]
    }
   ],
   "source": [
    "for p in project_list:\n",
    "    best = {}\n",
    "    \n",
    "    sbs_partial = data[ (data['method'] == 'sbs') & (data['project'] == p) & (data['algorithm'] == 'BATCH4')]['builds_reqd'].tolist()\n",
    "    best['sbs'] = (sbs_partial[0])\n",
    "    \n",
    "    \n",
    "    \n",
    "    for alg in algorithms:\n",
    "        \n",
    "        partial = data[ (data['method'] == 'gr') & (data['project'] == p) & (data['algorithm'] == alg)]\n",
    "        \n",
    "\n",
    "        batchsizes = partial['batch_size'].tolist()\n",
    "        builds_reqd = partial['builds_reqd'].tolist()\n",
    "        \n",
    "        min_value = sys.maxsize\n",
    "        min_batch_size = 0\n",
    "        \n",
    "        for i in range(len(builds_reqd)):\n",
    "            if builds_reqd[i] < min_value:\n",
    "                min_value = builds_reqd[i]\n",
    "                min_batch_size = batchsizes[i]\n",
    "                \n",
    "        best[alg] = (min_value, min_batch_size)\n",
    "\n",
    "    res_writer.writerow([p, best['sbs'], best['BATCH4'][0], best['BATCHBISECT'][0], best['BATCHBISECT'][1], best['BATCHSTOP4'][0], best['BATCHSTOP4'][1]])\n",
    "    print('{} & {} & {} & {} & {} & {} & {} \\\\\\\\ \\n\\\\hline'.format(p, round(best['sbs'],3), round(best['BATCH4'][0],3), round(best['BATCHSTOP4'][0],3), best['BATCHSTOP4'][1], round(best['BATCHBISECT'][0],3), best['BATCHBISECT'][1]))\n",
    "        "
   ]
  },
  {
   "cell_type": "code",
   "execution_count": 27,
   "id": "1bce6d26",
   "metadata": {},
   "outputs": [
    {
     "name": "stdout",
     "output_type": "stream",
     "text": [
      "17\n"
     ]
    }
   ],
   "source": [
    "print(batch_total)"
   ]
  },
  {
   "cell_type": "code",
   "execution_count": null,
   "id": "1799867d",
   "metadata": {},
   "outputs": [],
   "source": []
  },
  {
   "cell_type": "code",
   "execution_count": null,
   "id": "d1275bad",
   "metadata": {},
   "outputs": [],
   "source": []
  }
 ],
 "metadata": {
  "kernelspec": {
   "display_name": "Python 3 (ipykernel)",
   "language": "python",
   "name": "python3"
  },
  "language_info": {
   "codemirror_mode": {
    "name": "ipython",
    "version": 3
   },
   "file_extension": ".py",
   "mimetype": "text/x-python",
   "name": "python",
   "nbconvert_exporter": "python",
   "pygments_lexer": "ipython3",
   "version": "3.9.7"
  }
 },
 "nbformat": 4,
 "nbformat_minor": 5
}
