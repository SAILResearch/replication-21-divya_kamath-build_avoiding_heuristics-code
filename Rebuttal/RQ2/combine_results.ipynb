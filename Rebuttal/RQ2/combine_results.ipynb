{
 "cells": [
  {
   "cell_type": "code",
   "execution_count": 1,
   "id": "e266657c",
   "metadata": {},
   "outputs": [],
   "source": [
    "import pandas as pd\n",
    "import numpy as np\n",
    "import math\n",
    "import statistics\n",
    "from statistics import median"
   ]
  },
  {
   "cell_type": "code",
   "execution_count": 2,
   "id": "7ce53a6b",
   "metadata": {},
   "outputs": [],
   "source": [
    "project_list = ['heroku.csv', 'gradle.csv', 'rails.csv']"
   ]
  },
  {
   "cell_type": "code",
   "execution_count": null,
   "id": "bfd082c0",
   "metadata": {},
   "outputs": [],
   "source": [
    "algorithms = ['BATCH4', 'BATCHBISECT', 'BATCHSTOP4']\n",
    "batch_sizes = [2, 4, 8, 16]"
   ]
  },
  {
   "cell_type": "code",
   "execution_count": null,
   "id": "dcbae369",
   "metadata": {},
   "outputs": [],
   "source": [
    "result_rows = {}"
   ]
  },
  {
   "cell_type": "code",
   "execution_count": null,
   "id": "eefa3f8b",
   "metadata": {},
   "outputs": [],
   "source": [
    "for p in project_list:\n",
    "    \n",
    "    result_rows[p] = []\n",
    "    filename = p + '_sw.csv'\n",
    "    \n",
    "    \n",
    "    p_data = pd.read_csv(filename)\n",
    "    \n",
    "    for alg in algorithms:\n",
    "        \n",
    "        for b in batch_sizes:\n",
    "            \n",
    "            if alg == 'BATCH4':\n",
    "                if b != 4:\n",
    "                    continue\n",
    "            elif alg == 'BATCHSTOP4':\n",
    "                if b < 4:\n",
    "                    continue\n",
    "            \n",
    "            b_data = p_data[ (p_data['algorithm'] == alg) & (p_data['batch_size'] == b)]\n",
    "            \n",
    "            \n",
    "            \n",
    "    "
   ]
  }
 ],
 "metadata": {
  "kernelspec": {
   "display_name": "Python 3 (ipykernel)",
   "language": "python",
   "name": "python3"
  },
  "language_info": {
   "codemirror_mode": {
    "name": "ipython",
    "version": 3
   },
   "file_extension": ".py",
   "mimetype": "text/x-python",
   "name": "python",
   "nbconvert_exporter": "python",
   "pygments_lexer": "ipython3",
   "version": "3.9.7"
  }
 },
 "nbformat": 4,
 "nbformat_minor": 5
}
