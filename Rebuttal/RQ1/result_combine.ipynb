{
 "cells": [
  {
   "cell_type": "code",
   "execution_count": 1,
   "id": "b9e66cd3",
   "metadata": {},
   "outputs": [],
   "source": [
    "import pandas as pd\n",
    "from statistics import mean, median"
   ]
  },
  {
   "cell_type": "code",
   "execution_count": 2,
   "id": "617c1ad1",
   "metadata": {},
   "outputs": [],
   "source": [
    "data = pd.read_csv('rq1_sbs_sw.csv')"
   ]
  },
  {
   "cell_type": "code",
   "execution_count": 3,
   "id": "8dae6943",
   "metadata": {},
   "outputs": [],
   "source": [
    "projects = list(set(data['project'].tolist()))"
   ]
  },
  {
   "cell_type": "code",
   "execution_count": 4,
   "id": "9397a2c0",
   "metadata": {},
   "outputs": [],
   "source": [
    "algorithms = ['BATCH4', 'BATCHBISECT', 'BATCHSTOP4']\n",
    "batch_sizes = [1, 2, 4, 8, 16]"
   ]
  },
  {
   "cell_type": "code",
   "execution_count": 5,
   "id": "c6b2dea7",
   "metadata": {},
   "outputs": [],
   "source": [
    "def str_to_list(s):\n",
    "    if s == '[]':\n",
    "        return [0]\n",
    "    l = s[1:-1].split(', ')\n",
    "    l = [int(x) for x in l]\n",
    "    return l"
   ]
  },
  {
   "cell_type": "code",
   "execution_count": 6,
   "id": "c414e97d",
   "metadata": {},
   "outputs": [],
   "source": [
    "def get_project_result(p):\n",
    "\n",
    "    p_data = data [ data['project'] == p]\n",
    "    \n",
    "    builds_reqd = 0\n",
    "    median_delay = 0\n",
    "    delay_list = []\n",
    "    ci = []\n",
    "    actual_duration = 0\n",
    "    project_duration = 0\n",
    "    sum_delay = 0\n",
    "    length = 0\n",
    "    \n",
    "    for i in range(len(p_data)):\n",
    "        row = p_data.iloc[i]\n",
    "        \n",
    "        builds_reqd = (builds_reqd*length + row['builds_reqd']*row['length'])/(length + row['length'])\n",
    "        length += row['length']\n",
    "        delay_list.extend(str_to_list(row['delay_list']))\n",
    "        actual_duration += row['actual_duration']\n",
    "        project_duration += row['project_duration']\n",
    "        median_delay = median(delay_list)\n",
    "        sum_delay += row['sum_delay']\n",
    "        ci.extend(str_to_list(row['ci']))\n",
    "        \n",
    "    project_result = [p, '', 0, builds_reqd, median_delay, length, sum_delay, delay_list, project_duration, actual_duration, ci]\n",
    "    project_result_rows = []\n",
    "    \n",
    "    for alg in algorithms:\n",
    "        for b in batch_sizes:\n",
    "            \n",
    "            if alg == 'BATCH4':\n",
    "                if b != 4:\n",
    "                    continue\n",
    "            \n",
    "            if alg == 'BATCHSTOP4':\n",
    "                if b < 4:\n",
    "                    continue\n",
    "            \n",
    "            project_result[1] = alg\n",
    "            project_result[2] = b\n",
    "            \n",
    "            project_result_rows.append(project_result.copy())\n",
    "    \n",
    "    \n",
    "    return project_result_rows\n",
    "        \n",
    "        "
   ]
  },
  {
   "cell_type": "code",
   "execution_count": 7,
   "id": "6d172a82",
   "metadata": {},
   "outputs": [],
   "source": [
    "final_rows = []"
   ]
  },
  {
   "cell_type": "code",
   "execution_count": 8,
   "id": "1eb36d4c",
   "metadata": {},
   "outputs": [],
   "source": [
    "for p in projects:\n",
    "    final_rows.extend(get_project_result(p))"
   ]
  },
  {
   "cell_type": "code",
   "execution_count": 9,
   "id": "b3375154",
   "metadata": {},
   "outputs": [],
   "source": [
    "df = pd.DataFrame(final_rows, columns=['project', 'algorithm', 'batch_size', 'builds_reqd', 'median_delay', 'length', 'sum_delay', 'delay_list', 'project_duration', 'actual_duration', 'ci'])\n",
    "n = 'final_sbs_results.csv'\n",
    "df.to_csv(n)"
   ]
  },
  {
   "cell_type": "code",
   "execution_count": null,
   "id": "a6a798fc",
   "metadata": {},
   "outputs": [],
   "source": []
  }
 ],
 "metadata": {
  "kernelspec": {
   "display_name": "Python 3 (ipykernel)",
   "language": "python",
   "name": "python3"
  },
  "language_info": {
   "codemirror_mode": {
    "name": "ipython",
    "version": 3
   },
   "file_extension": ".py",
   "mimetype": "text/x-python",
   "name": "python",
   "nbconvert_exporter": "python",
   "pygments_lexer": "ipython3",
   "version": "3.9.7"
  }
 },
 "nbformat": 4,
 "nbformat_minor": 5
}
