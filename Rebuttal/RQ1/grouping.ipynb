{
 "cells": [
  {
   "cell_type": "code",
   "execution_count": 1,
   "id": "2d93a889",
   "metadata": {},
   "outputs": [],
   "source": [
    "import pandas as pd\n",
    "from statistics import mean, median"
   ]
  },
  {
   "cell_type": "code",
   "execution_count": 2,
   "id": "0edea937",
   "metadata": {},
   "outputs": [],
   "source": [
    "project_list = ['rails.csv', 'gradle.csv', 'heroku.csv', 'jruby.csv', 'metasploit-framework.csv', 'cloudify.csv', 'vagrant.csv', 'rubinius.csv', 'open-build-service.csv', 'sonarqube.csv', 'loomio.csv', 'fog.csv', 'opal.csv', 'cloud_controller_ng.csv', 'puppet.csv', 'concerto.csv', 'sufia.csv', 'geoserver.csv', 'orbeon-forms.csv', 'graylog2-server.csv']"
   ]
  },
  {
   "cell_type": "code",
   "execution_count": 3,
   "id": "e88222cc",
   "metadata": {},
   "outputs": [],
   "source": [
    "algorithms = ['BATCH4', 'BATCHBISECT', 'BATCHSTOP4']\n",
    "batch_sizes = [16, 8, 4, 2, 1]"
   ]
  },
  {
   "cell_type": "code",
   "execution_count": 4,
   "id": "859f9a82",
   "metadata": {},
   "outputs": [],
   "source": [
    "def batch_stop_4(batch_results, duration_subbatch):\n",
    "    global batch_total\n",
    "    global batch_duration\n",
    "    \n",
    "    batch_total += 1\n",
    "    batch_duration += duration_subbatch[-1]\n",
    "    \n",
    "    \n",
    "    if len(batch_results) <= 4:\n",
    "        if 0 in batch_results:\n",
    "            batch_total += 4\n",
    "            batch_duration = sum(duration_subbatch)\n",
    "        return\n",
    "    \n",
    "    if 0 in batch_results:\n",
    "        half_batch = len(batch_results)//2\n",
    "        batch_stop_4(batch_results[:half_batch], duration_subbatch[:half_batch])\n",
    "        batch_stop_4(batch_results[half_batch:], duration_subbatch[half_batch:])"
   ]
  },
  {
   "cell_type": "code",
   "execution_count": 5,
   "id": "a77caadd",
   "metadata": {},
   "outputs": [],
   "source": [
    "def batch_bisect(batch_results, duration_subbatch):\n",
    "    global batch_total\n",
    "    global batch_duration\n",
    "    \n",
    "    batch_total += 1\n",
    "    batch_duration += duration_subbatch[-1]\n",
    "    \n",
    "    if len(batch_results) == 1:\n",
    "        return\n",
    "    \n",
    "    if 0 in batch_results:\n",
    "        half_batch = len(batch_results)//2\n",
    "        batch_bisect(batch_results[:half_batch], duration_subbatch[:half_batch])\n",
    "        batch_bisect(batch_results[half_batch:], duration_subbatch[half_batch:])"
   ]
  },
  {
   "cell_type": "code",
   "execution_count": 6,
   "id": "a3955f2c",
   "metadata": {},
   "outputs": [],
   "source": [
    "def output_values(Y_data):\n",
    "    Y_t = []\n",
    "    for e in Y_data:\n",
    "        if e == 'passed':\n",
    "            Y_t.append(1)\n",
    "        else:\n",
    "            Y_t.append(0) \n",
    "    return Y_t"
   ]
  },
  {
   "cell_type": "code",
   "execution_count": 7,
   "id": "03fcb028",
   "metadata": {},
   "outputs": [],
   "source": [
    "def str_to_list(s):\n",
    "    if s == '[]':\n",
    "        return [0]\n",
    "    l = s[1:-1].split(', ')\n",
    "    l = [int(x) for x in l]\n",
    "    return l"
   ]
  },
  {
   "cell_type": "code",
   "execution_count": 8,
   "id": "f7fbbbac",
   "metadata": {},
   "outputs": [],
   "source": [
    "def get_complete_data(p_name):\n",
    "    filename = '../../data/full_data/' + p_name\n",
    "    \n",
    "    project = pd.read_csv(filename)\n",
    "    project['tr_status'] = output_values(project['tr_status'])\n",
    "    \n",
    "    return project"
   ]
  },
  {
   "cell_type": "code",
   "execution_count": 9,
   "id": "5e390996",
   "metadata": {},
   "outputs": [],
   "source": [
    "result_rows = []"
   ]
  },
  {
   "cell_type": "code",
   "execution_count": 10,
   "id": "7350c834",
   "metadata": {},
   "outputs": [],
   "source": [
    "batch_total = 0\n",
    "batch_duration = 0"
   ]
  },
  {
   "cell_type": "code",
   "execution_count": 11,
   "id": "622c732f",
   "metadata": {},
   "outputs": [],
   "source": [
    "for p in project_list:\n",
    "    \n",
    "    project = get_complete_data(p)\n",
    "    window_size = len(project)//5\n",
    "    \n",
    "    start_p = 0\n",
    "    end_p = window_size\n",
    "    \n",
    "    while end_p <= len(project):\n",
    "        \n",
    "        window = project[start_p:end_p]\n",
    "        test_start = start_p + int(0.7*len(window))\n",
    "        test_end = end_p\n",
    "        \n",
    "        \n",
    "        test_data = project[test_start:test_end]\n",
    "        \n",
    "        build_start = test_data['gh_build_started_at'].tolist()\n",
    "        duration = test_data['tr_duration'].tolist()\n",
    "        test_result = test_data['tr_status'].tolist()\n",
    "        \n",
    "        total = len(test_result)\n",
    "        \n",
    "        \n",
    "        for alg in algorithms:\n",
    "            for batchsize in batch_sizes:\n",
    "                \n",
    "                project_actual_duration = 0\n",
    "                project_batch_duration = 0\n",
    "                \n",
    "                \n",
    "                num_builds = 0\n",
    "                delay_list = []\n",
    "                \n",
    "                if alg == 'BATCH4':\n",
    "                    if batchsize != 4:\n",
    "                        continue\n",
    "                        \n",
    "                if alg == 'BATCHSTOP4':\n",
    "                    if batchsize < 4:\n",
    "                        continue\n",
    "                \n",
    "                \n",
    "                if alg == 'BATCH4':\n",
    "                    i = 0\n",
    "                    while i < total :\n",
    "                        if (total - i) > 4:\n",
    "                            batch = test_result[i:i+4]\n",
    "                            project_actual_duration += sum(duration[i:i+4])\n",
    "                            project_batch_duration += duration[i+4]\n",
    "                        else:\n",
    "                            batch = test_result[i:total]\n",
    "                            project_actual_duration += sum(duration[i:total])\n",
    "                            project_batch_duration += duration[total-1]\n",
    "                        \n",
    "                        \n",
    "                        delay_list.extend([batchsize-b-1 for b in range(len(batch))])\n",
    "                        num_builds += 1                        \n",
    "\n",
    "                        #if any build has failed in the batch, then whole batch will fail\n",
    "                        if 0 in batch:\n",
    "                            num_builds += 4\n",
    "                            \n",
    "                            if i < total:\n",
    "                                project_batch_duration += sum(duration[i:i+4])\n",
    "                            else:\n",
    "                                project_batch_duration += sum(duration[i:total])\n",
    "\n",
    "                        i += 4\n",
    "                        \n",
    "                elif alg == 'BATCHBISECT':\n",
    "                    i = 0\n",
    "                    while i < total:\n",
    "                        if (total - i) > batchsize:\n",
    "                            batch = test_result[i:i+batchsize]\n",
    "                            duration_subbatch = duration[i:i+batchsize]\n",
    "                            project_actual_duration += sum(duration[i:i+batchsize])\n",
    "                        else:\n",
    "                            batch = test_result[i:total]\n",
    "                            duration_subbatch = duration[i:total]\n",
    "                            project_actual_duration += sum(duration[i:total])\n",
    "\n",
    "                        batch_total = 0\n",
    "                        batch_duration = 0\n",
    "\n",
    "                        delay_list.extend([batchsize-b-1 for b in range(len(batch))])\n",
    "\n",
    "                        batch_bisect(batch, duration_subbatch)\n",
    "                        \n",
    "\n",
    "                        num_builds += batch_total\n",
    "                        project_batch_duration += batch_duration\n",
    "\n",
    "                        i += batchsize\n",
    "                        \n",
    "                else:\n",
    "                    i = 0\n",
    "                    while i < total:\n",
    "                        if (total - i) > batchsize:\n",
    "                            batch = test_result[i:i+batchsize]\n",
    "                            duration_subbatch = duration[i:i+batchsize]\n",
    "                            project_actual_duration += sum(duration[i:i+batchsize])\n",
    "                        else:\n",
    "                            batch = test_result[i:total]\n",
    "                            duration_subbatch = duration[i:total]\n",
    "                            project_actual_duration += sum(duration[i:total])\n",
    "\n",
    "                        batch_total = 0\n",
    "\n",
    "                        delay_list.extend([batchsize-b-1 for b in range(len(batch))])\n",
    "\n",
    "                        batch_stop_4(batch, duration_subbatch)\n",
    "                        num_builds += batch_total\n",
    "                        project_batch_duration += batch_duration\n",
    "\n",
    "                        i += batchsize\n",
    "                \n",
    "                result_rows.append([p, start_p, end_p, alg, batchsize, 100*num_builds/total, delay_list, median(delay_list), project_batch_duration, project_actual_duration, total])\n",
    "        \n",
    "        start_p = start_p + int((0.5)*window_size)\n",
    "        end_p = start_p + window_size\n",
    "    "
   ]
  },
  {
   "cell_type": "code",
   "execution_count": 12,
   "id": "4ac8df11",
   "metadata": {},
   "outputs": [
    {
     "data": {
      "text/plain": [
       "1620"
      ]
     },
     "execution_count": 12,
     "metadata": {},
     "output_type": "execute_result"
    }
   ],
   "source": [
    "len(result_rows)"
   ]
  },
  {
   "cell_type": "code",
   "execution_count": 13,
   "id": "a6786f26",
   "metadata": {},
   "outputs": [],
   "source": [
    "df = pd.DataFrame(result_rows, columns=['project', 'start_p', 'end_p', 'algorithm', 'batch_size', 'builds_reqd', 'delay_list', 'median_delay', 'batch_duration', 'actual_duration', 'testall_size'])"
   ]
  },
  {
   "cell_type": "code",
   "execution_count": 14,
   "id": "965b9085",
   "metadata": {},
   "outputs": [],
   "source": [
    "df.to_csv('duration_sw_grouping_results.csv')"
   ]
  },
  {
   "cell_type": "code",
   "execution_count": 15,
   "id": "90bd1e7d",
   "metadata": {},
   "outputs": [
    {
     "data": {
      "text/plain": [
       "1620"
      ]
     },
     "execution_count": 15,
     "metadata": {},
     "output_type": "execute_result"
    }
   ],
   "source": [
    "20*9*9"
   ]
  },
  {
   "cell_type": "code",
   "execution_count": null,
   "id": "7074e403",
   "metadata": {},
   "outputs": [],
   "source": []
  }
 ],
 "metadata": {
  "kernelspec": {
   "display_name": "Python 3 (ipykernel)",
   "language": "python",
   "name": "python3"
  },
  "language_info": {
   "codemirror_mode": {
    "name": "ipython",
    "version": 3
   },
   "file_extension": ".py",
   "mimetype": "text/x-python",
   "name": "python",
   "nbconvert_exporter": "python",
   "pygments_lexer": "ipython3",
   "version": "3.9.7"
  }
 },
 "nbformat": 4,
 "nbformat_minor": 5
}
