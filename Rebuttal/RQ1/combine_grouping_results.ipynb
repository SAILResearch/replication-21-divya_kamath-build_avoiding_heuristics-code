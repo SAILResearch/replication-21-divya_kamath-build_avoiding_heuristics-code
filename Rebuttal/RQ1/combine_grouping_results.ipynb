{
 "cells": [
  {
   "cell_type": "code",
   "execution_count": 1,
   "id": "88e53faf",
   "metadata": {},
   "outputs": [],
   "source": [
    "import pandas as pd\n",
    "from statistics import mean, median"
   ]
  },
  {
   "cell_type": "code",
   "execution_count": 2,
   "id": "3ea751e0",
   "metadata": {},
   "outputs": [],
   "source": [
    "project_list = ['rails.csv', 'gradle.csv', 'heroku.csv', 'jruby.csv', 'metasploit-framework.csv', 'cloudify.csv', 'vagrant.csv', 'rubinius.csv', 'open-build-service.csv', 'sonarqube.csv', 'loomio.csv', 'fog.csv', 'opal.csv', 'cloud_controller_ng.csv', 'puppet.csv', 'concerto.csv', 'sufia.csv', 'geoserver.csv', 'orbeon-forms.csv', 'graylog2-server.csv']"
   ]
  },
  {
   "cell_type": "code",
   "execution_count": 3,
   "id": "8140b54d",
   "metadata": {},
   "outputs": [],
   "source": [
    "algorithms = ['BATCH4', 'BATCHBISECT', 'BATCHSTOP4']\n",
    "batch_sizes = [1, 2, 4, 8, 16]"
   ]
  },
  {
   "cell_type": "code",
   "execution_count": 4,
   "id": "cd05ab39",
   "metadata": {},
   "outputs": [],
   "source": [
    "result_rows = []"
   ]
  },
  {
   "cell_type": "code",
   "execution_count": 5,
   "id": "1ae17d4a",
   "metadata": {},
   "outputs": [],
   "source": [
    "def str_to_list(s):\n",
    "    if s == '[]':\n",
    "        return [0]\n",
    "    l = s[1:-1].split(', ')\n",
    "    l = [int(x) for x in l]\n",
    "    return l"
   ]
  },
  {
   "cell_type": "code",
   "execution_count": 6,
   "id": "2bf502bb",
   "metadata": {},
   "outputs": [],
   "source": [
    "data = pd.read_csv('duration_sw_grouping_results.csv')"
   ]
  },
  {
   "cell_type": "code",
   "execution_count": 7,
   "id": "36e6b194",
   "metadata": {},
   "outputs": [],
   "source": [
    "for p in project_list:\n",
    "    \n",
    "    for alg in algorithms:\n",
    "        for b in batch_sizes:\n",
    "            \n",
    "            if alg == 'BATCH4':\n",
    "                if b != 4:\n",
    "                    continue\n",
    "            \n",
    "            if alg == 'BATCHSTOP4':\n",
    "                if b < 4:\n",
    "                    continue\n",
    "            \n",
    "            c_data = data[ (data['project'] == p)& (data['algorithm'] == alg) & (data['batch_size'] == b)]\n",
    "            builds_reqd = 0\n",
    "            delay_list = []\n",
    "            total_length = 0\n",
    "            total_actual_duration = 0\n",
    "            total_batch_duration = 0\n",
    "\n",
    "            for i in range(len(c_data)):\n",
    "                row = c_data.iloc[i]\n",
    "\n",
    "                builds_reqd = ((builds_reqd*total_length) + (row['builds_reqd'] * row['testall_size']))/(total_length + row['testall_size'])\n",
    "                total_length += row['testall_size']\n",
    "                total_actual_duration += row['actual_duration']\n",
    "                total_batch_duration += row['batch_duration']\n",
    "                delay_list.extend(str_to_list(row['delay_list']))\n",
    "\n",
    "            final_row = [p, alg, b, builds_reqd, delay_list, median(delay_list), total_batch_duration, total_actual_duration, total_length]\n",
    "            result_rows.append(final_row)"
   ]
  },
  {
   "cell_type": "code",
   "execution_count": 8,
   "id": "d49e50a7",
   "metadata": {},
   "outputs": [
    {
     "data": {
      "text/plain": [
       "180"
      ]
     },
     "execution_count": 8,
     "metadata": {},
     "output_type": "execute_result"
    }
   ],
   "source": [
    "len(result_rows)"
   ]
  },
  {
   "cell_type": "code",
   "execution_count": 9,
   "id": "9aa6314f",
   "metadata": {},
   "outputs": [],
   "source": [
    "df = pd.DataFrame(result_rows, columns=['project', 'algorithm', 'batch_size', 'builds_reqd', 'delay_list', 'median_delay', 'batch_duration', 'actual_duration', 'testall_size'])\n",
    "df.to_csv('final_grouping_results.csv')"
   ]
  },
  {
   "cell_type": "code",
   "execution_count": null,
   "id": "73ac8b56",
   "metadata": {},
   "outputs": [],
   "source": []
  }
 ],
 "metadata": {
  "kernelspec": {
   "display_name": "Python 3 (ipykernel)",
   "language": "python",
   "name": "python3"
  },
  "language_info": {
   "codemirror_mode": {
    "name": "ipython",
    "version": 3
   },
   "file_extension": ".py",
   "mimetype": "text/x-python",
   "name": "python",
   "nbconvert_exporter": "python",
   "pygments_lexer": "ipython3",
   "version": "3.9.7"
  }
 },
 "nbformat": 4,
 "nbformat_minor": 5
}
