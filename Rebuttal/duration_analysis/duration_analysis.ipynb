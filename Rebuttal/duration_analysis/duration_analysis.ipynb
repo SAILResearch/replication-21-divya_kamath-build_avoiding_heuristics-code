{
 "cells": [
  {
   "cell_type": "code",
   "execution_count": 12,
   "id": "9b14f995",
   "metadata": {},
   "outputs": [],
   "source": [
    "import pandas as pd\n",
    "from statistics import mean, median"
   ]
  },
  {
   "cell_type": "code",
   "execution_count": 13,
   "id": "db25d6be",
   "metadata": {},
   "outputs": [],
   "source": [
    "sbs_results = pd.read_csv('final_sbs_results.csv')\n",
    "gr_results = pd.read_csv('final_grouping_results.csv')\n",
    "ml_results = pd.read_csv('final_mlci_results.csv')\n",
    "tr_results = pd.read_csv('best_confidence.csv')"
   ]
  },
  {
   "cell_type": "code",
   "execution_count": 14,
   "id": "e551f7f9",
   "metadata": {},
   "outputs": [],
   "source": [
    "gr_results = gr_results.rename(columns={'batch_duration':'build_duration'})\n",
    "tr_results = tr_results.rename(columns={'build_durations':'build_duration', 'actual_durations':'actual_duration'})"
   ]
  },
  {
   "cell_type": "code",
   "execution_count": 15,
   "id": "6d801326",
   "metadata": {},
   "outputs": [],
   "source": [
    "gr_results = gr_results[~(gr_results['batch_size']==1)]\n",
    "tr_results = tr_results[~(tr_results['batch_size']==1)]\n",
    "sbs_results = sbs_results[~(sbs_results['batch_size']==1)]"
   ]
  },
  {
   "cell_type": "code",
   "execution_count": 16,
   "id": "3612cef1",
   "metadata": {},
   "outputs": [],
   "source": [
    "size = len(gr_results)"
   ]
  },
  {
   "cell_type": "code",
   "execution_count": 17,
   "id": "89a84fca",
   "metadata": {},
   "outputs": [],
   "source": [
    "gr_dur = []\n",
    "tr_dur = []\n",
    "ml_dur = []\n",
    "sbs_dur = []"
   ]
  },
  {
   "cell_type": "code",
   "execution_count": 18,
   "id": "4f0969d1",
   "metadata": {},
   "outputs": [],
   "source": [
    "for i in range(size):\n",
    "    gr_row = gr_results.iloc[i]\n",
    "    tr_row = tr_results.iloc[i]\n",
    "    ml_row = ml_results.iloc[i]\n",
    "    sbs_row = sbs_results.iloc[i]\n",
    "    \n",
    "    gr_per = 100*(gr_row['actual_duration']-gr_row['build_duration'])/gr_row['actual_duration']\n",
    "    tr_per = 100*(tr_row['actual_duration']-tr_row['build_duration'])/tr_row['actual_duration']\n",
    "    ml_per = 100*(ml_row['actual_duration']-ml_row['build_duration'])/ml_row['actual_duration']\n",
    "    sbs_per = 100*(sbs_row['actual_duration']-sbs_row['project_duration'])/sbs_row['actual_duration']\n",
    "    \n",
    "    gr_dur.append(gr_per)\n",
    "    tr_dur.append(tr_per)\n",
    "    ml_dur.append(ml_per)\n",
    "    sbs_dur.append(sbs_per)"
   ]
  },
  {
   "cell_type": "code",
   "execution_count": 19,
   "id": "b08e8692",
   "metadata": {},
   "outputs": [
    {
     "data": {
      "text/plain": [
       "(160, 160, 160, 160)"
      ]
     },
     "execution_count": 19,
     "metadata": {},
     "output_type": "execute_result"
    }
   ],
   "source": [
    "len(gr_dur), len(tr_dur), len(ml_dur), len(sbs_dur)"
   ]
  },
  {
   "cell_type": "code",
   "execution_count": 20,
   "id": "e9c7cab4",
   "metadata": {},
   "outputs": [],
   "source": [
    "gr_results['dur_per'] = gr_dur\n",
    "tr_results['dur_per'] = tr_dur\n",
    "ml_results['dur_per'] = ml_dur\n",
    "sbs_results['dur_per'] = sbs_dur"
   ]
  },
  {
   "cell_type": "code",
   "execution_count": 21,
   "id": "90e4b241",
   "metadata": {},
   "outputs": [],
   "source": [
    "gr_results.to_csv('final_gr_dur.csv')\n",
    "tr_results.to_csv('final_tr_dur.csv')\n",
    "ml_results.to_csv('final_mlci_dur.csv')\n",
    "sbs_results.to_csv('final_sbs_dur.csv')"
   ]
  },
  {
   "cell_type": "code",
   "execution_count": 22,
   "id": "2107431a",
   "metadata": {},
   "outputs": [
    {
     "data": {
      "text/plain": [
       "160"
      ]
     },
     "execution_count": 22,
     "metadata": {},
     "output_type": "execute_result"
    }
   ],
   "source": [
    "len(sbs_results)"
   ]
  },
  {
   "cell_type": "code",
   "execution_count": null,
   "id": "eaf1d270",
   "metadata": {},
   "outputs": [],
   "source": []
  },
  {
   "cell_type": "code",
   "execution_count": null,
   "id": "faa02f66",
   "metadata": {},
   "outputs": [],
   "source": []
  },
  {
   "cell_type": "code",
   "execution_count": null,
   "id": "9e20d988",
   "metadata": {},
   "outputs": [],
   "source": []
  }
 ],
 "metadata": {
  "kernelspec": {
   "display_name": "Python 3 (ipykernel)",
   "language": "python",
   "name": "python3"
  },
  "language_info": {
   "codemirror_mode": {
    "name": "ipython",
    "version": 3
   },
   "file_extension": ".py",
   "mimetype": "text/x-python",
   "name": "python",
   "nbconvert_exporter": "python",
   "pygments_lexer": "ipython3",
   "version": "3.9.7"
  }
 },
 "nbformat": 4,
 "nbformat_minor": 5
}
