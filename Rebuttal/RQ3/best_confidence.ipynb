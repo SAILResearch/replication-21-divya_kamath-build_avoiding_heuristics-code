{
 "cells": [
  {
   "cell_type": "code",
   "execution_count": 10,
   "id": "ae0bd45c",
   "metadata": {},
   "outputs": [],
   "source": [
    "import pandas as pd\n",
    "import sys\n",
    "import csv\n",
    "from statistics import median"
   ]
  },
  {
   "cell_type": "code",
   "execution_count": 11,
   "id": "79d41280",
   "metadata": {},
   "outputs": [],
   "source": [
    "project_ytest_lib = {}"
   ]
  },
  {
   "cell_type": "code",
   "execution_count": 12,
   "id": "6453aa7c",
   "metadata": {},
   "outputs": [],
   "source": [
    "def output_values(Y_data):\n",
    "    Y_t = []\n",
    "    for e in Y_data:\n",
    "        if e == 'passed':\n",
    "            Y_t.append(1)\n",
    "        else:\n",
    "            Y_t.append(0) \n",
    "    return Y_t"
   ]
  },
  {
   "cell_type": "code",
   "execution_count": 13,
   "id": "c37fb2ed",
   "metadata": {},
   "outputs": [],
   "source": [
    "def get_best_confidence(data):\n",
    "    \n",
    "    #typecasting\n",
    "    data['builds_reqd'] = pd.to_numeric(data['builds_reqd'], downcast=\"float\", errors='coerce')   \n",
    "    \n",
    "    #setting parameters\n",
    "    project_list = set(data['project'].tolist())\n",
    "    batching_alg = set(data['algorithm'].tolist())\n",
    "    batchsizes = [1,2,4,8,16]\n",
    "    \n",
    "    result_rows = []\n",
    "    \n",
    "    #get best confidences\n",
    "\n",
    "    for p in project_list:\n",
    "        \n",
    "        p_name = p + '.csv'\n",
    "        alg_scores = {}\n",
    "        p_data = data[data['project'] == p]\n",
    "        \n",
    "        \n",
    "        for alg in batching_alg:\n",
    "\n",
    "            alg_data = p_data[p_data['algorithm'] == alg]\n",
    "\n",
    "            for b in batchsizes:\n",
    "\n",
    "                if alg == 'BATCH4':\n",
    "                    if b != 4:\n",
    "                        continue\n",
    "\n",
    "                if alg == 'BATCHSTOP4':\n",
    "                    if b < 4:\n",
    "                        continue\n",
    "                        \n",
    "\n",
    "                batch_data = alg_data[ alg_data['batch_size'] == b]\n",
    "                \n",
    "                total = batch_data['testall_size'].tolist()[0]\n",
    "                reqd_list = batch_data['builds_reqd'].tolist()\n",
    "                median_delays = batch_data['median_delay'].tolist()\n",
    "                delay_lists = batch_data['delay_list'].tolist()\n",
    "                actual_durations = batch_data['actual_duration'].tolist()\n",
    "                build_durations = batch_data['build_duration'].tolist()\n",
    "                \n",
    "                min_distance = sys.maxsize\n",
    "\n",
    "                best = [p_name, 'tr', alg, b, 0, 0, [], 0, 0, 0, 0]\n",
    "                best_i = 0\n",
    "\n",
    "                for i in range(len(reqd_list)):\n",
    "                    distance = ((reqd_list[i]**2)+(median_delays[i])**2)**0.5\n",
    "                    if distance < min_distance:\n",
    "                        best[4] = reqd_list[i]\n",
    "                        best[5] = median_delays[i]\n",
    "                        best[6] = delay_lists[i]\n",
    "                        best[7] = total\n",
    "                        best[8] = i+2\n",
    "                        best[9] = actual_durations[i]\n",
    "                        best[10] = build_durations[i]\n",
    "                        best_i = i\n",
    "                        min_distance = distance\n",
    "\n",
    "                result_rows.append(best)\n",
    "    \n",
    "    return result_rows"
   ]
  },
  {
   "cell_type": "code",
   "execution_count": 14,
   "id": "e7bc2d77",
   "metadata": {},
   "outputs": [],
   "source": [
    "project_list = ['heroku', 'open-build-service', 'cloud_controller_ng', 'rubinius', 'jruby', 'metasploit-framework', 'loomio', 'orbeon-forms', 'cloudify', 'geoserver', 'opal', 'sufia', 'sonarqube', 'rails', 'fog', 'puppet', 'concerto', 'vagrant', 'gradle', 'graylog2-server']"
   ]
  },
  {
   "cell_type": "code",
   "execution_count": 15,
   "id": "eb830d6d",
   "metadata": {},
   "outputs": [],
   "source": [
    "data = pd.read_csv('final_tr_results.csv')\n",
    "result_rows = get_best_confidence(data)"
   ]
  },
  {
   "cell_type": "code",
   "execution_count": 16,
   "id": "407684ff",
   "metadata": {},
   "outputs": [
    {
     "data": {
      "text/plain": [
       "180"
      ]
     },
     "execution_count": 16,
     "metadata": {},
     "output_type": "execute_result"
    }
   ],
   "source": [
    "len(result_rows)"
   ]
  },
  {
   "cell_type": "code",
   "execution_count": 17,
   "id": "0e9d0b55",
   "metadata": {},
   "outputs": [],
   "source": [
    "df = pd.DataFrame(result_rows, columns=['project', 'method', 'algorithm', 'batch_size', 'builds_reqd', 'median_delay', 'delay_list', 'testall_size', 'confidence', 'actual_durations', 'build_durations'])"
   ]
  },
  {
   "cell_type": "code",
   "execution_count": 18,
   "id": "3e260fe6",
   "metadata": {},
   "outputs": [],
   "source": [
    "df.to_csv('best_confidence.csv')"
   ]
  },
  {
   "cell_type": "code",
   "execution_count": null,
   "id": "6c63ed08",
   "metadata": {},
   "outputs": [],
   "source": []
  }
 ],
 "metadata": {
  "kernelspec": {
   "display_name": "Python 3 (ipykernel)",
   "language": "python",
   "name": "python3"
  },
  "language_info": {
   "codemirror_mode": {
    "name": "ipython",
    "version": 3
   },
   "file_extension": ".py",
   "mimetype": "text/x-python",
   "name": "python",
   "nbconvert_exporter": "python",
   "pygments_lexer": "ipython3",
   "version": "3.9.7"
  }
 },
 "nbformat": 4,
 "nbformat_minor": 5
}
