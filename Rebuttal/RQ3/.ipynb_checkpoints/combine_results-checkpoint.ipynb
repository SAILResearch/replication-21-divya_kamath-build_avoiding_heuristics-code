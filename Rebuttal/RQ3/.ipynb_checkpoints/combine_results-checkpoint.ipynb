{
 "cells": [
  {
   "cell_type": "code",
   "execution_count": 1,
   "id": "d4245204",
   "metadata": {},
   "outputs": [],
   "source": [
    "import pandas as pd\n",
    "from statistics import mean, median"
   ]
  },
  {
   "cell_type": "code",
   "execution_count": 2,
   "id": "b5e71d60",
   "metadata": {},
   "outputs": [],
   "source": [
    "project_list = ['rails.csv', 'gradle.csv', 'heroku.csv', 'jruby.csv', 'metasploit-framework.csv', 'cloudify.csv', 'vagrant.csv', 'rubinius.csv', 'open-build-service.csv', 'sonarqube.csv', 'loomio.csv', 'fog.csv', 'opal.csv', 'cloud_controller_ng.csv', 'puppet.csv', 'concerto.csv', 'sufia.csv', 'geoserver.csv', 'orbeon-forms.csv', 'graylog2-server.csv']"
   ]
  },
  {
   "cell_type": "code",
   "execution_count": 3,
   "id": "b2b736c4",
   "metadata": {},
   "outputs": [],
   "source": [
    "confidence = list(range(2,21,1))\n",
    "algorithms = ['BATCH4', 'BATCHBISECT', 'BATCHSTOP4']\n",
    "batch_sizes = [1, 2, 4, 8, 16]"
   ]
  },
  {
   "cell_type": "code",
   "execution_count": 4,
   "id": "2462d150",
   "metadata": {},
   "outputs": [],
   "source": [
    "result_rows = []"
   ]
  },
  {
   "cell_type": "code",
   "execution_count": 5,
   "id": "77b0dd4e",
   "metadata": {},
   "outputs": [],
   "source": [
    "def str_to_list(s):\n",
    "    if s == '[]':\n",
    "        return [0]\n",
    "    l = s[1:-1].split(', ')\n",
    "    l = [int(x) for x in l]\n",
    "    return l"
   ]
  },
  {
   "cell_type": "code",
   "execution_count": 6,
   "id": "9fd92cf9",
   "metadata": {},
   "outputs": [],
   "source": [
    "for p in project_list:\n",
    "    \n",
    "    filename = p + '_sw.csv'\n",
    "    data = pd.read_csv(filename)\n",
    "    \n",
    "    for alg in algorithms:\n",
    "        for b in batch_sizes:\n",
    "            \n",
    "            if alg == 'BATCH4':\n",
    "                if b != 4:\n",
    "                    continue\n",
    "            \n",
    "            if alg == 'BATCHSTOP4':\n",
    "                if b < 4:\n",
    "                    continue\n",
    "            \n",
    "            for c in confidence:\n",
    "                c_data = data[ (data['algorithm'] == alg) & (data['batch_size'] == b) & (data['confidence'] == c)]\n",
    "                \n",
    "                builds_reqd = 0\n",
    "                delay_list = []\n",
    "                total_length = 0\n",
    "                total_actual_duration = 0\n",
    "                total_build_duration = 0\n",
    "                ci = []\n",
    "            \n",
    "                for i in range(len(c_data)):\n",
    "                    row = c_data.iloc[i]\n",
    "                    \n",
    "                    builds_reqd = ((builds_reqd*total_length) + (row['builds_reqd'] * row['testall_size']))/(total_length + row['testall_size'])\n",
    "                    total_length += row['testall_size']\n",
    "                    total_actual_duration += row['actual_duration']\n",
    "                    total_build_duration += row['build_duration']\n",
    "                    delay_list.extend(str_to_list(row['delay_list']))\n",
    "                    ci.extend(str_to_list(row['ci']))\n",
    "                \n",
    "                if len(delay_list) == 0:\n",
    "                    delay_list = [0]\n",
    "                final_row = [p, alg, b, c, builds_reqd, delay_list, median(delay_list), total_build_duration, total_actual_duration, total_length, ci]\n",
    "                result_rows.append(final_row)\n",
    "                "
   ]
  },
  {
   "cell_type": "code",
   "execution_count": 7,
   "id": "f7496a1d",
   "metadata": {},
   "outputs": [
    {
     "name": "stdout",
     "output_type": "stream",
     "text": [
      "3420\n"
     ]
    }
   ],
   "source": [
    "print(len(result_rows))"
   ]
  },
  {
   "cell_type": "code",
   "execution_count": 8,
   "id": "a861c2fd",
   "metadata": {},
   "outputs": [],
   "source": [
    "df = pd.DataFrame(result_rows, columns=['project', 'algorithm', 'batch_size', 'confidence', 'builds_reqd', 'delay_list', 'median_delay', 'build_duration', 'actual_duration', 'testall_size', 'ci'])\n",
    "df.to_csv('final_tr_results.csv')"
   ]
  },
  {
   "cell_type": "code",
   "execution_count": null,
   "id": "a91be332",
   "metadata": {},
   "outputs": [],
   "source": []
  },
  {
   "cell_type": "code",
   "execution_count": null,
   "id": "239beaed",
   "metadata": {},
   "outputs": [],
   "source": []
  }
 ],
 "metadata": {
  "kernelspec": {
   "display_name": "Python 3 (ipykernel)",
   "language": "python",
   "name": "python3"
  },
  "language_info": {
   "codemirror_mode": {
    "name": "ipython",
    "version": 3
   },
   "file_extension": ".py",
   "mimetype": "text/x-python",
   "name": "python",
   "nbconvert_exporter": "python",
   "pygments_lexer": "ipython3",
   "version": "3.9.7"
  }
 },
 "nbformat": 4,
 "nbformat_minor": 5
}
