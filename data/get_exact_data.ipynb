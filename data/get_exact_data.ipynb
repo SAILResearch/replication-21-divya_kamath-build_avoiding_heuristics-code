{
 "cells": [
  {
   "cell_type": "code",
   "execution_count": 1,
   "id": "ba190db1",
   "metadata": {},
   "outputs": [],
   "source": [
    "import pandas as pd\n",
    "import pickle"
   ]
  },
  {
   "cell_type": "code",
   "execution_count": 2,
   "id": "4b69f1f2",
   "metadata": {},
   "outputs": [],
   "source": [
    "project_list = ['vagrant.csv', 'puppet.csv', 'graylog2-server.csv', 'heroku.csv', 'rails.csv', 'gradle.csv', 'jruby.csv', 'metasploit-framework.csv', 'cloudify.csv', 'rubinius.csv', 'open-build-service.csv', 'sonarqube.csv', 'loomio.csv', 'fog.csv', 'opal.csv', 'cloud_controller_ng.csv', 'concerto.csv', 'sufia.csv', 'geoserver.csv', 'orbeon-forms.csv']"
   ]
  },
  {
   "cell_type": "code",
   "execution_count": 4,
   "id": "a59fb9ce",
   "metadata": {},
   "outputs": [
    {
     "name": "stderr",
     "output_type": "stream",
     "text": [
      "/var/folders/09/2vzp5xpd2ldd4ggk4xzjt1qr0000gn/T/ipykernel_37054/651054681.py:16: SettingWithCopyWarning: \n",
      "A value is trying to be set on a copy of a slice from a DataFrame.\n",
      "Try using .loc[row_indexer,col_indexer] = value instead\n",
      "\n",
      "See the caveats in the documentation: https://pandas.pydata.org/pandas-docs/stable/user_guide/indexing.html#returning-a-view-versus-a-copy\n",
      "  df['version'] = versions\n"
     ]
    },
    {
     "name": "stdout",
     "output_type": "stream",
     "text": [
      "vagrant.csv 4047 4047\n",
      "puppet.csv 2345 2345\n",
      "graylog2-server.csv 2108 2108\n",
      "heroku.csv 2081 2081\n",
      "rails.csv 14131 14131\n",
      "gradle.csv 3567 3567\n",
      "jruby.csv 8273 8273\n",
      "metasploit-framework.csv 7600 7600\n",
      "cloudify.csv 4813 4813\n",
      "rubinius.csv 4003 4003\n",
      "open-build-service.csv 3716 3716\n",
      "sonarqube.csv 3161 3161\n",
      "loomio.csv 2922 2922\n",
      "fog.csv 2783 2783\n",
      "opal.csv 2593 2593\n",
      "cloud_controller_ng.csv 2397 2397\n",
      "concerto.csv 2299 2299\n",
      "sufia.csv 2257 2257\n",
      "geoserver.csv 2181 2181\n",
      "orbeon-forms.csv 2164 2164\n"
     ]
    }
   ],
   "source": [
    "for p in project_list:\n",
    "    df = pd.DataFrame()\n",
    "    versions = []\n",
    "    indexes = []\n",
    "    for ver in range(1,11):\n",
    "        index_filename = 'project_data_pickles/' + p + '_' + str(ver) + '_indexes.pkl'\n",
    "        with open(index_filename, 'rb') as file:\n",
    "            train_indexes = pickle.load(file)\n",
    "            test_indexes = pickle.load(file)\n",
    "        \n",
    "        versions.extend([ver] * len(test_indexes))\n",
    "        indexes.extend(test_indexes)\n",
    "    \n",
    "    actual_data = pd.read_csv('full_data/' + p)\n",
    "    df = actual_data[ actual_data['tr_build_id'].isin(indexes)]\n",
    "    df['version'] = versions\n",
    "    \n",
    "    df.to_csv('exact_data/' + p)\n",
    "    print(p, len(indexes), len(df))"
   ]
  },
  {
   "cell_type": "code",
   "execution_count": null,
   "id": "0854d564",
   "metadata": {},
   "outputs": [],
   "source": []
  }
 ],
 "metadata": {
  "kernelspec": {
   "display_name": "Python 3 (ipykernel)",
   "language": "python",
   "name": "python3"
  },
  "language_info": {
   "codemirror_mode": {
    "name": "ipython",
    "version": 3
   },
   "file_extension": ".py",
   "mimetype": "text/x-python",
   "name": "python",
   "nbconvert_exporter": "python",
   "pygments_lexer": "ipython3",
   "version": "3.9.7"
  }
 },
 "nbformat": 4,
 "nbformat_minor": 5
}
