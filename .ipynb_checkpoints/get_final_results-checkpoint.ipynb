{
 "cells": [
  {
   "cell_type": "code",
   "execution_count": null,
   "id": "a69e4cc8",
   "metadata": {},
   "outputs": [],
   "source": [
    "import pandas as pd\n",
    "import sys"
   ]
  },
  {
   "cell_type": "code",
   "execution_count": null,
   "id": "28f44ed3",
   "metadata": {},
   "outputs": [],
   "source": [
    "sbs_result_file = 'RQ1/final_sbs_results/final_result.csv'\n",
    "RQ2_result_file = 'RQ2/trial_ssr_debug.csv'\n",
    "RQ3_result_root = 'RQ3/final_results/'"
   ]
  },
  {
   "cell_type": "code",
   "execution_count": null,
   "id": "fa4a1b3b",
   "metadata": {},
   "outputs": [],
   "source": [
    "old_result_file = "
   ]
  }
 ],
 "metadata": {
  "kernelspec": {
   "display_name": "Python 3 (ipykernel)",
   "language": "python",
   "name": "python3"
  },
  "language_info": {
   "codemirror_mode": {
    "name": "ipython",
    "version": 3
   },
   "file_extension": ".py",
   "mimetype": "text/x-python",
   "name": "python",
   "nbconvert_exporter": "python",
   "pygments_lexer": "ipython3",
   "version": "3.9.7"
  }
 },
 "nbformat": 4,
 "nbformat_minor": 5
}
