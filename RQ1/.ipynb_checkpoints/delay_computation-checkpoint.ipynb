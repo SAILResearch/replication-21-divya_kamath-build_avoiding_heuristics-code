{
 "cells": [
  {
   "cell_type": "code",
   "execution_count": 2,
   "id": "cc2a7a6e",
   "metadata": {},
   "outputs": [],
   "source": [
    "import pandas as pd\n",
    "import numpy as np\n",
    "import math\n",
    "from sklearn.ensemble import RandomForestClassifier\n",
    "from sklearn.model_selection import GridSearchCV\n",
    "from sklearn.model_selection import train_test_split\n",
    "from sklearn.metrics import accuracy_score, confusion_matrix, classification_report\n",
    "import pickle"
   ]
  },
  {
   "cell_type": "code",
   "execution_count": 21,
   "id": "21a71e19",
   "metadata": {},
   "outputs": [],
   "source": [
    "projects = ['gradle', 'cloud_controller_ng', 'geoserver']\n",
    "metrics_path = './'\n",
    "original_path = '../data/'"
   ]
  },
  {
   "cell_type": "code",
   "execution_count": 22,
   "id": "0185909f",
   "metadata": {
    "scrolled": true
   },
   "outputs": [
    {
     "name": "stdout",
     "output_type": "stream",
     "text": [
      "1071\n",
      "[30, 53, 489, 390]\n",
      "962\n",
      "720\n",
      "[20, 11, 6, 2, 14, 16, 3, 98, 51, 57, 28, 7, 23, 7, 19, 8, 7, 48, 29, 0, 1, 5, 57]\n",
      "517\n",
      "655\n",
      "[0, 11, 1, 0, 8, 3, 5, 7, 13, 10, 0, 29, 2, 1, 0, 6, 8, 8, 23, 13, 7, 2, 5, 0, 12, 0, 0, 3, 0, 4, 2, 1, 1, 2, 1, 1, 0, 5, 1, 1, 1, 0]\n",
      "197\n"
     ]
    }
   ],
   "source": [
    "for p in projects:\n",
    "    delay = []\n",
    "    mf = pd.read_csv(metrics_path + p + '_real_metrics.csv')\n",
    "    tf = pd.read_csv(original_path + p + '_test.csv')\n",
    "    \n",
    "    pred_result = mf['Build_Result'].tolist()\n",
    "    actual_result = tf['tr_status'].tolist()\n",
    "    \n",
    "    \n",
    "    print(len(actual_result))\n",
    "    \n",
    "    flag = 0\n",
    "    count = 0\n",
    "    for i in range(len(pred_result)):\n",
    "        if flag == 1:\n",
    "            if pred_result[i] == 1:\n",
    "                count += 1\n",
    "            \n",
    "            if pred_result[i] == 0:\n",
    "                delay.append(count)\n",
    "                count = 0\n",
    "                flag = 0\n",
    "                \n",
    "        if actual_result[i] != 'passed':\n",
    "            if pred_result[i] == 1:\n",
    "                flag = 1\n",
    "    delay.append(count)\n",
    "    print(delay)\n",
    "    print(sum(delay))\n",
    "    "
   ]
  },
  {
   "cell_type": "code",
   "execution_count": 27,
   "id": "10a06e42",
   "metadata": {},
   "outputs": [
    {
     "name": "stdout",
     "output_type": "stream",
     "text": [
      "[2, 39, 2, 9, 1, 3]\n",
      "[17, 22, 3, 4, 7, 2, 10, 8, 2, 2, 1, 13, 6, 4, 24, 30, 5, 15, 14, 16, 1, 8, 8, 1, 3, 6, 1, 1, 6, 16, 0, 2, 9, 5]\n",
      "[2, 1, 3, 5, 6, 9, 10, 12, 5, 2, 1, 1, 1, 9, 4, 2, 2, 6, 5, 7, 1, 5, 0, 1, 6, 1, 4, 7, 23, 3, 9, 2, 8, 9, 1, 6, 7, 15, 16, 0, 0, 0, 0, 0, 0, 0, 0, 16, 10, 1, 6, 8, 1, 4, 9, 1, 1, 5, 3, 7, 12, 16, 18, 19, 22, 23, 24, 25, 26, 27, 28, 29, 31, 31, 1, 2, 2, 1, 2, 3, 4, 7, 8, 10, 11, 11, 1, 2, 3, 4, 5, 6, 7, 8, 9, 10, 11, 2, 3, 6, 1, 3, 9, 20, 24, 2, 3, 7, 2, 5, 1, 2, 3, 5, 1, 1, 0, 1, 1, 0, 1, 1, 1, 2, 3, 5, 6, 7, 8, 9, 10, 11, 12, 13, 14, 15, 16, 17, 18, 1, 2, 3, 4, 5, 6, 7, 8, 8, 1, 2, 2, 1, 2, 3, 4, 5, 6, 6, 1, 2, 3, 4, 5, 6, 7, 8, 8, 1, 2, 4, 5, 6, 7, 8, 9, 10, 11, 12, 13, 14, 15, 15, 1, 2, 2, 1, 3, 4, 5, 6, 6, 1, 2, 3, 8, 1, 2, 3, 4]\n"
     ]
    }
   ],
   "source": [
    "for p in projects:\n",
    "    delay = []\n",
    "    mf = pd.read_csv(metrics_path + p + '_real_metrics.csv')\n",
    "    tf = pd.read_csv(original_path + p + '_test.csv')\n",
    "    \n",
    "    pred_result = mf['Build_Result'].tolist()\n",
    "    actual_result = tf['tr_status'].tolist()\n",
    "    \n",
    "    if actual_result[0] == 'passed':\n",
    "        streak = 1\n",
    "    else:\n",
    "        streak = 0\n",
    "    bad_streak = []\n",
    "    for i in range(1, len(pred_result)):\n",
    "        if actual_result[i] == 'passed':\n",
    "            streak += 1\n",
    "        \n",
    "        if pred_result[i] == 0:\n",
    "            bad_streak.append(streak)\n",
    "        \n",
    "        if actual_result[i] != 'passed':\n",
    "            streak = 0\n",
    "    print(bad_streak)\n",
    "            \n",
    "            "
   ]
  },
  {
   "cell_type": "code",
   "execution_count": 28,
   "id": "cb2b8ac0",
   "metadata": {},
   "outputs": [
    {
     "name": "stdout",
     "output_type": "stream",
     "text": [
      "[3, 4, 5, 6, 7, 8, 9, 10, 11, 12, 13, 14, 15, 16, 17, 18, 19, 20, 21, 22, 23, 24, 25, 26, 27, 28, 29, 30, 31, 32, 33, 34, 35, 36, 37, 38, 40, 41, 42, 43, 44, 45, 46, 47, 48, 49, 50, 51, 52, 53, 54, 55, 56, 57, 58, 59, 60, 61, 62, 63, 64, 65, 66, 67, 67, 0, 1, 2, 3, 4, 5, 6, 7, 8, 9, 10, 11, 12, 13, 14, 15, 16, 17, 18, 19, 20, 21, 22, 23, 24, 25, 26, 27, 27, 1, 3, 4, 5, 6, 7, 7, 0, 0, 1, 2, 3, 4, 5, 6, 7, 8, 9, 10, 11, 12, 13, 14, 14, 0, 0, 0, 1, 2, 3, 4, 5, 5, 1, 2, 3, 4, 5, 5, 0, 1, 2, 3, 4, 5, 6, 7, 8, 9, 9, 0, 0, 1, 2, 3, 4, 5, 6, 7, 8, 10, 11, 12, 13, 14, 15, 16, 17, 18, 19, 20, 21, 22, 23, 24, 25, 26, 27, 28, 28, 1, 2, 3, 3, 1, 2, 3, 4, 5, 6, 7, 8, 9, 10, 11, 12, 13, 14, 15, 16, 17, 18, 19, 20, 21, 22, 23, 24, 25, 26, 27, 28, 29, 30, 30, 1, 2, 3, 4, 5, 6, 7, 8, 9, 10, 11, 12, 13, 14, 15, 16, 17, 18, 19, 20, 21, 22, 23, 24, 25, 26, 27, 28, 29, 30, 31, 32, 33, 34, 35, 36, 37, 38, 38, 1, 2, 3, 4, 5, 6, 7, 7, 0, 0, 1, 2, 3, 4, 5, 5, 1, 2, 3, 4, 5, 6, 7, 8, 9, 10, 11, 12, 13, 14, 15, 16, 17, 18, 19, 20, 21, 22, 23, 24, 25, 26, 27, 28, 29, 30, 31, 32, 33, 34, 35, 36, 37, 38, 39, 40, 41, 41, 1, 2, 3, 4, 5, 6, 7, 8, 9, 10, 11, 12, 13, 14, 15, 16, 17, 18, 19, 20, 21, 22, 23, 24, 25, 26, 26, 1, 2, 3, 4, 4, 1, 2, 3, 4, 5, 6, 7, 8, 9, 10, 11, 12, 12, 1, 2, 3, 4, 5, 6, 7, 8, 9, 10, 11, 12, 13, 14, 15, 16, 17, 18, 19, 20, 21, 22, 23, 24, 25, 26, 27, 27, 1, 2, 3, 4, 5, 6, 7, 8, 9, 10, 11, 12, 13, 13, 1, 2, 3, 4, 5, 6, 7, 8, 9, 10, 11, 12, 13, 14, 15, 15, 1, 2, 3, 4, 5, 6, 7, 8, 9, 9, 1, 2, 3, 4, 5, 6, 7, 8, 9, 10, 11, 12, 13, 14, 15, 16, 17, 18, 19, 20, 21, 22, 23, 24, 25, 26, 27, 28, 29, 30, 31, 31, 1, 2, 3, 4, 5, 6, 7, 8, 9, 10, 11, 12, 13, 14, 15, 16, 17, 18, 19, 20, 21, 22, 23, 24, 25, 26, 27, 28, 29, 30, 31, 32, 33, 34, 35, 36, 37, 38, 39, 40, 41, 42, 43, 44, 45, 46, 47, 48, 49, 50, 51, 52, 53, 54, 55, 56, 57, 58, 59, 60, 61, 62, 63, 64, 65, 66, 67, 68, 68, 0, 1, 2, 3, 4, 5, 5, 0, 1, 2, 3, 4, 5, 6, 7, 8, 9, 10, 11, 12, 13, 14, 15, 16, 17, 18, 19, 20, 21, 22, 23, 24, 25, 26, 27, 28, 29, 30, 31, 32, 33, 33, 1, 2, 3, 4, 5, 6, 7, 8, 9, 10, 11, 12, 13, 14, 14, 1, 2, 3, 4, 5, 6, 7, 8, 9, 10, 11, 12, 13, 14, 15, 16, 17, 18, 19, 20, 21, 22, 23, 24, 25, 26, 27, 28, 29, 30, 31, 32, 32, 1, 2, 3, 4, 5, 5, 1, 2, 2, 1, 2, 3, 4, 5, 6, 7, 7, 1, 2, 3, 4, 5, 6, 7, 8, 9, 10, 11, 12, 13, 14, 15, 16, 17, 18, 19, 20, 21, 22, 23, 24, 25, 26, 27, 28, 29, 30, 31, 32, 33, 33, 1, 1, 2, 3, 1, 2, 3, 4, 5, 6, 7, 8, 8, 1, 2, 3, 4, 5, 6, 6, 1, 1, 1, 2, 3, 4, 5, 6, 7, 8, 9, 9, 0, 1, 2, 3, 4, 5, 6, 7, 8, 9, 10, 11, 12, 13, 14, 14, 1, 2, 3, 4, 4, 1, 2, 3, 4, 5, 6, 7, 8, 9, 10, 11, 12, 13, 14, 15, 16, 17, 18, 19, 20, 21, 22, 22, 0, 0, 0, 0, 1, 2, 3, 4, 5, 6, 7, 8, 9, 10, 10, 1, 2, 3, 4, 4, 0, 1, 2, 3, 4, 5, 6, 7, 7, 1, 2, 3, 4, 5, 6, 7, 8, 9, 10, 11, 12, 13, 14, 15, 16, 17, 18, 19, 20, 21, 22, 23, 24, 24, 1, 2, 3, 4, 5, 6, 7, 8, 9, 10, 11, 12, 12, 1, 2, 3, 4, 5, 6, 7, 8, 9, 10, 11, 12, 13, 14, 14, 0, 1, 2, 3, 4, 4, 0, 1, 1, 0, 1, 2, 3, 4, 5, 6, 7, 8, 9, 10, 11, 12, 13, 14, 15, 16, 17, 18, 19, 20, 21, 22, 23, 23, 1, 2, 3, 4, 5, 6, 7, 8, 9, 10, 11, 12, 13, 14, 15, 16, 17, 18, 19, 20, 21, 22, 23, 24, 25, 26, 27, 28, 29, 30, 31, 32, 33, 34, 35, 36, 37, 38, 39, 40, 41, 42, 43, 44, 45, 46, 47, 47, 1, 2, 3, 4, 5, 6, 7, 8, 9, 10, 11, 12, 13, 14, 15, 16, 17, 18, 19, 20, 20, 1, 2, 3, 4, 5, 5, 0, 1, 2, 3, 4, 5, 6, 7, 8, 9, 10, 11, 12, 13, 14, 15, 16, 17, 18, 19, 19, 1, 2, 3, 4, 5, 6, 7, 8, 9, 10, 11, 12, 13, 14, 15, 16, 17, 18, 19, 20, 21, 22, 23, 24, 25, 26, 27, 28, 29, 30, 31, 32, 33, 34, 35, 36, 37, 38, 39, 40, 41, 41, 1, 2, 3, 4, 4, 1, 2, 3, 4, 5, 6, 6, 1, 2, 3, 4, 5, 6, 7, 8, 8, 1, 2, 3, 4, 5, 6, 6, 1, 2, 3, 4, 5, 6, 7, 8, 9, 10, 11, 11, 1, 2, 3, 4, 5, 5, 0, 1, 2, 3, 4, 5, 6, 7, 7, 1, 1, 0, 1, 1, 0, 0, 0, 1, 1, 0, 0, 0, 0, 0, 0, 0, 0]\n",
      "\n",
      "\n",
      "\n",
      "[2, 2, 0, 1, 1, 0, 1, 2, 3, 4, 5, 6, 7, 8, 9, 10, 11, 12, 13, 14, 15, 16, 18, 19, 20, 21, 23, 24, 25, 26, 27, 28, 29, 30, 31, 32, 33, 34, 35, 36, 37, 38, 38, 0, 1, 2, 3, 4, 5, 6, 6, 0, 1, 2, 5, 6, 7, 8, 9, 10, 11, 11, 1, 2, 3, 4, 5, 6, 7, 0, 1, 3, 4, 4, 1, 2, 3, 4, 4, 1, 2, 3, 4, 5, 6, 7, 8, 9, 10, 1, 2, 2, 1, 2, 3, 4, 5, 5, 1, 2, 3, 4, 5, 6, 7, 9, 10, 11, 12, 12, 1, 1, 1, 3, 4, 5, 6, 7, 8, 9, 10, 10, 0, 1, 2, 3, 4, 5, 6, 7, 8, 9, 10, 11, 11, 0, 0, 0, 1, 1, 1, 2, 2, 0, 1, 2, 3, 4, 4, 1, 2, 3, 4, 5, 6, 7, 8, 9, 10, 11, 12, 13, 14, 15, 16, 16, 0, 1, 2, 3, 4, 5, 6, 7, 8, 9, 10, 11, 12, 13, 14, 15, 15, 0, 1, 1, 1, 2, 2, 0, 0, 1, 2, 3, 4, 5, 6, 6, 1, 1, 1, 2, 3, 4, 4, 1, 2, 3, 4, 5, 6, 7, 8, 9, 10, 11, 12, 12, 0, 1, 3, 4, 5, 6, 7, 8, 9, 10, 11, 12, 13, 14, 15, 16, 16, 1, 2, 3, 4, 5, 6, 7, 8, 9, 10, 11, 12, 13, 13, 0, 0, 1, 2, 3, 4, 5, 6, 7, 8, 9, 10, 11, 12, 13, 14, 15, 16, 17, 17, 1, 2, 3, 4, 5, 6, 7, 8, 9, 10, 11, 12, 13, 14, 15, 15, 1, 0, 0, 1, 2, 3, 4, 4, 1, 2, 3, 4, 4, 1, 2, 3, 4, 5, 6, 7, 8, 9, 9, 1, 2, 2, 1, 2, 3, 4, 5, 6, 7, 8, 9, 10, 11, 12, 13, 14, 15, 15, 1, 2, 3, 4, 4, 1, 2, 3, 4, 5, 6, 7, 8, 9, 10, 11, 12, 14, 15, 16, 17, 17, 0, 1, 2, 2, 1, 2, 3, 4, 5, 6, 6, 1, 2, 3, 3, 1, 2, 3, 4, 5, 6, 6, 0, 1, 2, 3, 4, 5, 6, 0, 1, 1, 0, 1, 2, 3, 5, 5, 1, 2, 3, 4, 5, 6, 7, 8, 9, 10, 11, 12, 13, 14, 15, 16, 17, 18, 19, 20, 21, 22, 23, 25, 26, 27, 28, 29, 31, 32, 33, 34, 34, 1, 2, 2, 1, 2, 3, 4, 6, 7, 8, 9, 10, 11, 12, 13, 14, 15, 1, 2, 3, 3, 1, 2, 3, 4, 5, 5, 1, 2, 3, 4, 5, 6, 7, 8, 9, 10, 11, 12, 13, 15, 16, 1, 1, 0, 1, 2, 2, 1, 1, 2, 3, 4, 5, 6, 7, 8, 8, 1, 2, 3, 4, 5, 6, 7, 9, 10, 11, 12, 13, 14, 15, 16, 16, 0, 1, 2, 3, 3, 0, 1, 2, 3, 3, 1, 2, 3, 4, 5, 6, 6, 1, 2, 3, 4, 5, 6, 7, 8, 9, 10, 11, 12, 12, 1, 2, 3, 4, 5, 6, 7, 8, 9, 10, 10, 1, 2, 3, 4, 5, 6, 7, 9, 10, 11, 12, 12, 0, 0, 0, 0, 1, 2, 3, 4, 5, 6, 6, 1, 2, 3, 4, 5, 6, 7, 8, 9, 10, 11, 11, 1, 2, 3, 4, 5, 5, 2, 4, 5, 7, 8, 9, 10, 11, 12, 12, 2, 3, 3, 0, 2, 3, 4, 5, 7, 8, 9, 10, 11, 12, 13, 14, 15, 16, 1, 3, 4, 5, 6, 7, 8, 9, 0, 1, 2, 3, 4, 6, 7, 8, 9, 10, 11, 12, 13, 14, 15, 15, 0, 1, 2, 2, 1, 2, 3, 4, 5, 6, 6, 1, 2, 3, 4, 5, 6, 7, 8, 9, 10, 11, 12, 12, 0, 1, 1, 1, 1, 0, 1, 2, 2, 0, 1, 2, 3, 4, 5, 6, 7, 8, 9, 10, 11, 12, 13, 14, 15, 16, 17, 18, 19, 20, 21, 21, 1]\n",
      "\n",
      "\n",
      "\n",
      "[2, 1, 2, 3, 4, 5, 5, 2, 4, 7, 8, 11, 12, 1, 2, 3, 4, 6, 6, 0, 1, 1, 1, 2, 3, 4, 5, 6, 6, 1, 3, 3, 0, 2, 2, 2, 2, 1, 2, 3, 4, 5, 6, 7, 7, 2, 3, 4, 5, 6, 7, 8, 10, 10, 1, 2, 3, 5, 6, 7, 7, 1, 2, 3, 3, 1, 3, 4, 4, 1, 2, 3, 4, 4, 0, 1, 3, 3, 1, 2, 3, 4, 5, 6, 6, 1, 2, 3, 4, 5, 6, 1, 2, 3, 4, 5, 6, 7, 8, 9, 10, 11, 12, 13, 14, 14, 1, 2, 3, 4, 5, 5, 1, 2, 3, 4, 6, 8, 9, 10, 11, 11, 2, 3, 4, 5, 2, 3, 4, 5, 6, 0, 0, 1, 2, 3, 4, 5, 6, 7, 8, 9, 10, 11, 12, 13, 14, 15, 16, 17, 18, 19, 20, 21, 22, 23, 24, 25, 26, 26, 2, 3, 5, 6, 8, 9, 10, 11, 12, 13, 14, 15, 16, 17, 18, 19, 20, 21, 22, 23, 1, 2, 4, 5, 6, 7, 8, 10, 10, 1, 3, 4, 5, 6, 7, 10, 11, 12, 13, 14, 14, 2, 3, 4, 5, 7, 8, 9, 10, 11, 12, 12, 1, 2, 3, 4, 5, 6, 8, 9, 10, 11, 12, 13, 14, 17, 18, 19, 19, 1, 2, 3, 3, 0, 0, 0, 0, 0, 0, 0, 0, 0, 0, 0, 0, 0, 0, 0, 0, 0, 0, 0, 0, 0, 0, 0, 0, 0, 0, 0, 0, 0, 0, 0, 0, 0, 0, 0, 0, 0, 0, 0, 0, 0, 0, 0, 0, 0, 0, 0, 0, 0, 0, 0, 0, 0, 0, 0, 0, 0, 0, 0, 0, 0, 0, 0, 0, 0, 0, 0, 0, 0, 1, 2, 3, 4, 5, 6, 7, 8, 9, 10, 11, 12, 13, 14, 15, 17, 17, 1, 2, 2, 1, 2, 3, 4, 5, 6, 7, 8, 9, 11, 11, 2, 3, 4, 5, 7, 9, 10, 11, 12, 13, 13, 2, 2, 1, 2, 3, 5, 6, 7, 8, 9, 2, 2, 2, 3, 3, 1, 2, 3, 4, 5, 1, 2, 4, 5, 6, 8, 9, 10, 11, 13, 14, 15, 17, 20, 21, 30, 5, 6, 9, 11, 1, 4, 5, 7, 7, 1, 0, 1, 2, 4, 5, 6, 7, 8, 10, 11, 12, 13, 14, 15, 16, 17, 18, 19, 21, 22, 23, 25, 26, 27, 28, 29, 30, 31, 31, 1, 4, 5, 6, 7, 0, 1, 3, 4, 6, 7, 7, 2, 2, 1, 1, 1, 1, 1, 4, 5, 0, 0, 1, 1, 4, 18, 3, 2, 4, 5, 6, 7, 9, 9, 0]\n",
      "\n",
      "\n",
      "\n"
     ]
    }
   ],
   "source": [
    "for p in projects:\n",
    "    delay = []\n",
    "    mf = pd.read_csv(metrics_path + p + '_real_metrics.csv')\n",
    "    tf = pd.read_csv(original_path + p + '_test.csv')\n",
    "    \n",
    "    pred_result = mf['Build_Result'].tolist()\n",
    "    actual_result = tf['tr_status'].tolist()\n",
    "    \n",
    "    if actual_result[0] == 'passed':\n",
    "        streak = 1\n",
    "    else:\n",
    "        streak = 0\n",
    "    good_streak = []\n",
    "    for i in range(1, len(pred_result)):\n",
    "        if actual_result[i] == 'passed':\n",
    "            streak += 1\n",
    "        \n",
    "        if pred_result[i] == 1:\n",
    "            good_streak.append(streak)\n",
    "        \n",
    "        if actual_result[i] != 'passed':\n",
    "            streak = 0\n",
    "    print(good_streak)\n",
    "    print('\\n\\n')"
   ]
  },
  {
   "cell_type": "code",
   "execution_count": 30,
   "id": "7cf7d08c",
   "metadata": {},
   "outputs": [],
   "source": [
    "def is_false_positive(pred, actual, index):\n",
    "    if pred[index] == 'passed' and actual[index] != 'passed':\n",
    "        return True"
   ]
  },
  {
   "cell_type": "code",
   "execution_count": 31,
   "id": "00b6d07a",
   "metadata": {},
   "outputs": [],
   "source": [
    "def is_true_negative(pred, actual, index):\n",
    "    if pred[index] != 'passed' and actual[index] != 'passed':\n",
    "        return True"
   ]
  },
  {
   "cell_type": "code",
   "execution_count": 35,
   "id": "18039bfb",
   "metadata": {},
   "outputs": [],
   "source": [
    "def return_positive_streak(actual, first, last):\n",
    "    return actual[first:last+1].count('passed')"
   ]
  },
  {
   "cell_type": "code",
   "execution_count": 37,
   "id": "a6020417",
   "metadata": {},
   "outputs": [
    {
     "ename": "IndexError",
     "evalue": "list index out of range",
     "output_type": "error",
     "traceback": [
      "\u001b[0;31m---------------------------------------------------------------------------\u001b[0m",
      "\u001b[0;31mIndexError\u001b[0m                                Traceback (most recent call last)",
      "\u001b[0;32m/var/folders/09/2vzp5xpd2ldd4ggk4xzjt1qr0000gn/T/ipykernel_28951/3707834691.py\u001b[0m in \u001b[0;36m<module>\u001b[0;34m\u001b[0m\n\u001b[1;32m     22\u001b[0m         \u001b[0;32mif\u001b[0m \u001b[0mis_true_negative\u001b[0m\u001b[0;34m(\u001b[0m\u001b[0mpred_result\u001b[0m\u001b[0;34m,\u001b[0m \u001b[0mactual_result\u001b[0m\u001b[0;34m,\u001b[0m \u001b[0mi\u001b[0m\u001b[0;34m)\u001b[0m\u001b[0;34m:\u001b[0m\u001b[0;34m\u001b[0m\u001b[0;34m\u001b[0m\u001b[0m\n\u001b[1;32m     23\u001b[0m \u001b[0;34m\u001b[0m\u001b[0m\n\u001b[0;32m---> 24\u001b[0;31m             \u001b[0;32mif\u001b[0m \u001b[0mfp_index\u001b[0m\u001b[0;34m[\u001b[0m\u001b[0;34m-\u001b[0m\u001b[0;36m1\u001b[0m\u001b[0;34m]\u001b[0m \u001b[0;34m<\u001b[0m \u001b[0mtn_index\u001b[0m\u001b[0;34m[\u001b[0m\u001b[0;34m-\u001b[0m\u001b[0;36m1\u001b[0m\u001b[0;34m]\u001b[0m\u001b[0;34m:\u001b[0m\u001b[0;34m\u001b[0m\u001b[0;34m\u001b[0m\u001b[0m\n\u001b[0m\u001b[1;32m     25\u001b[0m                 \u001b[0mtn_flag\u001b[0m \u001b[0;34m=\u001b[0m \u001b[0;32mTrue\u001b[0m\u001b[0;34m\u001b[0m\u001b[0;34m\u001b[0m\u001b[0m\n\u001b[1;32m     26\u001b[0m             \u001b[0;32melse\u001b[0m\u001b[0;34m:\u001b[0m\u001b[0;34m\u001b[0m\u001b[0;34m\u001b[0m\u001b[0m\n",
      "\u001b[0;31mIndexError\u001b[0m: list index out of range"
     ]
    }
   ],
   "source": [
    "for p in projects:\n",
    "    mf = pd.read_csv(metrics_path + p + '_real_metrics.csv')\n",
    "    tf = pd.read_csv(original_path + p + '_test.csv')\n",
    "    \n",
    "    pred_result = mf['Build_Result'].tolist()\n",
    "    actual_result = tf['tr_status'].tolist()\n",
    "    \n",
    "    fp_index = []\n",
    "    tn_index = []\n",
    "    \n",
    "    fp_flag = False\n",
    "    tn_flag = False\n",
    "    \n",
    "    non_delay_streak = []\n",
    "    delay_streak = []\n",
    "    \n",
    "    for i in range(len(pred_result)):\n",
    "        if is_false_positive(pred_result, actual_result, i):\n",
    "            fp_index.append(i)\n",
    "            fp_flag = True\n",
    "        \n",
    "        if is_true_negative(pred_result, actual_result, i):\n",
    "            \n",
    "            if len(tn_index) == 0 or len(fp_index) == 0:\n",
    "                tn_index.append(i)\n",
    "                continue\n",
    "            \n",
    "            if fp_index[-1] < tn_index[-1]:\n",
    "                tn_flag = True\n",
    "            else:\n",
    "                fp_flag = True\n",
    "            \n",
    "            if tn_flag == True:\n",
    "                last = tn_index.pop()\n",
    "                non_delay_streak.append(return_positive_streak(actual_result, last, i))\n",
    "            \n",
    "            if fp_flag == True:\n",
    "                last = fp_index.pop()\n",
    "                delay_streak.append(return_positive_streak(actual_result, last, i))\n",
    "                fp_index.clear()\n",
    "\n",
    "            tn_index.append(i)\n",
    "    \n",
    "    print(non_delay_streak)\n",
    "    print(delay_streak)\n",
    "    break\n"
   ]
  },
  {
   "cell_type": "code",
   "execution_count": 36,
   "id": "9cae5052",
   "metadata": {},
   "outputs": [
    {
     "name": "stdout",
     "output_type": "stream",
     "text": [
      "2\n"
     ]
    }
   ],
   "source": []
  },
  {
   "cell_type": "code",
   "execution_count": null,
   "id": "30d550c8",
   "metadata": {},
   "outputs": [],
   "source": []
  }
 ],
 "metadata": {
  "kernelspec": {
   "display_name": "Python 3 (ipykernel)",
   "language": "python",
   "name": "python3"
  },
  "language_info": {
   "codemirror_mode": {
    "name": "ipython",
    "version": 3
   },
   "file_extension": ".py",
   "mimetype": "text/x-python",
   "name": "python",
   "nbconvert_exporter": "python",
   "pygments_lexer": "ipython3",
   "version": "3.9.7"
  }
 },
 "nbformat": 4,
 "nbformat_minor": 5
}
