{
 "cells": [
  {
   "cell_type": "code",
   "execution_count": 10,
   "id": "4d533f1f",
   "metadata": {},
   "outputs": [],
   "source": [
    "import pandas as pd\n",
    "import numpy as np\n",
    "from numpy import argmax\n",
    "from numpy import sqrt\n",
    "import math\n",
    "from sklearn.ensemble import RandomForestClassifier\n",
    "from sklearn.model_selection import GridSearchCV\n",
    "from sklearn.model_selection import train_test_split\n",
    "from sklearn.metrics import accuracy_score, confusion_matrix, classification_report, roc_auc_score\n",
    "from sklearn.utils import resample\n",
    "from sklearn.metrics import roc_curve\n",
    "from sklearn.metrics import precision_recall_curve\n",
    "from sklearn.metrics import f1_score\n",
    "from sklearn.metrics import recall_score\n",
    "from sklearn.metrics import precision_score\n",
    "from sklearn.model_selection import KFold\n",
    "from matplotlib import pyplot\n",
    "from statistics import median\n",
    "import pickle\n",
    "import csv\n",
    "import warnings\n",
    "import datetime\n",
    "import multiprocess\n",
    "warnings.filterwarnings(\"ignore\")"
   ]
  },
  {
   "cell_type": "code",
   "execution_count": 11,
   "id": "9f1acd36",
   "metadata": {},
   "outputs": [],
   "source": [
    "project_list = ['heroku.csv', 'rails.csv', 'gradle.csv', 'jruby.csv', 'metasploit-framework.csv', 'cloudify.csv', 'vagrant.csv', 'rubinius.csv', 'open-build-service.csv', 'sonarqube.csv', 'loomio.csv', 'fog.csv', 'opal.csv', 'cloud_controller_ng.csv', 'puppet.csv', 'concerto.csv', 'sufia.csv', 'geoserver.csv', 'orbeon-forms.csv', 'graylog2-server.csv']"
   ]
  },
  {
   "cell_type": "code",
   "execution_count": 12,
   "id": "e22bbf3e",
   "metadata": {},
   "outputs": [],
   "source": [
    "def output_values(Y_data):\n",
    "    Y_t = []\n",
    "    for e in Y_data:\n",
    "        if e == 'passed':\n",
    "            Y_t.append(1)\n",
    "        else:\n",
    "            Y_t.append(0) \n",
    "    return Y_t"
   ]
  },
  {
   "cell_type": "code",
   "execution_count": 13,
   "id": "581aae17",
   "metadata": {},
   "outputs": [],
   "source": [
    "batch_total = 0"
   ]
  },
  {
   "cell_type": "code",
   "execution_count": 14,
   "id": "a97723f5",
   "metadata": {},
   "outputs": [],
   "source": [
    "def batch_bisect(batch_results):\n",
    "    global batch_total\n",
    "    \n",
    "    batch_total += 1\n",
    "    \n",
    "    if len(batch_results) == 1:\n",
    "        return\n",
    "    \n",
    "    if 0 in batch_results:\n",
    "        half_batch = len(batch_results)//2\n",
    "        batch_bisect(batch_results[:half_batch])\n",
    "        batch_bisect(batch_results[half_batch:])"
   ]
  },
  {
   "cell_type": "code",
   "execution_count": 15,
   "id": "a40b9d93",
   "metadata": {},
   "outputs": [],
   "source": [
    "def batch_stop_4(batch_results):\n",
    "    global batch_total\n",
    "    \n",
    "    batch_total += 1\n",
    "    \n",
    "    if len(batch_results) <= 4:\n",
    "        if 0 in batch_results:\n",
    "            batch_total += 4\n",
    "        return\n",
    "    \n",
    "    if 0 in batch_results:\n",
    "        half_batch = len(batch_results)//2\n",
    "        batch_stop_4(batch_results[:half_batch])\n",
    "        batch_stop_4(batch_results[half_batch:])"
   ]
  },
  {
   "cell_type": "code",
   "execution_count": 53,
   "id": "ec6cd21b",
   "metadata": {},
   "outputs": [],
   "source": [
    "def calculate_batches(p):\n",
    "    global batch_total\n",
    "    \n",
    "    batch_total = 0\n",
    "    \n",
    "    data = pd.read_csv('../data/exact_data/' + p)\n",
    "    y_test = output_values(data['tr_status'].tolist())\n",
    "    \n",
    "    total = len(y_test)\n",
    "    lines = []\n",
    "    \n",
    "    algorithms = ['BATCHBISECT', 'BATCH4', 'BATCHSTOP4']\n",
    "    batchsizelist = [1, 2, 4, 8, 16]\n",
    "    for alg in algorithms:\n",
    "        for batchsize in batchsizelist:\n",
    "\n",
    "            num_builds = 0\n",
    "            delay_list = []\n",
    "\n",
    "            if alg == 'BATCH4':\n",
    "                if batchsize != 4:\n",
    "                    continue\n",
    "                else:\n",
    "                    i = 0\n",
    "                    while i < total :\n",
    "                        if (total - i) > 4:\n",
    "                            batch = y_test[i:i+4]\n",
    "                        else:\n",
    "                            batch = y_test[i:total]\n",
    "\n",
    "                        delay_list.extend([batchsize-b for b in range(1, batchsize+1)])\n",
    "                        num_builds += 1                                    \n",
    "\n",
    "                        #if any build has failed in the batch, then whole batch will fail\n",
    "                        if 0 in batch:\n",
    "                            num_builds += 4\n",
    "\n",
    "                        i += 4\n",
    "\n",
    "            elif alg == 'BATCHBISECT':\n",
    "                i = 0\n",
    "                while i < total:\n",
    "                    if (total - i) > batchsize:\n",
    "                        batch = y_test[i:i+batchsize]\n",
    "                    else:\n",
    "                        batch = y_test[i:total]\n",
    "\n",
    "                    batch_total = 0\n",
    "\n",
    "                    delay_list.extend([batchsize-b for b in range(1, batchsize+1)])\n",
    "                    \n",
    "                    batch_bisect(batch)\n",
    "                    \n",
    "                    num_builds += batch_total\n",
    "\n",
    "                    i += batchsize\n",
    "\n",
    "            elif alg == 'BATCHSTOP4':\n",
    "\n",
    "                if batchsize <= 4:\n",
    "                    continue\n",
    "                else:\n",
    "\n",
    "                    i = 0\n",
    "                    while i < total:\n",
    "                        if (total - i) > batchsize:\n",
    "                            batch = y_test[i:i+batchsize]\n",
    "                        else:\n",
    "                            batch = y_test[i:total]\n",
    "\n",
    "                        batch_total = 0\n",
    "\n",
    "                        delay_list.extend([batchsize-b for b in range(1, batchsize+1)])\n",
    "\n",
    "                        batch_stop_4(batch)\n",
    "                        num_builds += batch_total\n",
    "\n",
    "                        i += batchsize\n",
    "            \n",
    "            lines.append([p, alg, batchsize, 100*num_builds/total, delay_list, median(delay_list), total])\n",
    "\n",
    "    return lines"
   ]
  },
  {
   "cell_type": "code",
   "execution_count": 54,
   "id": "7d5351ce",
   "metadata": {},
   "outputs": [],
   "source": [
    "results = []\n",
    "for p in project_list:\n",
    "    results.extend(calculate_batches(p))"
   ]
  },
  {
   "cell_type": "code",
   "execution_count": 56,
   "id": "f26c642f",
   "metadata": {},
   "outputs": [],
   "source": [
    "df = pd.DataFrame(results, columns=['project', 'algorithm', 'batch_size', 'builds_reqd', 'delay_list', 'median_delay', 'testall_size'])\n"
   ]
  },
  {
   "cell_type": "code",
   "execution_count": 57,
   "id": "3d66698c",
   "metadata": {},
   "outputs": [],
   "source": [
    "df.to_csv('gr_results.csv')"
   ]
  },
  {
   "cell_type": "code",
   "execution_count": 58,
   "id": "b8785679",
   "metadata": {},
   "outputs": [
    {
     "name": "stdout",
     "output_type": "stream",
     "text": [
      "20\n"
     ]
    }
   ],
   "source": [
    "print(len(project_list))"
   ]
  },
  {
   "cell_type": "code",
   "execution_count": null,
   "id": "4cf43d1f",
   "metadata": {},
   "outputs": [],
   "source": []
  }
 ],
 "metadata": {
  "kernelspec": {
   "display_name": "Python 3 (ipykernel)",
   "language": "python",
   "name": "python3"
  },
  "language_info": {
   "codemirror_mode": {
    "name": "ipython",
    "version": 3
   },
   "file_extension": ".py",
   "mimetype": "text/x-python",
   "name": "python",
   "nbconvert_exporter": "python",
   "pygments_lexer": "ipython3",
   "version": "3.9.7"
  }
 },
 "nbformat": 4,
 "nbformat_minor": 5
}
