{
 "cells": [
  {
   "cell_type": "code",
   "execution_count": 42,
   "id": "93e81a8c",
   "metadata": {},
   "outputs": [],
   "source": [
    "import pandas as pd\n",
    "import sys\n",
    "import csv\n",
    "from statistics import median"
   ]
  },
  {
   "cell_type": "code",
   "execution_count": 43,
   "id": "a320a14f",
   "metadata": {},
   "outputs": [],
   "source": [
    "batchsizes = [1,2,4,8,16]"
   ]
  },
  {
   "cell_type": "code",
   "execution_count": 44,
   "id": "d9c3366a",
   "metadata": {},
   "outputs": [],
   "source": [
    "data = pd.read_csv('ssr_final_results.csv')"
   ]
  },
  {
   "cell_type": "code",
   "execution_count": 45,
   "id": "ddd87ce9",
   "metadata": {},
   "outputs": [],
   "source": [
    "data['project_reqd_builds'] = pd.to_numeric(data['project_reqd_builds'], downcast=\"float\", errors='coerce')\n",
    "data[\"project_missed_builds\"] = pd.to_numeric(data[\"project_missed_builds\"], downcast=\"float\", errors='coerce')\n",
    "data[\"project_saved_builds\"] = pd.to_numeric(data[\"project_saved_builds\"], downcast=\"float\", errors='coerce')\n",
    "data['batch_delays'] = pd.to_numeric(data[\"batch_delays\"], downcast=\"float\", errors='coerce')"
   ]
  },
  {
   "cell_type": "code",
   "execution_count": 46,
   "id": "afed1c51",
   "metadata": {},
   "outputs": [],
   "source": [
    "delay_avg = []\n",
    "delays = data['project_delays'].tolist()\n",
    "\n",
    "for i in delays:\n",
    "    if i == '[]':\n",
    "        delay_avg.append(0)\n",
    "    else:\n",
    "        row = i[1:-1].split(', ')\n",
    "        row = [int(x) for x in row]\n",
    "        delay_avg.append(sum(row))\n",
    "data['total_sbs_delay'] = delay_avg"
   ]
  },
  {
   "cell_type": "code",
   "execution_count": 47,
   "id": "2e051807",
   "metadata": {},
   "outputs": [],
   "source": [
    "data['total_batch_delay'] = data['batch_delays'].tolist()"
   ]
  },
  {
   "cell_type": "code",
   "execution_count": 48,
   "id": "06289ed3",
   "metadata": {},
   "outputs": [],
   "source": [
    "project_list = set(data['project'].tolist())\n",
    "batching_alg = set(data['algorithm'].tolist())"
   ]
  },
  {
   "cell_type": "code",
   "execution_count": 49,
   "id": "27c5f543",
   "metadata": {},
   "outputs": [
    {
     "data": {
      "text/plain": [
       "84"
      ]
     },
     "execution_count": 49,
     "metadata": {},
     "output_type": "execute_result"
    }
   ],
   "source": [
    "result_file = open('total_gfm_ssr_results.csv', 'w')\n",
    "res_headers = ['project', 'method', 'algorithm', 'batch_size', 'builds_reqd', 'batch_delays', 'sbs_delays', 'confidence']\n",
    "res_writer = csv.writer(result_file)\n",
    "res_writer.writerow(res_headers)"
   ]
  },
  {
   "cell_type": "code",
   "execution_count": 51,
   "id": "66f8c95a",
   "metadata": {},
   "outputs": [],
   "source": [
    "for p in project_list:\n",
    "    p_name = p + '.csv'\n",
    "    alg_scores = {}\n",
    "\n",
    "    p_data = data[data['project'] == p]\n",
    "    #print(p_data)\n",
    "    for alg in batching_alg:\n",
    "\n",
    "        alg_data = p_data[p_data['algorithm'] == alg]\n",
    "        #print(alg_data)\n",
    "\n",
    "        for b in batchsizes:\n",
    "\n",
    "            if alg == 'BATCH4':\n",
    "                if b != 4:\n",
    "                    continue\n",
    "\n",
    "            if alg == 'BATCHSTOP4':\n",
    "                if b < 4:\n",
    "                    continue\n",
    "\n",
    "            batch_data = alg_data[ alg_data['batch_size'] == b]\n",
    "\n",
    "            reqd_list = batch_data['project_reqd_builds'].tolist()\n",
    "            delay_list = batch_data['total_sbs_delay'].tolist()\n",
    "            batch_delay_list = batch_data['total_batch_delay'].tolist()\n",
    "            min_distance = sys.maxsize\n",
    "\n",
    "            best = [p_name, 'ssr', alg, b, 0, 0, 0, 0]\n",
    "            best_i = 0\n",
    "\n",
    "            for i in range(len(reqd_list)):\n",
    "                distance = ((reqd_list[i]**2)+((delay_list[i]+batch_delay_list[i])**2))**0.5\n",
    "                if distance < min_distance:\n",
    "                    best[4] = reqd_list[i]\n",
    "                    best[5] = batch_delay_list[i]\n",
    "                    best[6] = delay_list[i]\n",
    "                    best[7] = i+2\n",
    "                    best_i = i\n",
    "                    min_distance = distance\n",
    "\n",
    "            res_writer.writerow(best)"
   ]
  },
  {
   "cell_type": "code",
   "execution_count": null,
   "id": "cfe5ce82",
   "metadata": {},
   "outputs": [],
   "source": []
  },
  {
   "cell_type": "code",
   "execution_count": null,
   "id": "75122878",
   "metadata": {},
   "outputs": [],
   "source": []
  },
  {
   "cell_type": "code",
   "execution_count": null,
   "id": "3fbc2281",
   "metadata": {},
   "outputs": [],
   "source": []
  },
  {
   "cell_type": "code",
   "execution_count": null,
   "id": "f82c4862",
   "metadata": {},
   "outputs": [],
   "source": []
  },
  {
   "cell_type": "code",
   "execution_count": null,
   "id": "3f0a9efc",
   "metadata": {},
   "outputs": [],
   "source": []
  },
  {
   "cell_type": "code",
   "execution_count": null,
   "id": "5aa4a0b7",
   "metadata": {},
   "outputs": [],
   "source": []
  },
  {
   "cell_type": "code",
   "execution_count": 54,
   "id": "b24eebbe",
   "metadata": {},
   "outputs": [
    {
     "data": {
      "text/plain": [
       "86"
      ]
     },
     "execution_count": 54,
     "metadata": {},
     "output_type": "execute_result"
    }
   ],
   "source": [
    "result_file = open('ssr_sbs_delay_lists.csv', 'w')\n",
    "res_headers = ['project', 'method', 'algorithm', 'batch_size', 'median_sbs_delays', 'median_batch_delays', 'confidence']\n",
    "res_writer = csv.writer(result_file)\n",
    "res_writer.writerow(res_headers)"
   ]
  },
  {
   "cell_type": "code",
   "execution_count": 55,
   "id": "392b6b44",
   "metadata": {},
   "outputs": [],
   "source": [
    "lines = []"
   ]
  },
  {
   "cell_type": "code",
   "execution_count": 59,
   "id": "527bec72",
   "metadata": {},
   "outputs": [
    {
     "name": "stdout",
     "output_type": "stream",
     "text": [
      "['jruby.csv', 'ssr', 'BATCH4', 4, '[2, 7, 7, 4, 6, 3, 9, 4, 5, 8, 7, 6, 4, 3, 5, 7, 9, 8, 3, 9, 9]', 9]\n",
      "['geoserver.csv', 'ssr', 'BATCH4', 4, '[3, 5, 2, 4, 2, 3, 5, 2, 5]', 5]\n",
      "['heroku.csv', 'ssr', 'BATCH4', 4, '[13, 3, 5]', 19]\n",
      "['cloudify.csv', 'ssr', 'BATCH4', 4, '[6, 16, 3, 5, 2, 12, 7, 9, 14, 5]', 18]\n",
      "['graylog2-server.csv', 'ssr', 'BATCH4', 4, '[13, 4, 15, 19, 2, 4, 4]', 20]\n",
      "['orbeon-forms.csv', 'ssr', 'BATCH4', 4, '[4, 5, 8, 9, 7, 4, 8, 2, 3, 6, 4, 6, 2]', 10]\n",
      "['gradle.csv', 'ssr', 'BATCH4', 4, '[4, 2, 7, 11, 10, 7, 3, 6, 13, 5, 11, 10, 6, 4, 9]', 15]\n",
      "['puppet.csv', 'ssr', 'BATCH4', 4, '[2, 4]', 16]\n",
      "['concerto.csv', 'ssr', 'BATCH4', 4, '[10, 13, 9, 12, 9, 12, 3, 2, 7]', 14]\n",
      "['rubinius.csv', 'ssr', 'BATCH4', 4, '[5, 5, 2, 6, 2, 6, 3, 5, 3, 3, 5, 4]', 8]\n",
      "['sufia.csv', 'ssr', 'BATCH4', 4, '[6]', 19]\n",
      "['cloud_controller_ng.csv', 'ssr', 'BATCH4', 4, '[4, 3, 2, 2, 4, 8, 8, 7, 2, 5, 5, 5, 7]', 8]\n",
      "['loomio.csv', 'ssr', 'BATCH4', 4, '[4, 5, 7, 7, 9, 2, 8, 8, 5]', 10]\n",
      "['vagrant.csv', 'ssr', 'BATCH4', 4, '[9, 7, 6, 15]', 17]\n",
      "['open-build-service.csv', 'ssr', 'BATCH4', 4, '[4, 4, 2, 4, 15, 2, 18, 10, 6, 12, 6, 4, 2, 2, 5, 9, 13, 2, 2, 9, 13, 18, 5, 7]', 18]\n",
      "['opal.csv', 'ssr', 'BATCH4', 4, '[3, 3, 5, 4, 3, 5]', 12]\n",
      "['sonarqube.csv', 'ssr', 'BATCH4', 4, '[4, 8, 7, 3, 2, 6, 7, 10, 7, 4, 10, 2, 10, 6, 10]', 13]\n",
      "['metasploit-framework.csv', 'ssr', 'BATCH4', 4, '[5, 8, 2, 8, 11, 8, 10, 9, 3, 8, 4, 10, 17, 7]', 18]\n",
      "['rails.csv', 'ssr', 'BATCH4', 4, '[6, 9, 4, 9, 4, 8, 3, 3, 2, 2, 4, 8, 8, 5, 6, 8, 4, 9, 2, 3, 5, 8, 4, 7, 8, 3, 6, 5, 7, 4, 8, 7, 3, 9, 6, 2, 8, 3, 6, 5, 8, 7, 8, 3, 2, 6, 9, 3, 9, 2, 4, 8, 3, 5, 5, 2, 6, 8, 2, 8, 2, 6, 6, 3, 6, 8, 7, 5, 2, 6, 5, 3, 5, 3, 5, 2, 8, 3, 5, 9, 2]', 9]\n",
      "['fog.csv', 'ssr', 'BATCH4', 4, '[3, 7, 3, 4, 10, 3, 9, 6, 4, 10]', 10]\n"
     ]
    }
   ],
   "source": [
    "for p in project_list:\n",
    "    p_name = p + '.csv'\n",
    "    alg_scores = {}\n",
    "\n",
    "    p_data = data[data['project'] == p]\n",
    "    #print(p_data)\n",
    "    for alg in batching_alg:\n",
    "\n",
    "        alg_data = p_data[p_data['algorithm'] == alg]\n",
    "        #print(alg_data)\n",
    "\n",
    "        for b in batchsizes:\n",
    "\n",
    "            if alg == 'BATCH4':\n",
    "                if b != 4:\n",
    "                    continue\n",
    "\n",
    "            if alg == 'BATCHSTOP4':\n",
    "                if b < 4:\n",
    "                    continue\n",
    "\n",
    "            batch_data = alg_data[ alg_data['batch_size'] == b]\n",
    "\n",
    "            reqd_list = batch_data['project_reqd_builds'].tolist()\n",
    "            delay_list = batch_data['total_sbs_delay'].tolist()\n",
    "            batch_delay_list = batch_data['total_batch_delay'].tolist()\n",
    "            ssr_delays = batch_data['project_delays'].tolist()\n",
    "            min_distance = sys.maxsize\n",
    "\n",
    "            best = [p_name, 'ssr', alg, b, 0, 0]\n",
    "            best_i = 0\n",
    "\n",
    "            for i in range(len(reqd_list)):\n",
    "                distance = ((reqd_list[i]**2)+((delay_list[i]+batch_delay_list[i])**2))**0.5\n",
    "                if distance < min_distance:\n",
    "                    best[4] = ssr_delays[i]\n",
    "                    #best[5] = median(ssr_delays[i])\n",
    "                    best[5] = i+2\n",
    "                    best_i = i\n",
    "                    min_distance = distance\n",
    "\n",
    "            lines.append(best)\n",
    "            if alg == 'BATCH4':\n",
    "                print(best)"
   ]
  },
  {
   "cell_type": "code",
   "execution_count": 60,
   "id": "44e18320",
   "metadata": {},
   "outputs": [],
   "source": [
    "ssr_delay = pd.DataFrame(lines, columns=['project', 'method', 'algorithm', 'batch_size', 'sbs_delays', 'confidence'])"
   ]
  },
  {
   "cell_type": "code",
   "execution_count": 62,
   "id": "f91c2520",
   "metadata": {},
   "outputs": [],
   "source": [
    "ssr_delay.to_csv('ssr_sbs_delay_list.csv')"
   ]
  },
  {
   "cell_type": "code",
   "execution_count": null,
   "id": "b6ee3926",
   "metadata": {},
   "outputs": [],
   "source": []
  }
 ],
 "metadata": {
  "kernelspec": {
   "display_name": "Python 3 (ipykernel)",
   "language": "python",
   "name": "python3"
  },
  "language_info": {
   "codemirror_mode": {
    "name": "ipython",
    "version": 3
   },
   "file_extension": ".py",
   "mimetype": "text/x-python",
   "name": "python",
   "nbconvert_exporter": "python",
   "pygments_lexer": "ipython3",
   "version": "3.9.7"
  }
 },
 "nbformat": 4,
 "nbformat_minor": 5
}
