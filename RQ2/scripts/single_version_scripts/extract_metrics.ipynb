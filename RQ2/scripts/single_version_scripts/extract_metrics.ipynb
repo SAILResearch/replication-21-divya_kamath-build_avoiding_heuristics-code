{
 "cells": [
  {
   "cell_type": "code",
   "execution_count": 23,
   "id": "5279e188",
   "metadata": {},
   "outputs": [],
   "source": [
    "from github import Github\n",
    "import requests\n",
    "import csv\n",
    "import pandas as pd\n",
    "import time\n",
    "from datetime import datetime\n",
    "from pprint import pprint\n",
    "from dateutil.relativedelta import relativedelta "
   ]
  },
  {
   "cell_type": "code",
   "execution_count": 24,
   "id": "c441fd4b",
   "metadata": {},
   "outputs": [],
   "source": [
    "project_list = ['vagrant.csv', 'puppet.csv', 'graylog2-server.csv', 'heroku.csv', 'rails.csv', 'gradle.csv', 'jruby.csv', 'metasploit-framework.csv', 'cloudify.csv', 'rubinius.csv', 'open-build-service.csv', 'sonarqube.csv', 'loomio.csv', 'fog.csv', 'opal.csv', 'cloud_controller_ng.csv', 'concerto.csv', 'sufia.csv', 'geoserver.csv', 'orbeon-forms.csv']\n"
   ]
  },
  {
   "cell_type": "code",
   "execution_count": 28,
   "id": "73e9fc4a",
   "metadata": {},
   "outputs": [],
   "source": [
    "dataset_path = '../../../data/exact_data/'\n",
    "metrics_path = 'project_metrics/'"
   ]
  },
  {
   "cell_type": "code",
   "execution_count": 29,
   "id": "dda47aed",
   "metadata": {},
   "outputs": [],
   "source": [
    "feature_headers = ['version', 'tr_build_id', 'git_diff_src_churn', 'gh_num_commit_comments', 'git_diff_test_churn', 'gh_diff_files_added', 'gh_diff_files_deleted', 'gh_diff_files_modified', 'git_num_all_built_commits', 'gh_num_commits_on_files_touched', 'git_num_all_built_commits', 'tr_status']"
   ]
  },
  {
   "cell_type": "code",
   "execution_count": 37,
   "id": "98279b96",
   "metadata": {},
   "outputs": [
    {
     "name": "stdout",
     "output_type": "stream",
     "text": [
      "Processing cloud_controller_ng\n"
     ]
    }
   ],
   "source": [
    "for project in project_list[:1]:\n",
    "    name = project.split('.')[0]\n",
    "    metrics_name = name + '_metrics.csv'\n",
    "    \n",
    "    csv_file = pd.read_csv(dataset_path + project, on_bad_lines='skip')\n",
    "    print('Processing {}'.format(name))\n",
    "    \n",
    "    writefile = open(metrics_path + metrics_name, 'w')\n",
    "    writer = csv.writer(writefile)\n",
    "    writer.writerow(feature_headers)\n",
    "    \n",
    "    for c_id in range(len(csv_file['tr_original_commit'])):\n",
    "        features = []\n",
    "        commit = csv_file['tr_original_commit'][c_id]\n",
    "        if commit != '':\n",
    "            features.append(csv_file['version'][c_id])\n",
    "            features.append(csv_file['tr_build_id'][c_id])\n",
    "            features.append(csv_file['git_diff_src_churn'][c_id])\n",
    "            features.append(csv_file['gh_num_commit_comments'][c_id])\n",
    "            features.append(csv_file['git_diff_test_churn'][c_id])\n",
    "            features.append(csv_file['gh_diff_files_added'][c_id])\n",
    "            features.append(csv_file['gh_diff_files_deleted'][c_id])\n",
    "            features.append(csv_file['gh_diff_files_modified'][c_id])\n",
    "            features.append(csv_file['git_num_all_built_commits'][c_id])\n",
    "            features.append(csv_file['gh_num_commits_on_files_touched'][c_id])\n",
    "            features.append(csv_file['git_num_all_built_commits'][c_id])\n",
    "            features.append(csv_file['tr_duration'][c_id])\n",
    "            features.append(csv_file['tr_status'][c_id])\n",
    "        \n",
    "        writer.writerow(features)"
   ]
  },
  {
   "cell_type": "code",
   "execution_count": 38,
   "id": "905173a3",
   "metadata": {},
   "outputs": [
    {
     "name": "stdout",
     "output_type": "stream",
     "text": [
      "cloud_controller_ng.csv                2397         2399\n",
      "cloudify.csv                           4813         4815\n",
      "concerto.csv                           2299         2301\n",
      "fog.csv                                2783         2785\n",
      "geoserver.csv                          2181         2183\n",
      "gradle.csv                             3567         3569\n",
      "graylog2-server.csv                    2108         2110\n",
      "heroku.csv                             2081         2083\n",
      "jruby.csv                              8273         8275\n",
      "loomio.csv                             2922         2924\n",
      "metasploit-framework.csv               7600         7602\n",
      "opal.csv                               2593         2595\n",
      "open-build-service.csv                 3716         3718\n",
      "orbeon-forms.csv                       2164         2166\n",
      "puppet.csv                             2345         2347\n",
      "rails.csv                             14131        14133\n",
      "rubinius.csv                           4003         4005\n",
      "sonarqube.csv                          3161         3163\n",
      "sufia.csv                              2257         2259\n",
      "vagrant.csv                            4047         4049\n"
     ]
    }
   ],
   "source": [
    "project_list.sort()\n",
    "for p in project_list:\n",
    "    data = pd.read_csv(metrics_path + p.split('.')[0] + '_metrics.csv')\n",
    "    actual_data = pd.read_csv('../../../data/full_data/' + p)\n",
    "    print('{:30} {:12} {:12}'.format(p, len(data), len(actual_data)))"
   ]
  },
  {
   "cell_type": "code",
   "execution_count": 14,
   "id": "faff267e",
   "metadata": {},
   "outputs": [
    {
     "data": {
      "text/plain": [
       "2080"
      ]
     },
     "execution_count": 14,
     "metadata": {},
     "output_type": "execute_result"
    }
   ],
   "source": [
    "len(data)"
   ]
  },
  {
   "cell_type": "code",
   "execution_count": null,
   "id": "a44f37ae",
   "metadata": {},
   "outputs": [],
   "source": []
  }
 ],
 "metadata": {
  "kernelspec": {
   "display_name": "Python 3 (ipykernel)",
   "language": "python",
   "name": "python3"
  },
  "language_info": {
   "codemirror_mode": {
    "name": "ipython",
    "version": 3
   },
   "file_extension": ".py",
   "mimetype": "text/x-python",
   "name": "python",
   "nbconvert_exporter": "python",
   "pygments_lexer": "ipython3",
   "version": "3.9.7"
  }
 },
 "nbformat": 4,
 "nbformat_minor": 5
}
