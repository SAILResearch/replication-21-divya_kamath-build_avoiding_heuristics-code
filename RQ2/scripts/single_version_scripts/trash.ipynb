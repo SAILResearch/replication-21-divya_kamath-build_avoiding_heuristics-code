{
 "cells": [
  {
   "cell_type": "code",
   "execution_count": 9,
   "id": "2e2cd214",
   "metadata": {},
   "outputs": [],
   "source": [
    "import pandas as pd\n",
    "import numpy as np\n",
    "import math\n",
    "from sklearn.ensemble import RandomForestClassifier\n",
    "from sklearn.model_selection import GridSearchCV\n",
    "from sklearn.model_selection import train_test_split\n",
    "from sklearn.metrics import accuracy_score, confusion_matrix, classification_report\n",
    "import pickle\n",
    "import csv\n",
    "import multiprocess\n",
    "from matplotlib import pyplot"
   ]
  },
  {
   "cell_type": "code",
   "execution_count": 11,
   "id": "37ed5441",
   "metadata": {},
   "outputs": [],
   "source": [
    "pkl_file = 'rq3_cloudify.csv_aici_model.pkl'\n",
    "with open(pkl_file, 'rb') as load_file:\n",
    "    model = pickle.load(load_file)\n",
    "    train_data = pickle.load(load_file)"
   ]
  },
  {
   "cell_type": "code",
   "execution_count": 12,
   "id": "b6641fb9",
   "metadata": {},
   "outputs": [],
   "source": [
    "# rails = 'rq3_rails.csv_aici_model.pkl'\n",
    "# with open(rails, 'rb') as load_file:\n",
    "#     model = pickle.load(load_file)\n",
    "#     train_data = pickle.load(load_file)"
   ]
  },
  {
   "cell_type": "code",
   "execution_count": 13,
   "id": "f963c264",
   "metadata": {},
   "outputs": [
    {
     "name": "stdout",
     "output_type": "stream",
     "text": [
      "Feature: 0, Score: 0.11503\n",
      "Feature: 1, Score: 0.00000\n",
      "Feature: 2, Score: 0.02485\n",
      "Feature: 3, Score: 0.01255\n",
      "Feature: 4, Score: 0.01233\n",
      "Feature: 5, Score: 0.06465\n",
      "Feature: 6, Score: 0.02096\n",
      "Feature: 7, Score: 0.48690\n",
      "Feature: 8, Score: 0.02307\n",
      "Feature: 9, Score: 0.23966\n"
     ]
    },
    {
     "data": {
      "image/png": "[encoded data removed]",
      "text/plain": [
       "<Figure size 432x288 with 1 Axes>"
      ]
     },
     "metadata": {
      "needs_background": "light"
     },
     "output_type": "display_data"
    }
   ],
   "source": [
    "importance = model.feature_importances_\n",
    "# summarize feature importance\n",
    "for i,v in enumerate(importance):\n",
    "    print('Feature: %0d, Score: %.5f' % (i,v))\n",
    "# plot feature importance\n",
    "pyplot.bar([x for x in range(len(importance))], importance)\n",
    "pyplot.show()"
   ]
  },
  {
   "cell_type": "code",
   "execution_count": 14,
   "id": "c3b533bb",
   "metadata": {},
   "outputs": [],
   "source": [
    "important_features_dict = {}\n",
    "for idx, val in enumerate(model.feature_importances_):\n",
    "    important_features_dict[idx] = val\n",
    "\n",
    "important_features_list = sorted(important_features_dict,\n",
    "                                 key=important_features_dict.get,\n",
    "                                 reverse=True)"
   ]
  },
  {
   "cell_type": "code",
   "execution_count": 15,
   "id": "027750e7",
   "metadata": {},
   "outputs": [
    {
     "data": {
      "text/plain": [
       "[7, 9, 0, 5, 2, 8, 6, 3, 4, 1]"
      ]
     },
     "execution_count": 15,
     "metadata": {},
     "output_type": "execute_result"
    }
   ],
   "source": [
    "important_features_list"
   ]
  },
  {
   "cell_type": "code",
   "execution_count": null,
   "id": "9089e7d3",
   "metadata": {},
   "outputs": [],
   "source": []
  }
 ],
 "metadata": {
  "kernelspec": {
   "display_name": "Python 3 (ipykernel)",
   "language": "python",
   "name": "python3"
  },
  "language_info": {
   "codemirror_mode": {
    "name": "ipython",
    "version": 3
   },
   "file_extension": ".py",
   "mimetype": "text/x-python",
   "name": "python",
   "nbconvert_exporter": "python",
   "pygments_lexer": "ipython3",
   "version": "3.9.7"
  }
 },
 "nbformat": 4,
 "nbformat_minor": 5
}
