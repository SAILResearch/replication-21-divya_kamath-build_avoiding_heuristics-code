{
 "cells": [
  {
   "cell_type": "code",
   "execution_count": 1,
   "id": "1b0db472",
   "metadata": {},
   "outputs": [],
   "source": [
    "import pandas as pd\n",
    "from statistics import mean, median\n",
    "import sys\n",
    "import pprint\n",
    "import pickle"
   ]
  },
  {
   "cell_type": "code",
   "execution_count": 2,
   "id": "d9d2bb17",
   "metadata": {},
   "outputs": [],
   "source": [
    "def output_values(Y_data):\n",
    "    Y_t = []\n",
    "    for e in Y_data:\n",
    "        if e == 'passed':\n",
    "            Y_t.append(1)\n",
    "        else:\n",
    "            Y_t.append(0) \n",
    "    return Y_t"
   ]
  },
  {
   "cell_type": "code",
   "execution_count": 3,
   "id": "892819ee",
   "metadata": {},
   "outputs": [],
   "source": [
    "def get_first_failures(df):\n",
    "    \n",
    "    results = df['tr_status'].tolist()\n",
    "    length = len(results)\n",
    "    verdict = ['keep']\n",
    "    prev = results[0]\n",
    "    \n",
    "    for i in range(1, length):\n",
    "        if results[i] == 0:\n",
    "            if prev == 0:\n",
    "                verdict.append('discard')\n",
    "                #print(i+1)\n",
    "            else:\n",
    "                verdict.append('keep')\n",
    "        else:\n",
    "            verdict.append('keep')\n",
    "        prev = results[i]\n",
    "    \n",
    "    df['verdict'] = verdict\n",
    "    df = df[ df['verdict'] == 'keep' ]\n",
    "    df.drop('verdict', inplace=True, axis=1)\n",
    "    return df"
   ]
  },
  {
   "cell_type": "code",
   "execution_count": 4,
   "id": "b64d2018",
   "metadata": {},
   "outputs": [],
   "source": [
    "def str_to_list(s):\n",
    "    if s == '[]':\n",
    "        return [0]\n",
    "    l = s[1:-1].split(', ')\n",
    "    l = [int(x) for x in l]\n",
    "    return l"
   ]
  },
  {
   "cell_type": "code",
   "execution_count": 5,
   "id": "c514f028",
   "metadata": {},
   "outputs": [],
   "source": [
    "def separate_versions(results):\n",
    "    version_dfs = []\n",
    "    \n",
    "    for i in range(1,11):\n",
    "        ver = results[ results['version']==i]\n",
    "        version_dfs.append(ver)\n",
    "    return version_dfs"
   ]
  },
  {
   "cell_type": "code",
   "execution_count": 26,
   "id": "dc481fbe",
   "metadata": {},
   "outputs": [],
   "source": [
    "def start_result_collection(filename):\n",
    "    results = pd.read_csv(filename)\n",
    "    \n",
    "    projects = set(results['project'].tolist())\n",
    "    all_versions = pd.DataFrame()\n",
    "        \n",
    "    for p in projects:\n",
    "        \n",
    "        p_data = results[ results['project']==p]\n",
    "        pframe = pd.DataFrame()\n",
    "        \n",
    "        versions = separate_versions(p_data)\n",
    "        \n",
    "        for start in range(0,10):\n",
    "            if len(versions[start]) > 0:\n",
    "                pframe = versions[start]\n",
    "                break\n",
    "        \n",
    "        for x in range(len(pframe)):\n",
    "            row = pframe.iloc[x]\n",
    "            \n",
    "            alg = row['algorithm']\n",
    "            b = row['batch_size']\n",
    "            conf = row['confidence']\n",
    "            \n",
    "            final_proj_delays = str_to_list(row['project_delays'])\n",
    "            final_batch_median = str_to_list(row['batch_median'])\n",
    "            final_ci = str_to_list(row['ci'])\n",
    "            \n",
    "            \n",
    "            for i in range(start+1,10):\n",
    "                next_ver = versions[i]\n",
    "                new_df = next_ver[ (next_ver['algorithm']==alg) & (next_ver['batch_size']==b) & (next_ver['confidence']==conf)]\n",
    "                \n",
    "                if len(new_df) > 0:\n",
    "                    new_row = new_df.iloc[0]\n",
    "                else:\n",
    "                    continue\n",
    "                \n",
    "                total_reqd_builds = (row['project_reqd_builds']*row['testall_size']) + (new_row['project_reqd_builds']*new_row['testall_size'])\n",
    "                total_missed_builds = (row['project_missed_builds']*row['testall_size']) + (new_row['project_missed_builds']*new_row['testall_size'])\n",
    "                total_saved_builds = (row['project_saved_builds']*row['testall_size']) + (new_row['project_saved_builds']*new_row['testall_size'])\n",
    "                total_size = row['testall_size'] + new_row['testall_size']\n",
    "                \n",
    "                row['project_reqd_builds'] = total_reqd_builds/total_size\n",
    "                row['project_missed_builds'] = total_missed_builds/total_size\n",
    "                row['project_saved_builds'] = total_saved_builds/total_size\n",
    "                row['testall_size'] = total_size\n",
    "                \n",
    "#                 print(len(final_ci))\n",
    "#                 print(len(str_to_list(new_row['ci'])))\n",
    "#                 print('----')\n",
    "                \n",
    "                final_proj_delays.extend(str_to_list(new_row['project_delays']))\n",
    "                final_batch_median.extend(str_to_list(new_row['batch_median']))\n",
    "                final_ci.extend(str_to_list(new_row['ci']))\n",
    "                \n",
    "#                 print(len(final_ci))\n",
    "#                 print('====')\n",
    "                row['project_delays'] = final_proj_delays\n",
    "                row['batch_median'] = final_batch_median\n",
    "                row['ci'] = final_ci\n",
    "                \n",
    "                \n",
    "            pframe.iloc[x] = row\n",
    "        all_versions = all_versions.append(pframe)\n",
    "    \n",
    "    return all_versions"
   ]
  },
  {
   "cell_type": "code",
   "execution_count": 27,
   "id": "b6c55c3b",
   "metadata": {},
   "outputs": [],
   "source": [
    "filenames = ['cvh_models.csv', 'lfs.csv', 'results1.csv', 'results2.csv', 'gradle_models.csv', 'rubinius_models.csv']\n",
    "file_root = '../version_results/'\n",
    "dfs = []\n",
    "\n",
    "for file in filenames:\n",
    "    dfs.append(start_result_collection(file_root+file))\n",
    "\n",
    "#combining dfs\n",
    "final_df = pd.DataFrame()\n",
    "final_df = dfs[0]\n",
    "\n",
    "for i in range(1, len(dfs)):\n",
    "    final_df = final_df.append(dfs[i])\n",
    "\n",
    "final_df.to_csv('final_results.csv')"
   ]
  },
  {
   "cell_type": "code",
   "execution_count": 34,
   "id": "cde01206",
   "metadata": {},
   "outputs": [],
   "source": [
    "final_df = final_df.loc[:, ~final_df.columns.str.contains('^Unnamed')]"
   ]
  },
  {
   "cell_type": "code",
   "execution_count": 37,
   "id": "3b3525b8",
   "metadata": {},
   "outputs": [],
   "source": [
    "final_df.to_csv('final_results.csv')"
   ]
  },
  {
   "cell_type": "code",
   "execution_count": 38,
   "id": "1eebde8d",
   "metadata": {},
   "outputs": [],
   "source": [
    "short = pd.DataFrame()\n",
    "short = final_df"
   ]
  },
  {
   "cell_type": "code",
   "execution_count": 41,
   "id": "0a3621d0",
   "metadata": {},
   "outputs": [
    {
     "name": "stderr",
     "output_type": "stream",
     "text": [
      "/opt/homebrew/Caskroom/miniforge/base/envs/new_env/lib/python3.9/site-packages/pandas/core/frame.py:4906: SettingWithCopyWarning: \n",
      "A value is trying to be set on a copy of a slice from a DataFrame\n",
      "\n",
      "See the caveats in the documentation: https://pandas.pydata.org/pandas-docs/stable/user_guide/indexing.html#returning-a-view-versus-a-copy\n",
      "  return super().drop(\n"
     ]
    }
   ],
   "source": [
    "short.drop('ci', inplace=True, axis=1)"
   ]
  },
  {
   "cell_type": "code",
   "execution_count": 43,
   "id": "de03432c",
   "metadata": {},
   "outputs": [],
   "source": [
    "final_df.to_csv('int_results.csv')"
   ]
  },
  {
   "cell_type": "code",
   "execution_count": null,
   "id": "76ad9a74",
   "metadata": {},
   "outputs": [],
   "source": []
  }
 ],
 "metadata": {
  "kernelspec": {
   "display_name": "Python 3 (ipykernel)",
   "language": "python",
   "name": "python3"
  },
  "language_info": {
   "codemirror_mode": {
    "name": "ipython",
    "version": 3
   },
   "file_extension": ".py",
   "mimetype": "text/x-python",
   "name": "python",
   "nbconvert_exporter": "python",
   "pygments_lexer": "ipython3",
   "version": "3.9.7"
  }
 },
 "nbformat": 4,
 "nbformat_minor": 5
}
