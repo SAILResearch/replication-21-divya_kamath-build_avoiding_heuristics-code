{
 "cells": [
  {
   "cell_type": "code",
   "execution_count": 26,
   "id": "233b7beb",
   "metadata": {},
   "outputs": [],
   "source": [
    "import pandas as pd\n",
    "from statistics import mean, median\n",
    "import sys\n",
    "import pprint\n",
    "import pickle"
   ]
  },
  {
   "cell_type": "code",
   "execution_count": 27,
   "id": "b6daf0bf",
   "metadata": {},
   "outputs": [],
   "source": [
    "pp = pprint.PrettyPrinter(indent=4)"
   ]
  },
  {
   "cell_type": "code",
   "execution_count": 28,
   "id": "71ba7b75",
   "metadata": {},
   "outputs": [],
   "source": [
    "batch_sizes = [2, 4, 8, 16]\n",
    "batching_alg = ['BATCH4', 'BATCHBISECT', 'BATCHSTOP4']\n",
    "projects = []\n",
    "num = 1"
   ]
  },
  {
   "cell_type": "code",
   "execution_count": 29,
   "id": "58d5bf27",
   "metadata": {},
   "outputs": [],
   "source": [
    "def get_results(results):\n",
    "    l = []\n",
    "    \n",
    "    for r in results:\n",
    "        if r == 'passed':\n",
    "            l.append(1)\n",
    "        else:\n",
    "            l.append(0)\n",
    "            \n",
    "    return l"
   ]
  },
  {
   "cell_type": "code",
   "execution_count": 30,
   "id": "5e5848d3",
   "metadata": {},
   "outputs": [],
   "source": [
    "def str_to_list(s):\n",
    "    if s == '[]':\n",
    "        return [0]\n",
    "    l = s[1:-1].split(', ')\n",
    "    l = [int(x) for x in l]\n",
    "    return l"
   ]
  },
  {
   "cell_type": "code",
   "execution_count": 31,
   "id": "3e037788",
   "metadata": {},
   "outputs": [],
   "source": [
    "def get_empty_library():\n",
    "    global projects\n",
    "    ssr_delay_lib = {}\n",
    "    \n",
    "    for p in projects:\n",
    "        ssr_delay_lib[p] = {}\n",
    "        for v in range(1, 11):\n",
    "            ssr_delay_lib[p][v] = {'BATCHSTOP4':{4:{}, 8:{}, 16:{}}, 'BATCH4':{4:{}}, 'BATCHBISECT':{1:{}, 2:{}, 4:{}, 8:{}, 16:{}}}\n",
    "    for p in ssr_delay_lib:\n",
    "        for ver in ssr_delay_lib[p]:\n",
    "            for alg in ssr_delay_lib[p][ver]:\n",
    "                for b in ssr_delay_lib[p][ver][alg]:\n",
    "                    for i in range(2,21):\n",
    "                        ssr_delay_lib[p][ver][alg][b][i] = {}\n",
    "    \n",
    "    return ssr_delay_lib\n",
    "        "
   ]
  },
  {
   "cell_type": "code",
   "execution_count": 32,
   "id": "4afcc266",
   "metadata": {},
   "outputs": [],
   "source": [
    "def output_values(Y_data):\n",
    "    Y_t = []\n",
    "    for e in Y_data:\n",
    "        if e == 'passed':\n",
    "            Y_t.append(1)\n",
    "        else:\n",
    "            Y_t.append(0) \n",
    "    return Y_t"
   ]
  },
  {
   "cell_type": "code",
   "execution_count": 33,
   "id": "fa50fb5a",
   "metadata": {},
   "outputs": [],
   "source": [
    "def get_first_failures(df):\n",
    "    \n",
    "    results = df['tr_status'].tolist()\n",
    "    length = len(results)\n",
    "    verdict = ['keep']\n",
    "    prev = results[0]\n",
    "    \n",
    "    for i in range(1, length):\n",
    "        if results[i] == 0:\n",
    "            if prev == 0:\n",
    "                verdict.append('discard')\n",
    "                #print(i+1)\n",
    "            else:\n",
    "                verdict.append('keep')\n",
    "        else:\n",
    "            verdict.append('keep')\n",
    "        prev = results[i]\n",
    "    \n",
    "    df['verdict'] = verdict\n",
    "    df = df[ df['verdict'] == 'keep' ]\n",
    "    df.drop('verdict', inplace=True, axis=1)\n",
    "    return df"
   ]
  },
  {
   "cell_type": "code",
   "execution_count": 34,
   "id": "4cd79eec",
   "metadata": {
    "scrolled": true
   },
   "outputs": [],
   "source": [
    "def get_delay_lib(ssr_results):\n",
    "    \n",
    "    ssr_delay_lib = get_empty_library()\n",
    "    \n",
    "    for x in range(len(ssr_results)):\n",
    "        row = ssr_results.iloc[x]\n",
    "        ci = str_to_list(row['ci'])\n",
    "        b = row['batch_size'] - 1\n",
    "        project = row['project']\n",
    "\n",
    "        ver = row['version']\n",
    "        filename = '../../data/project_data_pickles/' + project + '.csv_' + str(ver) + '_indexes.pkl'\n",
    "        with open(filename, 'rb') as save_file:\n",
    "            train_build_ids = pickle.load(save_file)\n",
    "            test_build_ids = pickle.load(save_file)\n",
    "\n",
    "        test_file = pd.read_csv('../../data/full_data/' + project + '.csv') \n",
    "        test_file['tr_status'] = output_values(test_file['tr_status'])\n",
    "        test_file = get_first_failures(test_file)\n",
    "\n",
    "        X_test = test_file [ test_file['tr_build_id'].isin(test_build_ids)]\n",
    "        y_test = X_test['tr_status'].tolist()\n",
    "\n",
    "        i = 0        \n",
    "        delay_list = []\n",
    "        missed = []\n",
    "        batch_list = []\n",
    "        sbs_list = []\n",
    "\n",
    "        while i < len(ci):\n",
    "\n",
    "            sbs_delay = 0\n",
    "            batch_delay = 0\n",
    "\n",
    "            if ci[i] == 0:\n",
    "                while len(missed) > 0:\n",
    "                    ind = missed.pop()\n",
    "                    sbs_delay += i - ind\n",
    "                    sbs_list.append(i - ind)\n",
    "                batch_delay += b\n",
    "                batch_list.append(b)\n",
    "                b -= 1\n",
    "                if b == -1:\n",
    "                    b = row['batch_size'] - 1\n",
    "\n",
    "            if ci[i] == 1:\n",
    "                if y_test[i] == 0:\n",
    "                    missed.append(i)\n",
    "\n",
    "            delay_list.append(sbs_delay + batch_delay)\n",
    "            #print(y_test[i], ci[i], sbs_delay, batch_delay, sbs_delay + batch_delay)\n",
    "\n",
    "            i += 1\n",
    "        while len(missed) > 0:\n",
    "                delay_list.append(i - missed.pop())\n",
    "\n",
    "        ssr_delay_lib[row['project']][row['version']][row['algorithm']][row['batch_size']][row['confidence']]['delays'] = delay_list\n",
    "    \n",
    "    return ssr_delay_lib\n",
    "        "
   ]
  },
  {
   "cell_type": "code",
   "execution_count": 35,
   "id": "970e68c9",
   "metadata": {},
   "outputs": [],
   "source": [
    "def get_lines(ssr_results, ssr_delay_lib):\n",
    "    lines = []\n",
    "    for x in range(len(ssr_results)):\n",
    "        row = ssr_results.iloc[x]\n",
    "        d = ssr_delay_lib[row['project']][row['version']][row['algorithm']][row['batch_size']][row['confidence']]['delays']\n",
    "        m = median(d)\n",
    "        l = list(filter(lambda num: num != 0, d))\n",
    "        if l == []:\n",
    "            l = [0]\n",
    "        lines.append([row['version'], row['project'], row['algorithm'], row['batch_size'], row['confidence'], row['project_reqd_builds'], row['testall_size'], d, m, median(l)])\n",
    "    return lines\n"
   ]
  },
  {
   "cell_type": "code",
   "execution_count": 36,
   "id": "6bf4cf67",
   "metadata": {},
   "outputs": [],
   "source": [
    "def start_result_collection(ssr_result_file):\n",
    "    \n",
    "    global projects\n",
    "    global num\n",
    "    \n",
    "    #ssr_result_file = '../version_results/cvh_models.csv'\n",
    "    ssr_results = pd.read_csv(ssr_result_file)\n",
    "    \n",
    "    \n",
    "    projects = set(ssr_results['project'].tolist())\n",
    "    \n",
    "    ssr_delay_lib = get_delay_lib(ssr_results)\n",
    "    lines = get_lines(ssr_results, ssr_delay_lib)\n",
    "    \n",
    "    num += 1\n",
    "    \n",
    "#     print('This file will generate results for delay list and median delay (from ci).')\n",
    "#     filename = input('What would you name the result file? (abcd.csv) \\n') \n",
    "    \n",
    "    df = pd.DataFrame(lines, columns=['version', 'project', 'algorithm', 'batch_size', 'confidence', 'builds_reqd', 'testall_size', 'delay_list', 'zero_median', 'wo_zero_median'])\n",
    "#     df.to_csv(filename)\n",
    "    \n",
    "    return df"
   ]
  },
  {
   "cell_type": "code",
   "execution_count": 37,
   "id": "89780de8",
   "metadata": {},
   "outputs": [
    {
     "name": "stderr",
     "output_type": "stream",
     "text": [
      "/opt/homebrew/Caskroom/miniforge/base/envs/new_env/lib/python3.9/site-packages/pandas/core/frame.py:4906: SettingWithCopyWarning: \n",
      "A value is trying to be set on a copy of a slice from a DataFrame\n",
      "\n",
      "See the caveats in the documentation: https://pandas.pydata.org/pandas-docs/stable/user_guide/indexing.html#returning-a-view-versus-a-copy\n",
      "  return super().drop(\n"
     ]
    }
   ],
   "source": [
    "filenames = ['cvh_models.csv', 'lfs.csv', 'results1.csv', 'results2.csv', 'gradle_models.csv', 'rubinius_models.csv']\n",
    "file_root = '../version_results/'\n",
    "dfs = []\n",
    "\n",
    "for file in filenames:\n",
    "    dfs.append(start_result_collection(file_root+file))\n",
    "\n",
    "#combining dfs\n",
    "final_df = pd.DataFrame()\n",
    "final_df = dfs[0]\n",
    "\n",
    "for i in range(1, len(dfs)):\n",
    "    final_df = final_df.append(dfs[i])\n",
    "\n",
    "final_df.to_csv('final_delay_boxplots.csv')"
   ]
  },
  {
   "cell_type": "code",
   "execution_count": null,
   "id": "555cb5ef",
   "metadata": {},
   "outputs": [],
   "source": []
  },
  {
   "cell_type": "code",
   "execution_count": null,
   "id": "eced2ee9",
   "metadata": {},
   "outputs": [],
   "source": []
  },
  {
   "cell_type": "markdown",
   "id": "03ba20fc",
   "metadata": {},
   "source": [
    "# Combining Versions"
   ]
  },
  {
   "cell_type": "code",
   "execution_count": 38,
   "id": "ccb27754",
   "metadata": {},
   "outputs": [],
   "source": [
    "def separate_versions(results):\n",
    "    version_dfs = []\n",
    "    \n",
    "    for i in range(1,11):\n",
    "        ver = results[ results['version']==i]\n",
    "        version_dfs.append(ver)\n",
    "    return version_dfs"
   ]
  },
  {
   "cell_type": "code",
   "execution_count": 48,
   "id": "34631d50",
   "metadata": {},
   "outputs": [],
   "source": [
    "def combine_versions(results):\n",
    "    \n",
    "    projects = set(results['project'].tolist())\n",
    "    all_versions = pd.DataFrame()\n",
    "        \n",
    "    for p in projects:\n",
    "        \n",
    "        p_data = results[ results['project']==p]\n",
    "        pframe = pd.DataFrame()\n",
    "        \n",
    "        versions = separate_versions(p_data)\n",
    "        \n",
    "        for start in range(0,10):\n",
    "            if len(versions[start]) > 0:\n",
    "                pframe = versions[start]\n",
    "                break\n",
    "        \n",
    "        for x in range(len(pframe)):\n",
    "            row = pframe.iloc[x]\n",
    "            \n",
    "            alg = row['algorithm']\n",
    "            b = row['batch_size']\n",
    "            conf = row['confidence']\n",
    "            \n",
    "            final_delay_list = row['delay_list']\n",
    "            \n",
    "            for i in range(start+1,10):\n",
    "                next_ver = versions[i]\n",
    "                new_df = next_ver[ (next_ver['algorithm']==alg) & (next_ver['batch_size']==b) & (next_ver['confidence']==conf)]\n",
    "                \n",
    "                if len(new_df) > 0:\n",
    "                    new_row = new_df.iloc[0]\n",
    "                else:\n",
    "                    continue\n",
    "                \n",
    "                total_size = row['testall_size'] + new_row['testall_size']\n",
    "                total_reqd_builds = (row['builds_reqd']*row['testall_size']) + (new_row['builds_reqd']*new_row['testall_size'])\n",
    "                final_delay_list.extend(new_row['delay_list'])\n",
    "                \n",
    "                row['builds_reqd'] = total_reqd_builds/total_size                \n",
    "                row['delay_list'] = final_delay_list\n",
    "                row['testall_size'] = total_size\n",
    "                \n",
    "            pframe.iloc[x] = row\n",
    "        all_versions = all_versions.append(pframe)\n",
    "    \n",
    "    return all_versions"
   ]
  },
  {
   "cell_type": "code",
   "execution_count": 54,
   "id": "78723324",
   "metadata": {},
   "outputs": [],
   "source": [
    "delay_df = combine_versions(final_df)\n"
   ]
  },
  {
   "cell_type": "code",
   "execution_count": 56,
   "id": "7b82320a",
   "metadata": {},
   "outputs": [],
   "source": [
    "delay_df.drop('delay_list', inplace=True, axis=1)"
   ]
  },
  {
   "cell_type": "code",
   "execution_count": 57,
   "id": "8b251068",
   "metadata": {},
   "outputs": [],
   "source": [
    "delay_df.to_csv('combined_delay.csv')"
   ]
  },
  {
   "cell_type": "code",
   "execution_count": null,
   "id": "bed64b55",
   "metadata": {},
   "outputs": [],
   "source": []
  }
 ],
 "metadata": {
  "kernelspec": {
   "display_name": "Python 3 (ipykernel)",
   "language": "python",
   "name": "python3"
  },
  "language_info": {
   "codemirror_mode": {
    "name": "ipython",
    "version": 3
   },
   "file_extension": ".py",
   "mimetype": "text/x-python",
   "name": "python",
   "nbconvert_exporter": "python",
   "pygments_lexer": "ipython3",
   "version": "3.9.7"
  }
 },
 "nbformat": 4,
 "nbformat_minor": 5
}
