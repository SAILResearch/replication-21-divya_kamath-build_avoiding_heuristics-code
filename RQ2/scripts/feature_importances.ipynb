{
 "cells": [
  {
   "cell_type": "code",
   "execution_count": 1,
   "id": "a3141571",
   "metadata": {},
   "outputs": [],
   "source": [
    "import pandas as pd\n",
    "import numpy as np\n",
    "from numpy import argmax\n",
    "from numpy import sqrt\n",
    "import math\n",
    "from sklearn.ensemble import RandomForestClassifier\n",
    "from sklearn.model_selection import GridSearchCV\n",
    "from sklearn.model_selection import train_test_split\n",
    "from sklearn.metrics import accuracy_score, confusion_matrix, classification_report, roc_auc_score\n",
    "from sklearn.utils import resample\n",
    "from sklearn.metrics import roc_curve\n",
    "from sklearn.metrics import precision_recall_curve\n",
    "from sklearn.metrics import f1_score\n",
    "from sklearn.metrics import recall_score\n",
    "from sklearn.metrics import precision_score\n",
    "from sklearn.model_selection import KFold\n",
    "from matplotlib import pyplot\n",
    "from statistics import median\n",
    "import pickle\n",
    "import csv\n",
    "import warnings\n",
    "import datetime\n",
    "import multiprocess\n",
    "import os\n",
    "warnings.filterwarnings(\"ignore\")"
   ]
  },
  {
   "cell_type": "code",
   "execution_count": 2,
   "id": "2c810615",
   "metadata": {},
   "outputs": [],
   "source": [
    "project_list = ['heroku.csv', 'rails.csv', 'gradle.csv', 'jruby.csv', 'metasploit-framework.csv', 'cloudify.csv', 'vagrant.csv', 'rubinius.csv', 'open-build-service.csv', 'sonarqube.csv', 'loomio.csv', 'fog.csv', 'opal.csv', 'cloud_controller_ng.csv', 'puppet.csv', 'concerto.csv', 'sufia.csv', 'geoserver.csv', 'orbeon-forms.csv', 'graylog2-server.csv']\n"
   ]
  },
  {
   "cell_type": "code",
   "execution_count": 3,
   "id": "024979e2",
   "metadata": {},
   "outputs": [],
   "source": [
    "fi_dict = {}"
   ]
  },
  {
   "cell_type": "code",
   "execution_count": 4,
   "id": "35429120",
   "metadata": {},
   "outputs": [
    {
     "ename": "FileNotFoundError",
     "evalue": "[Errno 2] No such file or directory: 'dump_data/heroku_models/'",
     "output_type": "error",
     "traceback": [
      "\u001b[0;31m---------------------------------------------------------------------------\u001b[0m",
      "\u001b[0;31mFileNotFoundError\u001b[0m                         Traceback (most recent call last)",
      "\u001b[0;32m/var/folders/09/2vzp5xpd2ldd4ggk4xzjt1qr0000gn/T/ipykernel_45587/1898539082.py\u001b[0m in \u001b[0;36m<module>\u001b[0;34m\u001b[0m\n\u001b[1;32m      3\u001b[0m     \u001b[0mfi_dict\u001b[0m\u001b[0;34m[\u001b[0m\u001b[0mp\u001b[0m\u001b[0;34m]\u001b[0m \u001b[0;34m=\u001b[0m \u001b[0;34m{\u001b[0m\u001b[0;34m}\u001b[0m\u001b[0;34m\u001b[0m\u001b[0;34m\u001b[0m\u001b[0m\n\u001b[1;32m      4\u001b[0m     \u001b[0mpath\u001b[0m \u001b[0;34m=\u001b[0m \u001b[0;34m'dump_data/'\u001b[0m \u001b[0;34m+\u001b[0m \u001b[0mp_name\u001b[0m \u001b[0;34m+\u001b[0m \u001b[0;34m'_models/'\u001b[0m\u001b[0;34m\u001b[0m\u001b[0;34m\u001b[0m\u001b[0m\n\u001b[0;32m----> 5\u001b[0;31m     \u001b[0mcontents\u001b[0m \u001b[0;34m=\u001b[0m \u001b[0mos\u001b[0m\u001b[0;34m.\u001b[0m\u001b[0mlistdir\u001b[0m\u001b[0;34m(\u001b[0m\u001b[0mpath\u001b[0m\u001b[0;34m)\u001b[0m\u001b[0;34m\u001b[0m\u001b[0;34m\u001b[0m\u001b[0m\n\u001b[0m\u001b[1;32m      6\u001b[0m \u001b[0;34m\u001b[0m\u001b[0m\n\u001b[1;32m      7\u001b[0m     \u001b[0;32mfor\u001b[0m \u001b[0mf\u001b[0m \u001b[0;32min\u001b[0m \u001b[0mcontents\u001b[0m\u001b[0;34m:\u001b[0m\u001b[0;34m\u001b[0m\u001b[0;34m\u001b[0m\u001b[0m\n",
      "\u001b[0;31mFileNotFoundError\u001b[0m: [Errno 2] No such file or directory: 'dump_data/heroku_models/'"
     ]
    }
   ],
   "source": [
    "for p in project_list:\n",
    "    p_name = p.split('.')[0]\n",
    "    fi_dict[p] = {}\n",
    "    path = 'dump_data/' + p_name + '_models/'\n",
    "    contents = os.listdir(path)\n",
    "    \n",
    "    for f in contents:\n",
    "        model_file = path + f\n",
    "        with open(model_file, 'rb') as file:\n",
    "            model = pickle.load(file)\n",
    "        \n",
    "        #print(p, ver)\n",
    "        \n",
    "        \n",
    "        important_features_dict = {}\n",
    "        for idx, val in enumerate(model.feature_importances_):\n",
    "            important_features_dict[idx] = val\n",
    "        \n",
    "        important_features_list = sorted(important_features_dict,\n",
    "                                 key=important_features_dict.get,\n",
    "                                 reverse=True)\n",
    "        \n",
    "        #print(important_features_list)\n",
    "        \n",
    "        fi_dict[p][ver] = {}\n",
    "        fi_dict[p][ver]['list'] = important_features_list\n",
    "        fi_dict[p][ver]['value'] = important_features_dict"
   ]
  },
  {
   "cell_type": "code",
   "execution_count": 77,
   "id": "59dcf209",
   "metadata": {},
   "outputs": [],
   "source": [
    "feature_names = ['git_diff_src_churn', 'gh_num_commit_comments', 'git_diff_test_churn', 'gh_diff_files_added', 'gh_diff_files_deleted', 'gh_diff_files_modified', 'git_num_all_built_commits', 'gh_num_commits_on_files_touched', 'time_out']\n",
    "combined_for_project = {}\n",
    "values_for_projects = {}\n"
   ]
  },
  {
   "cell_type": "code",
   "execution_count": 78,
   "id": "1f692c1a",
   "metadata": {},
   "outputs": [],
   "source": [
    "for p in project_list:\n",
    "    data = fi_dict[p]\n",
    "    flist = [[], [], [], [], [], [], [], [], []]\n",
    "    vals = [[], [], [], [], [], [], [], [], []]\n",
    "    fi = 0\n",
    "    \n",
    "    for ver in range(1,11):\n",
    "        for x in range(0,9):\n",
    "            flist[x].append(data[ver]['list'][x])\n",
    "            \n",
    "    for ver in range(1, 11):  \n",
    "        for x in range(0,9):\n",
    "            vals[x].append(data[ver]['value'][x])\n",
    "    \n",
    "    final = [0,0,0,0,0,0,0,0,0]\n",
    "    final_value = [0,0,0,0,0,0,0,0,0]\n",
    "    \n",
    "    for i in range(0, 9):\n",
    "        final[i] = max(set(flist[i]), key = flist[i].count)\n",
    "    \n",
    "    for i in final:\n",
    "        final_value[i] = median(vals[i])\n",
    "    \n",
    "    values_for_projects[p] = final_value\n",
    "    combined_for_project[p] = final"
   ]
  },
  {
   "cell_type": "code",
   "execution_count": 79,
   "id": "7d45f1e4",
   "metadata": {},
   "outputs": [],
   "source": [
    "#after manual interference\n",
    "combined_for_project['vagrant.csv'][-1] = 1\n",
    "combined_for_project['vagrant.csv'][-2] = 4\n",
    "combined_for_project['graylog2-server.csv'][2] = 0\n",
    "combined_for_project['graylog2-server.csv'][-1] = 1"
   ]
  },
  {
   "cell_type": "code",
   "execution_count": 80,
   "id": "e3d63f75",
   "metadata": {},
   "outputs": [],
   "source": [
    "final_fi = [0, 0, 0, 0, 0, 0, 0, 0, 0]"
   ]
  },
  {
   "cell_type": "code",
   "execution_count": 81,
   "id": "51a20942",
   "metadata": {},
   "outputs": [],
   "source": [
    "flist = [[], [], [], [], [], [], [], [], []]\n",
    "for p in project_list:\n",
    "    data = combined_for_project[p]\n",
    "    for x in range(0,9):\n",
    "        flist[x].append(data[x])"
   ]
  },
  {
   "cell_type": "code",
   "execution_count": 82,
   "id": "738aafaa",
   "metadata": {},
   "outputs": [],
   "source": [
    "for i in range(0, 9):\n",
    "    final_fi[i] = max(set(flist[i]), key = flist[i].count)"
   ]
  },
  {
   "cell_type": "code",
   "execution_count": 83,
   "id": "9c59a57e",
   "metadata": {},
   "outputs": [],
   "source": [
    "#after manual interference\n",
    "final_fi[4] = 2"
   ]
  },
  {
   "cell_type": "code",
   "execution_count": 84,
   "id": "8c6b51ca",
   "metadata": {},
   "outputs": [
    {
     "data": {
      "text/plain": [
       "[7, 8, 0, 5, 2, 6, 3, 4, 1]"
      ]
     },
     "execution_count": 84,
     "metadata": {},
     "output_type": "execute_result"
    }
   ],
   "source": [
    "final_fi"
   ]
  },
  {
   "cell_type": "code",
   "execution_count": 85,
   "id": "dd75bed7",
   "metadata": {},
   "outputs": [
    {
     "name": "stdout",
     "output_type": "stream",
     "text": [
      "7 gh_num_commits_on_files_touched\n",
      "8 time_out\n",
      "0 git_diff_src_churn\n",
      "5 gh_diff_files_modified\n",
      "2 git_diff_test_churn\n",
      "6 git_num_all_built_commits\n",
      "3 gh_diff_files_added\n",
      "4 gh_diff_files_deleted\n",
      "1 gh_num_commit_comments\n"
     ]
    }
   ],
   "source": []
  },
  {
   "cell_type": "code",
   "execution_count": 91,
   "id": "daeb8fd9",
   "metadata": {},
   "outputs": [],
   "source": [
    "final_fi_values = [0, 0, 0, 0, 0, 0, 0, 0, 0]\n",
    "fvalue = [[], [], [], [], [], [], [], [], []]\n",
    "\n",
    "for p in values_for_projects:\n",
    "    for x in range(0,9):\n",
    "        fvalue[x].append(values_for_projects[p][x])\n",
    "\n",
    "for i in range(0, 9):\n",
    "    final_fi_values[i] = median(fvalue[i])"
   ]
  },
  {
   "cell_type": "code",
   "execution_count": 96,
   "id": "64d590b1",
   "metadata": {},
   "outputs": [
    {
     "name": "stdout",
     "output_type": "stream",
     "text": [
      "    7          gh_num_commits_on_files_touched            0.29517588602729683\n",
      "    8                                 time_out            0.20345374087787974\n",
      "    0                       git_diff_src_churn            0.18473665118874483\n",
      "    5                   gh_diff_files_modified            0.09840918800266697\n",
      "    2                      git_diff_test_churn            0.08877735422697038\n",
      "    6                git_num_all_built_commits           0.043456895082151004\n",
      "    3                      gh_diff_files_added           0.039224786758027735\n",
      "    4                    gh_diff_files_deleted            0.01814480786037624\n",
      "    1                   gh_num_commit_comments           0.005835691072424722\n"
     ]
    }
   ],
   "source": [
    "for i in range(0, 9):\n",
    "    print('{:>5} {:>40} {:>30}'.format(final_fi[i], feature_names[final_fi[i]], final_fi_values[final_fi[i]]))"
   ]
  },
  {
   "cell_type": "code",
   "execution_count": null,
   "id": "4ba4993d",
   "metadata": {},
   "outputs": [],
   "source": []
  }
 ],
 "metadata": {
  "kernelspec": {
   "display_name": "Python 3 (ipykernel)",
   "language": "python",
   "name": "python3"
  },
  "language_info": {
   "codemirror_mode": {
    "name": "ipython",
    "version": 3
   },
   "file_extension": ".py",
   "mimetype": "text/x-python",
   "name": "python",
   "nbconvert_exporter": "python",
   "pygments_lexer": "ipython3",
   "version": "3.9.7"
  }
 },
 "nbformat": 4,
 "nbformat_minor": 5
}
