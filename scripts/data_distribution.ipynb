{
 "cells": [
  {
   "cell_type": "code",
   "execution_count": 5,
   "id": "a6877c68",
   "metadata": {},
   "outputs": [],
   "source": [
    "import pandas as pd"
   ]
  },
  {
   "cell_type": "code",
   "execution_count": 6,
   "id": "52cece2d",
   "metadata": {},
   "outputs": [],
   "source": [
    "project_list = ['rails.csv', 'jruby.csv', 'metasploit-framework.csv', 'cloudify.csv', 'vagrant.csv', 'rubinius.csv', 'open-build-service.csv', 'gradle.csv', 'sonarqube.csv', 'loomio.csv', 'fog.csv', 'opal.csv', 'cloud_controller_ng.csv', 'puppet.csv', 'concerto.csv', 'sufia.csv', 'geoserver.csv', 'orbeon-forms.csv', 'graylog2-server.csv', 'heroku.csv']"
   ]
  },
  {
   "cell_type": "code",
   "execution_count": 7,
   "id": "fb0f68d4",
   "metadata": {},
   "outputs": [],
   "source": [
    "distributions = {}\n",
    "path = '../data/train_data/'"
   ]
  },
  {
   "cell_type": "code",
   "execution_count": 9,
   "id": "a6b4376d",
   "metadata": {},
   "outputs": [
    {
     "name": "stdout",
     "output_type": "stream",
     "text": [
      "rails.csv 0.8954816536945315\n",
      "jruby.csv 0.821039603960396\n",
      "metasploit-framework.csv 0.9689624593556015\n",
      "cloudify.csv 0.9619415333701048\n",
      "vagrant.csv 0.9738525730180807\n",
      "rubinius.csv 0.8396492326965237\n",
      "open-build-service.csv 0.8964401294498382\n",
      "gradle.csv 0.958745311967269\n",
      "sonarqube.csv 0.9264649559555725\n",
      "loomio.csv 0.8809626128061883\n",
      "fog.csv 0.8647416413373861\n",
      "opal.csv 0.949159844894442\n",
      "cloud_controller_ng.csv 0.8781725888324873\n",
      "puppet.csv 0.9685004436557232\n",
      "concerto.csv 0.9488107549120993\n",
      "sufia.csv 0.9348641049671977\n",
      "geoserver.csv 0.8200803212851405\n",
      "orbeon-forms.csv 0.9157792836398838\n",
      "graylog2-server.csv 0.982185273159145\n",
      "heroku.csv 0.9377389404696886\n"
     ]
    }
   ],
   "source": [
    "for p in project_list:\n",
    "    \n",
    "    file_path = path + p.split('.')[0] + '_train.csv'\n",
    "    p_data = pd.read_csv(file_path)\n",
    "    outcomes = p_data['tr_status'].tolist()\n",
    "    total = len(outcomes)\n",
    "    passes = outcomes.count('passed')\n",
    "    failures = total - passes\n",
    "    ratio = passes/total\n",
    "    print(p, ratio)\n",
    "    "
   ]
  },
  {
   "cell_type": "code",
   "execution_count": null,
   "id": "a34c287c",
   "metadata": {},
   "outputs": [],
   "source": []
  }
 ],
 "metadata": {
  "kernelspec": {
   "display_name": "Python 3 (ipykernel)",
   "language": "python",
   "name": "python3"
  },
  "language_info": {
   "codemirror_mode": {
    "name": "ipython",
    "version": 3
   },
   "file_extension": ".py",
   "mimetype": "text/x-python",
   "name": "python",
   "nbconvert_exporter": "python",
   "pygments_lexer": "ipython3",
   "version": "3.9.7"
  }
 },
 "nbformat": 4,
 "nbformat_minor": 5
}
