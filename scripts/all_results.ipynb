{
 "cells": [
  {
   "cell_type": "code",
   "execution_count": 40,
   "id": "41c01d15",
   "metadata": {},
   "outputs": [],
   "source": [
    "import pandas as pd"
   ]
  },
  {
   "cell_type": "code",
   "execution_count": 41,
   "id": "f87f1e1a",
   "metadata": {},
   "outputs": [],
   "source": [
    "read_gr = pd.read_csv('gr_results.csv', usecols = ['project', 'algorithm', 'batch_size', 'builds_reqd', 'median_delay'])\n",
    "read_sbs = pd.read_csv('version_sbs_results.csv', usecols = ['project', 'algorithm', 'batch_size', 'builds_reqd', 'median_delay', 'testall_size'])\n",
    "read_aici = pd.read_csv('aici_results.csv', usecols = ['project', 'algorithm', 'batch_size', 'builds_reqd', 'median_delay', 'testall_size'])\n",
    "read_ssr = pd.read_csv('best_confidence.csv', usecols = ['project', 'algorithm', 'batch_size', 'builds_reqd', 'median_delay', 'testall_size'])\n"
   ]
  },
  {
   "cell_type": "code",
   "execution_count": 42,
   "id": "469ff63d",
   "metadata": {},
   "outputs": [],
   "source": [
    "algorithms = ['BATCH4', 'BATCHSTOP4', 'BATCHBISECT']\n",
    "batch_sizes = [1, 2, 4, 8, 16]"
   ]
  },
  {
   "cell_type": "code",
   "execution_count": 43,
   "id": "f4e79a51",
   "metadata": {},
   "outputs": [],
   "source": [
    "gr = pd.DataFrame()\n",
    "sbs = pd.DataFrame()\n",
    "aici = pd.DataFrame()\n",
    "ssr = pd.DataFrame()"
   ]
  },
  {
   "cell_type": "code",
   "execution_count": 44,
   "id": "bdd49249",
   "metadata": {},
   "outputs": [],
   "source": [
    "for alg in algorithms:\n",
    "    for b in batch_sizes:\n",
    "        \n",
    "        if alg == 'BATCH4':\n",
    "            if b != 4:\n",
    "                continue\n",
    "        \n",
    "        if alg == 'BATCHSTOP4':\n",
    "            if b <= 4:\n",
    "                continue\n",
    "        \n",
    "        temp_gr = read_gr[ (read_gr['algorithm'] == alg) & (read_gr['batch_size'] == b)]\n",
    "        temp_sbs = read_sbs[ (read_sbs['algorithm'] == alg) & (read_sbs['batch_size'] == b)]\n",
    "        temp_aici = read_aici[ (read_aici['algorithm'] == alg) & (read_aici['batch_size'] == b)]\n",
    "        temp_ssr = read_ssr[ (read_ssr['algorithm'] == alg) & (read_ssr['batch_size'] == b)]\n",
    "        \n",
    "        gr = gr.append(temp_gr)\n",
    "        sbs = sbs.append(temp_sbs)\n",
    "        aici = aici.append(temp_aici)\n",
    "        ssr = ssr.append(temp_ssr)"
   ]
  },
  {
   "cell_type": "code",
   "execution_count": 45,
   "id": "ddeae1bf",
   "metadata": {},
   "outputs": [],
   "source": [
    "ssr = ssr.rename(columns={\"median_delays\": \"median_delay\"})\n",
    "\n",
    "\n",
    "gr = gr.sort_values(by=['project', 'algorithm', 'batch_size'])\n",
    "ssr = ssr.sort_values(by=['project', 'algorithm', 'batch_size'])\n",
    "\n",
    "gr['testall_size'] = ssr['testall_size'].tolist()"
   ]
  },
  {
   "cell_type": "code",
   "execution_count": 46,
   "id": "928bcbb5",
   "metadata": {},
   "outputs": [],
   "source": [
    "sbs['method'] = ['sbs'] * len(sbs)\n",
    "aici['method'] = ['aici'] * len(aici)\n",
    "ssr['method'] = ['ssr'] * len(ssr)\n",
    "gr['method'] = ['gr'] * len(gr)"
   ]
  },
  {
   "cell_type": "code",
   "execution_count": 47,
   "id": "38c5e3b1",
   "metadata": {},
   "outputs": [],
   "source": [
    "df = pd.DataFrame()\n",
    "df = gr"
   ]
  },
  {
   "cell_type": "code",
   "execution_count": 48,
   "id": "a6012997",
   "metadata": {},
   "outputs": [
    {
     "name": "stdout",
     "output_type": "stream",
     "text": [
      "160\n",
      "160\n",
      "160\n",
      "140\n"
     ]
    }
   ],
   "source": [
    "print(len(gr))\n",
    "df = df.append(ssr)\n",
    "print(len(ssr))\n",
    "df = df.append(sbs)\n",
    "print(len(sbs))\n",
    "df = df.append(aici)\n",
    "print(len(aici))"
   ]
  },
  {
   "cell_type": "code",
   "execution_count": 49,
   "id": "e07ca123",
   "metadata": {},
   "outputs": [],
   "source": [
    "df.to_csv('Final_Results.csv')"
   ]
  },
  {
   "cell_type": "code",
   "execution_count": null,
   "id": "1d60a008",
   "metadata": {},
   "outputs": [],
   "source": []
  },
  {
   "cell_type": "code",
   "execution_count": 50,
   "id": "80364890",
   "metadata": {},
   "outputs": [
    {
     "data": {
      "text/html": [
       "<div>\n",
       "<style scoped>\n",
       "    .dataframe tbody tr th:only-of-type {\n",
       "        vertical-align: middle;\n",
       "    }\n",
       "\n",
       "    .dataframe tbody tr th {\n",
       "        vertical-align: top;\n",
       "    }\n",
       "\n",
       "    .dataframe thead th {\n",
       "        text-align: right;\n",
       "    }\n",
       "</style>\n",
       "<table border=\"1\" class=\"dataframe\">\n",
       "  <thead>\n",
       "    <tr style=\"text-align: right;\">\n",
       "      <th></th>\n",
       "      <th>project</th>\n",
       "      <th>algorithm</th>\n",
       "      <th>batch_size</th>\n",
       "      <th>builds_reqd</th>\n",
       "      <th>median_delay</th>\n",
       "      <th>testall_size</th>\n",
       "      <th>method</th>\n",
       "    </tr>\n",
       "  </thead>\n",
       "  <tbody>\n",
       "    <tr>\n",
       "      <th>89</th>\n",
       "      <td>cloud_controller_ng.csv</td>\n",
       "      <td>BATCH4</td>\n",
       "      <td>4</td>\n",
       "      <td>28.744265</td>\n",
       "      <td>2.0</td>\n",
       "      <td>2397</td>\n",
       "      <td>ssr</td>\n",
       "    </tr>\n",
       "    <tr>\n",
       "      <th>16</th>\n",
       "      <td>cloud_controller_ng.csv</td>\n",
       "      <td>BATCHBISECT</td>\n",
       "      <td>1</td>\n",
       "      <td>9.511889</td>\n",
       "      <td>3.0</td>\n",
       "      <td>2397</td>\n",
       "      <td>ssr</td>\n",
       "    </tr>\n",
       "    <tr>\n",
       "      <th>36</th>\n",
       "      <td>cloud_controller_ng.csv</td>\n",
       "      <td>BATCHBISECT</td>\n",
       "      <td>2</td>\n",
       "      <td>16.478931</td>\n",
       "      <td>1.0</td>\n",
       "      <td>2397</td>\n",
       "      <td>ssr</td>\n",
       "    </tr>\n",
       "    <tr>\n",
       "      <th>88</th>\n",
       "      <td>cloud_controller_ng.csv</td>\n",
       "      <td>BATCHBISECT</td>\n",
       "      <td>4</td>\n",
       "      <td>31.581142</td>\n",
       "      <td>2.0</td>\n",
       "      <td>2397</td>\n",
       "      <td>ssr</td>\n",
       "    </tr>\n",
       "    <tr>\n",
       "      <th>132</th>\n",
       "      <td>cloud_controller_ng.csv</td>\n",
       "      <td>BATCHBISECT</td>\n",
       "      <td>8</td>\n",
       "      <td>55.277431</td>\n",
       "      <td>4.0</td>\n",
       "      <td>2397</td>\n",
       "      <td>ssr</td>\n",
       "    </tr>\n",
       "    <tr>\n",
       "      <th>...</th>\n",
       "      <td>...</td>\n",
       "      <td>...</td>\n",
       "      <td>...</td>\n",
       "      <td>...</td>\n",
       "      <td>...</td>\n",
       "      <td>...</td>\n",
       "      <td>...</td>\n",
       "    </tr>\n",
       "    <tr>\n",
       "      <th>64</th>\n",
       "      <td>vagrant.csv</td>\n",
       "      <td>BATCHBISECT</td>\n",
       "      <td>4</td>\n",
       "      <td>12.008896</td>\n",
       "      <td>2.0</td>\n",
       "      <td>4047</td>\n",
       "      <td>ssr</td>\n",
       "    </tr>\n",
       "    <tr>\n",
       "      <th>116</th>\n",
       "      <td>vagrant.csv</td>\n",
       "      <td>BATCHBISECT</td>\n",
       "      <td>8</td>\n",
       "      <td>16.926119</td>\n",
       "      <td>4.0</td>\n",
       "      <td>4047</td>\n",
       "      <td>ssr</td>\n",
       "    </tr>\n",
       "    <tr>\n",
       "      <th>156</th>\n",
       "      <td>vagrant.csv</td>\n",
       "      <td>BATCHBISECT</td>\n",
       "      <td>16</td>\n",
       "      <td>23.622437</td>\n",
       "      <td>7.0</td>\n",
       "      <td>4047</td>\n",
       "      <td>ssr</td>\n",
       "    </tr>\n",
       "    <tr>\n",
       "      <th>117</th>\n",
       "      <td>vagrant.csv</td>\n",
       "      <td>BATCHSTOP4</td>\n",
       "      <td>8</td>\n",
       "      <td>15.295280</td>\n",
       "      <td>4.0</td>\n",
       "      <td>4047</td>\n",
       "      <td>ssr</td>\n",
       "    </tr>\n",
       "    <tr>\n",
       "      <th>157</th>\n",
       "      <td>vagrant.csv</td>\n",
       "      <td>BATCHSTOP4</td>\n",
       "      <td>16</td>\n",
       "      <td>21.843340</td>\n",
       "      <td>7.0</td>\n",
       "      <td>4047</td>\n",
       "      <td>ssr</td>\n",
       "    </tr>\n",
       "  </tbody>\n",
       "</table>\n",
       "<p>160 rows × 7 columns</p>\n",
       "</div>"
      ],
      "text/plain": [
       "                     project    algorithm  batch_size  builds_reqd  \\\n",
       "89   cloud_controller_ng.csv       BATCH4           4    28.744265   \n",
       "16   cloud_controller_ng.csv  BATCHBISECT           1     9.511889   \n",
       "36   cloud_controller_ng.csv  BATCHBISECT           2    16.478931   \n",
       "88   cloud_controller_ng.csv  BATCHBISECT           4    31.581142   \n",
       "132  cloud_controller_ng.csv  BATCHBISECT           8    55.277431   \n",
       "..                       ...          ...         ...          ...   \n",
       "64               vagrant.csv  BATCHBISECT           4    12.008896   \n",
       "116              vagrant.csv  BATCHBISECT           8    16.926119   \n",
       "156              vagrant.csv  BATCHBISECT          16    23.622437   \n",
       "117              vagrant.csv   BATCHSTOP4           8    15.295280   \n",
       "157              vagrant.csv   BATCHSTOP4          16    21.843340   \n",
       "\n",
       "     median_delay  testall_size method  \n",
       "89            2.0          2397    ssr  \n",
       "16            3.0          2397    ssr  \n",
       "36            1.0          2397    ssr  \n",
       "88            2.0          2397    ssr  \n",
       "132           4.0          2397    ssr  \n",
       "..            ...           ...    ...  \n",
       "64            2.0          4047    ssr  \n",
       "116           4.0          4047    ssr  \n",
       "156           7.0          4047    ssr  \n",
       "117           4.0          4047    ssr  \n",
       "157           7.0          4047    ssr  \n",
       "\n",
       "[160 rows x 7 columns]"
      ]
     },
     "execution_count": 50,
     "metadata": {},
     "output_type": "execute_result"
    }
   ],
   "source": [
    "ssr"
   ]
  },
  {
   "cell_type": "code",
   "execution_count": null,
   "id": "dae47828",
   "metadata": {},
   "outputs": [],
   "source": []
  },
  {
   "cell_type": "code",
   "execution_count": null,
   "id": "41175a32",
   "metadata": {},
   "outputs": [],
   "source": []
  },
  {
   "cell_type": "code",
   "execution_count": null,
   "id": "b4a97aeb",
   "metadata": {},
   "outputs": [],
   "source": []
  },
  {
   "cell_type": "code",
   "execution_count": null,
   "id": "1286336d",
   "metadata": {},
   "outputs": [],
   "source": []
  },
  {
   "cell_type": "code",
   "execution_count": null,
   "id": "068e49c2",
   "metadata": {},
   "outputs": [],
   "source": []
  }
 ],
 "metadata": {
  "kernelspec": {
   "display_name": "Python 3 (ipykernel)",
   "language": "python",
   "name": "python3"
  },
  "language_info": {
   "codemirror_mode": {
    "name": "ipython",
    "version": 3
   },
   "file_extension": ".py",
   "mimetype": "text/x-python",
   "name": "python",
   "nbconvert_exporter": "python",
   "pygments_lexer": "ipython3",
   "version": "3.9.7"
  }
 },
 "nbformat": 4,
 "nbformat_minor": 5
}
