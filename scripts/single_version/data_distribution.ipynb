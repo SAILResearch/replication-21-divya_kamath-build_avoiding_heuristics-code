{
 "cells": [
  {
   "cell_type": "code",
   "execution_count": 20,
   "id": "a6877c68",
   "metadata": {},
   "outputs": [],
   "source": [
    "import pandas as pd"
   ]
  },
  {
   "cell_type": "code",
   "execution_count": 21,
   "id": "52cece2d",
   "metadata": {},
   "outputs": [],
   "source": [
    "project_list = ['rails.csv', 'jruby.csv', 'metasploit-framework.csv', 'cloudify.csv', 'vagrant.csv', 'rubinius.csv', 'open-build-service.csv', 'gradle.csv', 'sonarqube.csv', 'loomio.csv', 'fog.csv', 'opal.csv', 'cloud_controller_ng.csv', 'puppet.csv', 'concerto.csv', 'sufia.csv', 'geoserver.csv', 'orbeon-forms.csv', 'graylog2-server.csv', 'heroku.csv']"
   ]
  },
  {
   "cell_type": "code",
   "execution_count": 22,
   "id": "fb0f68d4",
   "metadata": {},
   "outputs": [],
   "source": [
    "distributions = {}\n",
    "path = '../../data/full_data/'"
   ]
  },
  {
   "cell_type": "code",
   "execution_count": 23,
   "id": "77d8cb16",
   "metadata": {},
   "outputs": [],
   "source": [
    "def output_values(Y_data):\n",
    "    Y_t = []\n",
    "    for e in Y_data:\n",
    "        if e == 'passed':\n",
    "            Y_t.append(1)\n",
    "        else:\n",
    "            Y_t.append(0) \n",
    "    return Y_t"
   ]
  },
  {
   "cell_type": "code",
   "execution_count": 24,
   "id": "7f65c98e",
   "metadata": {},
   "outputs": [],
   "source": [
    "def get_first_failures(df):\n",
    "    \n",
    "    results = df['tr_status'].tolist()\n",
    "    length = len(results)\n",
    "    verdict = ['keep']\n",
    "    prev = results[0]\n",
    "    \n",
    "    for i in range(1, length):\n",
    "        if results[i] == 0:\n",
    "            if prev == 0:\n",
    "                verdict.append('discard')\n",
    "                #print(i+1)\n",
    "            else:\n",
    "                verdict.append('keep')\n",
    "        else:\n",
    "            verdict.append('keep')\n",
    "        prev = results[i]\n",
    "    \n",
    "    df['verdict'] = verdict\n",
    "    df = df[ df['verdict'] == 'keep' ]\n",
    "    df.drop('verdict', inplace=True, axis=1)\n",
    "    return df"
   ]
  },
  {
   "cell_type": "code",
   "execution_count": 25,
   "id": "a6b4376d",
   "metadata": {},
   "outputs": [
    {
     "name": "stdout",
     "output_type": "stream",
     "text": [
      "rails.csv 14133 11370\n",
      "jruby.csv 8275 4453\n",
      "metasploit-framework.csv 7602 7537\n",
      "cloudify.csv 4815 4114\n",
      "vagrant.csv 4049 3879\n",
      "rubinius.csv 4005 3413\n",
      "open-build-service.csv 3718 3247\n",
      "gradle.csv 3569 3490\n",
      "sonarqube.csv 3163 2911\n",
      "loomio.csv 2924 2532\n",
      "fog.csv 2785 2325\n",
      "opal.csv 2595 2545\n",
      "cloud_controller_ng.csv 2399 2223\n",
      "puppet.csv 2347 2323\n",
      "concerto.csv 2301 2224\n",
      "sufia.csv 2259 2153\n",
      "geoserver.csv 2183 1413\n",
      "orbeon-forms.csv 2166 1266\n",
      "graylog2-server.csv 2110 2085\n",
      "heroku.csv 2083 1892\n"
     ]
    }
   ],
   "source": [
    "for p in project_list:\n",
    "    \n",
    "    file_path = path + p.split('.')[0] + '.csv'\n",
    "    p_data = pd.read_csv(file_path)\n",
    "    p_data['tr_status'] = output_values(p_data['tr_status'].tolist())\n",
    "    print(p, len(p_data), len(get_first_failures(p_data)))\n",
    "    \n",
    "    "
   ]
  },
  {
   "cell_type": "code",
   "execution_count": null,
   "id": "a34c287c",
   "metadata": {},
   "outputs": [],
   "source": []
  },
  {
   "cell_type": "code",
   "execution_count": null,
   "id": "4185e2df",
   "metadata": {},
   "outputs": [],
   "source": []
  }
 ],
 "metadata": {
  "kernelspec": {
   "display_name": "Python 3 (ipykernel)",
   "language": "python",
   "name": "python3"
  },
  "language_info": {
   "codemirror_mode": {
    "name": "ipython",
    "version": 3
   },
   "file_extension": ".py",
   "mimetype": "text/x-python",
   "name": "python",
   "nbconvert_exporter": "python",
   "pygments_lexer": "ipython3",
   "version": "3.9.7"
  }
 },
 "nbformat": 4,
 "nbformat_minor": 5
}
