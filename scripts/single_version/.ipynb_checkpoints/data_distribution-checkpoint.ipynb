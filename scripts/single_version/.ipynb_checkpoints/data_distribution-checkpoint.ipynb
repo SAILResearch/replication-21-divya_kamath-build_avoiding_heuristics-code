{
 "cells": [
  {
   "cell_type": "code",
   "execution_count": 13,
   "id": "a6877c68",
   "metadata": {},
   "outputs": [],
   "source": [
    "import pandas as pd"
   ]
  },
  {
   "cell_type": "code",
   "execution_count": 14,
   "id": "52cece2d",
   "metadata": {},
   "outputs": [],
   "source": [
    "project_list = ['rails.csv', 'jruby.csv', 'metasploit-framework.csv', 'cloudify.csv', 'vagrant.csv', 'rubinius.csv', 'open-build-service.csv', 'gradle.csv', 'sonarqube.csv', 'loomio.csv', 'fog.csv', 'opal.csv', 'cloud_controller_ng.csv', 'puppet.csv', 'concerto.csv', 'sufia.csv', 'geoserver.csv', 'orbeon-forms.csv', 'graylog2-server.csv', 'heroku.csv']"
   ]
  },
  {
   "cell_type": "code",
   "execution_count": 15,
   "id": "fb0f68d4",
   "metadata": {},
   "outputs": [],
   "source": [
    "distributions = {}\n",
    "path = '../../data/full_data/'"
   ]
  },
  {
   "cell_type": "code",
   "execution_count": 16,
   "id": "77d8cb16",
   "metadata": {},
   "outputs": [],
   "source": [
    "def output_values(Y_data):\n",
    "    Y_t = []\n",
    "    for e in Y_data:\n",
    "        if e == 'passed':\n",
    "            Y_t.append(1)\n",
    "        else:\n",
    "            Y_t.append(0) \n",
    "    return Y_t"
   ]
  },
  {
   "cell_type": "code",
   "execution_count": 17,
   "id": "7f65c98e",
   "metadata": {},
   "outputs": [],
   "source": [
    "def get_first_failures(df):\n",
    "    \n",
    "    results = df['tr_status'].tolist()\n",
    "    length = len(results)\n",
    "    verdict = ['keep']\n",
    "    prev = results[0]\n",
    "    \n",
    "    for i in range(1, length):\n",
    "        if results[i] == 0:\n",
    "            if prev == 0:\n",
    "                verdict.append('discard')\n",
    "                #print(i+1)\n",
    "            else:\n",
    "                verdict.append('keep')\n",
    "        else:\n",
    "            verdict.append('keep')\n",
    "        prev = results[i]\n",
    "    \n",
    "    df['verdict'] = verdict\n",
    "    df = df[ df['verdict'] == 'keep' ]\n",
    "    df.drop('verdict', inplace=True, axis=1)\n",
    "    return df"
   ]
  },
  {
   "cell_type": "code",
   "execution_count": 19,
   "id": "a6b4376d",
   "metadata": {},
   "outputs": [
    {
     "name": "stderr",
     "output_type": "stream",
     "text": [
      "/opt/homebrew/Caskroom/miniforge/base/envs/new_env/lib/python3.9/site-packages/pandas/core/frame.py:4906: SettingWithCopyWarning: \n",
      "A value is trying to be set on a copy of a slice from a DataFrame\n",
      "\n",
      "See the caveats in the documentation: https://pandas.pydata.org/pandas-docs/stable/user_guide/indexing.html#returning-a-view-versus-a-copy\n",
      "  return super().drop(\n"
     ]
    },
    {
     "name": "stdout",
     "output_type": "stream",
     "text": [
      "rails.csv 11370\n",
      "jruby.csv 4453\n",
      "metasploit-framework.csv 7537\n",
      "cloudify.csv 4114\n",
      "vagrant.csv 3879\n",
      "rubinius.csv 3413\n",
      "open-build-service.csv 3247\n",
      "gradle.csv 3490\n",
      "sonarqube.csv 2911\n",
      "loomio.csv 2532\n",
      "fog.csv 2325\n",
      "opal.csv 2545\n",
      "cloud_controller_ng.csv 2223\n",
      "puppet.csv 2323\n",
      "concerto.csv 2224\n",
      "sufia.csv 2153\n",
      "geoserver.csv 1413\n",
      "orbeon-forms.csv 1266\n",
      "graylog2-server.csv 2085\n",
      "heroku.csv 1892\n"
     ]
    }
   ],
   "source": [
    "for p in project_list:\n",
    "    \n",
    "    file_path = path + p.split('.')[0] + '.csv'\n",
    "    p_data = pd.read_csv(file_path)\n",
    "    p_data['tr_status'] = output_values(p_data['tr_status'].tolist())\n",
    "    p_data = get_first_failures(p_data)\n",
    "    print(p, len(p_data))\n",
    "    "
   ]
  },
  {
   "cell_type": "code",
   "execution_count": null,
   "id": "a34c287c",
   "metadata": {},
   "outputs": [],
   "source": []
  },
  {
   "cell_type": "code",
   "execution_count": null,
   "id": "4185e2df",
   "metadata": {},
   "outputs": [],
   "source": []
  }
 ],
 "metadata": {
  "kernelspec": {
   "display_name": "Python 3 (ipykernel)",
   "language": "python",
   "name": "python3"
  },
  "language_info": {
   "codemirror_mode": {
    "name": "ipython",
    "version": 3
   },
   "file_extension": ".py",
   "mimetype": "text/x-python",
   "name": "python",
   "nbconvert_exporter": "python",
   "pygments_lexer": "ipython3",
   "version": "3.9.7"
  }
 },
 "nbformat": 4,
 "nbformat_minor": 5
}
