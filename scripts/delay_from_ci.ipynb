{
 "cells": [
  {
   "cell_type": "code",
   "execution_count": 47,
   "id": "233b7beb",
   "metadata": {},
   "outputs": [],
   "source": [
    "import pandas as pd\n",
    "from statistics import mean, median\n",
    "import sys\n",
    "import pprint"
   ]
  },
  {
   "cell_type": "code",
   "execution_count": 48,
   "id": "b6daf0bf",
   "metadata": {},
   "outputs": [],
   "source": [
    "pp = pprint.PrettyPrinter(indent=4)"
   ]
  },
  {
   "cell_type": "code",
   "execution_count": 49,
   "id": "71ba7b75",
   "metadata": {},
   "outputs": [],
   "source": [
    "old_result_file = 'Final_RQ_Results_Total_Delay.csv'\n",
    "ml_delay_file = '../RQ3/final_results/'\n",
    "ssr_result_file = '../RQ2/final_ssr_results.csv'"
   ]
  },
  {
   "cell_type": "code",
   "execution_count": 50,
   "id": "4c863f3c",
   "metadata": {},
   "outputs": [],
   "source": [
    "batch_sizes = [2, 4, 8, 16]\n",
    "batching_alg = ['BATCH4', 'BATCHBISECT', 'BATCHSTOP4']"
   ]
  },
  {
   "cell_type": "code",
   "execution_count": 51,
   "id": "2c6ffa0e",
   "metadata": {},
   "outputs": [],
   "source": [
    "old = pd.read_csv(old_result_file, index_col=0)\n",
    "gr_results = old[ (old['method']=='gr') & (old['batch_size'] != 32) & ( old['batch_size'] != 1 )]\n",
    "projects = set(gr_results['project'])"
   ]
  },
  {
   "cell_type": "code",
   "execution_count": 52,
   "id": "58d5bf27",
   "metadata": {},
   "outputs": [],
   "source": [
    "def get_results(results):\n",
    "    l = []\n",
    "    \n",
    "    for r in results:\n",
    "        if r == 'passed':\n",
    "            l.append(1)\n",
    "        else:\n",
    "            l.append(0)\n",
    "            \n",
    "    return l"
   ]
  },
  {
   "cell_type": "code",
   "execution_count": 53,
   "id": "5e5848d3",
   "metadata": {},
   "outputs": [],
   "source": [
    "def str_to_list(s):\n",
    "    if s == '[]':\n",
    "        return [0]\n",
    "    l = s[1:-1].split(', ')\n",
    "    l = [int(x) for x in l]\n",
    "    return l"
   ]
  },
  {
   "cell_type": "code",
   "execution_count": 54,
   "id": "d0b1eb9f",
   "metadata": {},
   "outputs": [],
   "source": [
    "ml_delay_lib = {}\n",
    "ssr_delay_lib = {}"
   ]
  },
  {
   "cell_type": "code",
   "execution_count": 55,
   "id": "3e037788",
   "metadata": {},
   "outputs": [],
   "source": [
    "for p in projects:\n",
    "    ml_delay_lib[p] = {'BATCHSTOP4':{4:{}, 8:{}, 16:{}}, 'BATCH4':{4:{}}, 'BATCHBISECT':{4:{}, 2:{}, 8:{}, 16:{}}}\n",
    "    ssr_delay_lib[p] = {'BATCHSTOP4':{4:{}, 8:{}, 16:{}}, 'BATCH4':{4:{}}, 'BATCHBISECT':{1:{}, 2:{}, 4:{}, 8:{}, 16:{}}}"
   ]
  },
  {
   "cell_type": "code",
   "execution_count": 56,
   "id": "c306b30b",
   "metadata": {},
   "outputs": [],
   "source": [
    "project_test_file = {}"
   ]
  },
  {
   "cell_type": "code",
   "execution_count": 57,
   "id": "f982571d",
   "metadata": {},
   "outputs": [],
   "source": [
    "for p in projects:\n",
    "    \n",
    "    test_file = pd.read_csv('../data/test_data/'+p.split('.')[0]+'_test.csv')\n",
    "    ml_results = pd.read_csv(ml_delay_file + p.split('.')[0] + '_ml_batching.csv')\n",
    "    \n",
    "    y_test = get_results(test_file['tr_status'].tolist())\n",
    "    project_test_file[p] = y_test\n",
    "    \n",
    "    #ml batch median delay calculation\n",
    "    for x in range(len(ml_results)):\n",
    "        row = ml_results.iloc[x]\n",
    "        ci = str_to_list(row['ci'])\n",
    "        b = row['batch_size'] - 1\n",
    "        \n",
    "        \n",
    "        i = 0        \n",
    "        delay_list = []\n",
    "        missed = []\n",
    "        \n",
    "        while i < len(ci):\n",
    "            \n",
    "            sbs_delay = 0\n",
    "            batch_delay = 0\n",
    "            \n",
    "            if ci[i] == 0:\n",
    "                \n",
    "                while len(missed) > 0:\n",
    "                    sbs_delay += i - missed.pop()\n",
    "                batch_delay += b\n",
    "                b -= 1\n",
    "                if b == -1:\n",
    "                    b = row['batch_size'] - 1\n",
    "            \n",
    "            if ci[i] == 1:\n",
    "                if y_test[i] == 0:\n",
    "                    missed.append(i)\n",
    "                    \n",
    "            #print(ci[i], y_test[i], sbs_delay, batch_delay)\n",
    "            delay_list.append(sbs_delay + batch_delay)\n",
    "            \n",
    "            i += 1\n",
    "        \n",
    "        ml_delay_lib[p][row['algorithm']][row['batch_size']]['batch_median_delay'] = median(delay_list)\n",
    "        "
   ]
  },
  {
   "cell_type": "code",
   "execution_count": 58,
   "id": "6a84e865",
   "metadata": {},
   "outputs": [],
   "source": [
    "ssr_results = pd.read_csv(ssr_result_file)"
   ]
  },
  {
   "cell_type": "code",
   "execution_count": 59,
   "id": "4cd79eec",
   "metadata": {},
   "outputs": [],
   "source": [
    "for x in range(len(ssr_results)):\n",
    "    row = ssr_results.iloc[x]\n",
    "    ci = str_to_list(row['ci'])\n",
    "    b = row['batch_size'] - 1\n",
    "    \n",
    "    y_test = project_test_file[row['project']+'.csv']\n",
    "    \n",
    "    i = 0        \n",
    "    delay_list = []\n",
    "    missed = []\n",
    "\n",
    "    while i < len(ci):\n",
    "\n",
    "        sbs_delay = 0\n",
    "        batch_delay = 0\n",
    "\n",
    "        if ci[i] == 0:\n",
    "\n",
    "            while len(missed) > 0:\n",
    "                sbs_delay += i - missed.pop()\n",
    "            batch_delay += b\n",
    "            b -= 1\n",
    "            if b == -1:\n",
    "                b = row['batch_size'] - 1\n",
    "\n",
    "        if ci[i] == 1:\n",
    "            if y_test[i] == 0:\n",
    "                missed.append(i)\n",
    "        \n",
    "        delay_list.append(sbs_delay + batch_delay)\n",
    "\n",
    "        i += 1\n",
    "    \n",
    "    ssr_delay_lib[row['project']+'.csv'][row['algorithm']][row['batch_size']]['batch_median_delay'] = median(delay_list)"
   ]
  },
  {
   "cell_type": "code",
   "execution_count": 62,
   "id": "ce082e0f",
   "metadata": {},
   "outputs": [],
   "source": [
    "sbs_median = pd.read_csv('Final_RQ_Results_Median_Delay.csv')\n",
    "sbs_median['batch_delays'] = pd.to_numeric(sbs_median[\"batch_delays\"], downcast=\"float\", errors='coerce')\n",
    "sbs_median['sbs_delays'] = pd.to_numeric(sbs_median[\"sbs_delays\"], downcast=\"float\", errors='coerce')"
   ]
  },
  {
   "cell_type": "code",
   "execution_count": 63,
   "id": "fc04f1d5",
   "metadata": {},
   "outputs": [],
   "source": [
    "lines = []\n",
    "for x in range(len(sbs_median)):\n",
    "    row = sbs_median.iloc[x]\n",
    "    if row['method'] == 'sbs':\n",
    "        lines.append([row['project'], row['method'], row['algorithm'], row['batch_size'], row['builds_reqd'], row['batch_delays'], row['sbs_delays'], row['batch_delays']+row['sbs_delays']])\n",
    "    elif row['method'] == 'gr':\n",
    "        lines.append([row['project'], row['method'], row['algorithm'], row['batch_size'], row['builds_reqd'], row['batch_delays'], row['sbs_delays'], row['batch_delays']+row['sbs_delays']])\n",
    "    elif row['method'] == 'ssr':\n",
    "        d = ssr_delay_lib[row['project']][row['algorithm']][row['batch_size']]['batch_median_delay']\n",
    "        lines.append([row['project'], row['method'], row['algorithm'], row['batch_size'], row['builds_reqd'], 0, 0, d])\n",
    "    elif row['method'] == 'ml':\n",
    "        d = ml_delay_lib[row['project']][row['algorithm']][row['batch_size']]['batch_median_delay']\n",
    "        lines.append([row['project'], row['method'], row['algorithm'], row['batch_size'], row['builds_reqd'], 0, 0, d])"
   ]
  },
  {
   "cell_type": "code",
   "execution_count": 64,
   "id": "a50ca2f3",
   "metadata": {},
   "outputs": [],
   "source": [
    "df = pd.DataFrame(lines, columns=['project', 'method', 'algorithm', 'batch_size', 'builds_reqd', 'batch_delays', 'sbs_delays', 'total_delays'])\n"
   ]
  },
  {
   "cell_type": "code",
   "execution_count": 65,
   "id": "62e3358e",
   "metadata": {},
   "outputs": [],
   "source": [
    "df.to_csv('Final_RQ_Results_Actual_Median_Delay.csv')"
   ]
  },
  {
   "cell_type": "code",
   "execution_count": null,
   "id": "bd1cc609",
   "metadata": {},
   "outputs": [],
   "source": []
  }
 ],
 "metadata": {
  "kernelspec": {
   "display_name": "Python 3 (ipykernel)",
   "language": "python",
   "name": "python3"
  },
  "language_info": {
   "codemirror_mode": {
    "name": "ipython",
    "version": 3
   },
   "file_extension": ".py",
   "mimetype": "text/x-python",
   "name": "python",
   "nbconvert_exporter": "python",
   "pygments_lexer": "ipython3",
   "version": "3.9.7"
  }
 },
 "nbformat": 4,
 "nbformat_minor": 5
}
