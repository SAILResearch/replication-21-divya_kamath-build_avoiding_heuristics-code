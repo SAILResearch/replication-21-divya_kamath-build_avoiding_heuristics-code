{
 "cells": [
  {
   "cell_type": "code",
   "execution_count": 1,
   "id": "233b7beb",
   "metadata": {},
   "outputs": [],
   "source": [
    "import pandas as pd\n",
    "from statistics import mean, median\n",
    "import sys\n",
    "import pprint"
   ]
  },
  {
   "cell_type": "code",
   "execution_count": 2,
   "id": "b6daf0bf",
   "metadata": {},
   "outputs": [],
   "source": [
    "pp = pprint.PrettyPrinter(indent=4)"
   ]
  },
  {
   "cell_type": "code",
   "execution_count": 3,
   "id": "71ba7b75",
   "metadata": {},
   "outputs": [],
   "source": [
    "old_result_file = 'median_sbs_delay_all_methods.csv'\n",
    "ml_delay_file = '../RQ3/final_results/'\n",
    "ssr_result_file = '../RQ2/gfm_all_ssr_results.csv'"
   ]
  },
  {
   "cell_type": "code",
   "execution_count": 4,
   "id": "4c863f3c",
   "metadata": {},
   "outputs": [],
   "source": [
    "batch_sizes = [2, 4, 8, 16]\n",
    "batching_alg = ['BATCH4', 'BATCHBISECT', 'BATCHSTOP4']"
   ]
  },
  {
   "cell_type": "code",
   "execution_count": 5,
   "id": "2c6ffa0e",
   "metadata": {},
   "outputs": [],
   "source": [
    "old = pd.read_csv(old_result_file, index_col=0)\n",
    "gr_results = old[ (old['method']=='gr') & (old['batch_size'] != 32) & ( old['batch_size'] != 1 )]\n",
    "projects = set(gr_results['project'])"
   ]
  },
  {
   "cell_type": "code",
   "execution_count": null,
   "id": "f982571d",
   "metadata": {},
   "outputs": [],
   "source": [
    "for p in projects:\n",
    "    \n",
    "    \n",
    "    test_file = pd.read_csv('../data/test_data/'+p.split('.')[0]+'_test.csv')\n",
    "    ml_results = pd.read_csv(ml_delay_file + p.split('.')[0] + '_ml_batching.csv')\n",
    "    \n",
    "    length = len(test_file)\n",
    "    \n",
    "    #ml batch median delay calculation\n",
    "    for x in range(len(ml_results)):\n",
    "        row = ml_results.iloc[x]\n",
    "        ci = str_to_list(row['ci'])\n",
    "        b = row['batch_size']\n",
    "        \n",
    "        #gr batch median delay calculation\n",
    "        gr_ci = [0] * length\n",
    "        i = 0\n",
    "        gr_delay_list = []\n",
    "        while i < len(gr_ci):\n",
    "            b -= 1\n",
    "            gr_delay_list.append(b)\n",
    "            if b == 0:\n",
    "                b = row['batch_size']\n",
    "            i += 1\n",
    "        \n",
    "        gr_delay_lib[p][row['algorithm']][row['batch_size']]['batch_median_delay'] = median(gr_delay_list)\n",
    "        \n",
    "        i = 0\n",
    "        delay_list = []\n",
    "        while i < len(ci):\n",
    "            if ci[i] == 0:\n",
    "                if b >= 1:\n",
    "                    b -= 1\n",
    "                    delay_list.append(b)\n",
    "                elif b == 0:\n",
    "                    b = row['batch_size']\n",
    "                    b -= 1\n",
    "                    delay_list.append(b)\n",
    "            if ci[i] == 1:\n",
    "                delay_list.append(0)\n",
    "                b = row['batch_size']\n",
    "            i += 1\n",
    "        ml_delay_lib[p][row['algorithm']][row['batch_size']]['batch_median_delay'] = median(delay_list)"
   ]
  }
 ],
 "metadata": {
  "kernelspec": {
   "display_name": "Python 3 (ipykernel)",
   "language": "python",
   "name": "python3"
  },
  "language_info": {
   "codemirror_mode": {
    "name": "ipython",
    "version": 3
   },
   "file_extension": ".py",
   "mimetype": "text/x-python",
   "name": "python",
   "nbconvert_exporter": "python",
   "pygments_lexer": "ipython3",
   "version": "3.9.7"
  }
 },
 "nbformat": 4,
 "nbformat_minor": 5
}
