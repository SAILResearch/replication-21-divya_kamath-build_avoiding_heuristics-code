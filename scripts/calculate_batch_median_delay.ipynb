{
 "cells": [
  {
   "cell_type": "code",
   "execution_count": 1,
   "id": "7ae34c4d",
   "metadata": {},
   "outputs": [],
   "source": [
    "import pandas as pd\n",
    "from statistics import mean, median\n",
    "import sys\n",
    "import pprint"
   ]
  },
  {
   "cell_type": "code",
   "execution_count": 2,
   "id": "ca3613e8",
   "metadata": {},
   "outputs": [],
   "source": [
    "pp = pprint.PrettyPrinter(indent=4)"
   ]
  },
  {
   "cell_type": "code",
   "execution_count": 3,
   "id": "dd94c322",
   "metadata": {},
   "outputs": [],
   "source": [
    "old_result_file = 'median_sbs_delay_all_methods.csv'\n",
    "ml_delay_file = '../RQ3/final_results/'\n",
    "ssr_result_file = '../RQ2/final_ssr_results.csv'"
   ]
  },
  {
   "cell_type": "code",
   "execution_count": 4,
   "id": "c1ff1eb0",
   "metadata": {},
   "outputs": [],
   "source": [
    "batch_sizes = [2, 4, 8, 16]\n",
    "batching_alg = ['BATCH4', 'BATCHBISECT', 'BATCHSTOP4']"
   ]
  },
  {
   "cell_type": "code",
   "execution_count": 5,
   "id": "b7787ed3",
   "metadata": {},
   "outputs": [],
   "source": [
    "old = pd.read_csv(old_result_file, index_col=0)\n",
    "gr_results = old[ (old['method']=='gr') & (old['batch_size'] != 32) & ( old['batch_size'] != 1 )]\n",
    "projects = set(gr_results['project'])"
   ]
  },
  {
   "cell_type": "code",
   "execution_count": 6,
   "id": "e865963f",
   "metadata": {},
   "outputs": [],
   "source": [
    "def str_to_list(s):\n",
    "    if s == '[]':\n",
    "        return [0]\n",
    "    l = s[1:-1].split(', ')\n",
    "    l = [int(x) for x in l]\n",
    "    return l"
   ]
  },
  {
   "cell_type": "code",
   "execution_count": 7,
   "id": "6087cb50",
   "metadata": {},
   "outputs": [],
   "source": [
    "gr_delay_lib = {}\n",
    "ml_delay_lib = {}\n",
    "ssr_delay_lib = {}"
   ]
  },
  {
   "cell_type": "code",
   "execution_count": 8,
   "id": "4fdc53cb",
   "metadata": {},
   "outputs": [
    {
     "name": "stdout",
     "output_type": "stream",
     "text": [
      "19 {'rails.csv', 'cloudify.csv', 'cloud_controller_ng.csv', 'sonarqube.csv', 'orbeon-forms.csv', 'graylog2-server.csv', 'sufia.csv', 'metasploit-framework.csv', 'gradle.csv', 'fog.csv', 'rubinius.csv', 'geoserver.csv', 'puppet.csv', 'loomio.csv', 'opal.csv', 'concerto.csv', 'jruby.csv', 'vagrant.csv', 'open-build-service.csv'}\n"
     ]
    }
   ],
   "source": [
    "print(len(projects), projects)"
   ]
  },
  {
   "cell_type": "code",
   "execution_count": 116,
   "id": "f27ee2a9",
   "metadata": {},
   "outputs": [],
   "source": [
    "for p in projects:\n",
    "    gr_delay_lib[p] = {'BATCHSTOP4':{4:{}, 8:{}, 16:{}}, 'BATCH4':{4:{}}, 'BATCHBISECT':{4:{}, 2:{}, 8:{}, 16:{}}}\n",
    "    ml_delay_lib[p] = {'BATCHSTOP4':{4:{}, 8:{}, 16:{}}, 'BATCH4':{4:{}}, 'BATCHBISECT':{4:{}, 2:{}, 8:{}, 16:{}}}\n",
    "    ssr_delay_lib[p] = {'BATCHSTOP4':{4:{}, 8:{}, 16:{}}, 'BATCH4':{4:{}}, 'BATCHBISECT':{1:{}, 2:{}, 4:{}, 8:{}, 16:{}}}"
   ]
  },
  {
   "cell_type": "code",
   "execution_count": 117,
   "id": "be4bb30e",
   "metadata": {},
   "outputs": [],
   "source": [
    "for p in projects:\n",
    "    \n",
    "    \n",
    "    test_file = pd.read_csv('../data/test_data/'+p.split('.')[0]+'_test.csv')\n",
    "    ml_results = pd.read_csv(ml_delay_file + p.split('.')[0] + '_ml_batching.csv')\n",
    "    \n",
    "    length = len(test_file)\n",
    "    \n",
    "    #ml batch median delay calculation\n",
    "    for x in range(len(ml_results)):\n",
    "        row = ml_results.iloc[x]\n",
    "        ci = str_to_list(row['ci'])\n",
    "        b = row['batch_size']\n",
    "        \n",
    "        #gr batch median delay calculation\n",
    "        gr_ci = [0] * length\n",
    "        i = 0\n",
    "        gr_delay_list = []\n",
    "        while i < len(gr_ci):\n",
    "            b -= 1\n",
    "            gr_delay_list.append(b)\n",
    "            if b == 0:\n",
    "                b = row['batch_size']\n",
    "            i += 1\n",
    "        \n",
    "        gr_delay_lib[p][row['algorithm']][row['batch_size']]['batch_median_delay'] = median(gr_delay_list)\n",
    "        \n",
    "        i = 0\n",
    "        delay_list = []\n",
    "        while i < len(ci):\n",
    "            if ci[i] == 0:\n",
    "                if b >= 1:\n",
    "                    b -= 1\n",
    "                    delay_list.append(b)\n",
    "                elif b == 0:\n",
    "                    b = row['batch_size']\n",
    "                    b -= 1\n",
    "                    delay_list.append(b)\n",
    "            if ci[i] == 1:\n",
    "                delay_list.append(0)\n",
    "                b = row['batch_size']\n",
    "            i += 1\n",
    "        ml_delay_lib[p][row['algorithm']][row['batch_size']]['batch_median_delay'] = median(delay_list)"
   ]
  },
  {
   "cell_type": "code",
   "execution_count": 121,
   "id": "c2abeaaa",
   "metadata": {},
   "outputs": [],
   "source": [
    "ssr_results = pd.read_csv(ssr_result_file)"
   ]
  },
  {
   "cell_type": "code",
   "execution_count": 128,
   "id": "0eaa0c84",
   "metadata": {},
   "outputs": [],
   "source": [
    "for x in range(len(ssr_results)):\n",
    "    row = ssr_results.iloc[x]\n",
    "    batch_delays = str_to_list(row['batch_medians'])    \n",
    "    \n",
    "    ssr_delay_lib[row['project']+'.csv'][row['algorithm']][row['batch_size']]['batch_median_delay'] = median(batch_delays)\n",
    "    "
   ]
  },
  {
   "cell_type": "code",
   "execution_count": 131,
   "id": "b7fc9f93",
   "metadata": {},
   "outputs": [],
   "source": [
    "sbs_median = pd.read_csv(old_result_file)"
   ]
  },
  {
   "cell_type": "code",
   "execution_count": 132,
   "id": "a86cfc0e",
   "metadata": {},
   "outputs": [
    {
     "name": "stdout",
     "output_type": "stream",
     "text": [
      "Unnamed: 0                        759.0\n",
      "project         cloud_controller_ng.csv\n",
      "method                               gr\n",
      "algorithm                   BATCHBISECT\n",
      "batch_size                            2\n",
      "builds_reqd                   76.284585\n",
      "batch_delays                      127.0\n",
      "sbs_delays                          0.0\n",
      "Name: 0, dtype: object\n"
     ]
    }
   ],
   "source": [
    "lines = []\n",
    "for x in range(len(sbs_median)):\n",
    "    row = sbs_median.iloc[x]\n",
    "    if row['method'] == 'sbs':\n",
    "        lines.append([row['project'], row['method'], row['algorithm'], row['batch_size'], row['builds_reqd'], row['batch_delays'], row['sbs_delays'],])\n",
    "    else:\n",
    "        if row['method'] == 'ssr':\n",
    "            d = ssr_delay_lib[row['project']][]\n",
    "    break\n",
    "    "
   ]
  },
  {
   "cell_type": "code",
   "execution_count": null,
   "id": "fd6dc380",
   "metadata": {},
   "outputs": [],
   "source": []
  },
  {
   "cell_type": "code",
   "execution_count": null,
   "id": "8d9f0e81",
   "metadata": {},
   "outputs": [],
   "source": [
    "df = pd.DataFrame(lines, columns=['project', 'method', 'algorithm', 'batch_size', 'builds_reqd', 'batch_delays', 'sbs_delays'])\n"
   ]
  },
  {
   "cell_type": "code",
   "execution_count": null,
   "id": "d744eb56",
   "metadata": {},
   "outputs": [],
   "source": []
  }
 ],
 "metadata": {
  "kernelspec": {
   "display_name": "Python 3 (ipykernel)",
   "language": "python",
   "name": "python3"
  },
  "language_info": {
   "codemirror_mode": {
    "name": "ipython",
    "version": 3
   },
   "file_extension": ".py",
   "mimetype": "text/x-python",
   "name": "python",
   "nbconvert_exporter": "python",
   "pygments_lexer": "ipython3",
   "version": "3.9.7"
  }
 },
 "nbformat": 4,
 "nbformat_minor": 5
}
