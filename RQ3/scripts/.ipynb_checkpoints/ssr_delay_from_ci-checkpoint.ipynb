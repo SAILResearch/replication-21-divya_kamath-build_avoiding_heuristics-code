{
 "cells": [
  {
   "cell_type": "code",
   "execution_count": 1,
   "id": "233b7beb",
   "metadata": {},
   "outputs": [],
   "source": [
    "import pandas as pd\n",
    "from statistics import mean, median\n",
    "import sys\n",
    "import pprint\n",
    "import pickle\n",
    "import csv"
   ]
  },
  {
   "cell_type": "code",
   "execution_count": 2,
   "id": "b6daf0bf",
   "metadata": {},
   "outputs": [],
   "source": [
    "pp = pprint.PrettyPrinter(indent=4)"
   ]
  },
  {
   "cell_type": "code",
   "execution_count": 3,
   "id": "71ba7b75",
   "metadata": {},
   "outputs": [],
   "source": [
    "batch_sizes = [2, 4, 8, 16]\n",
    "batching_alg = ['BATCH4', 'BATCHBISECT', 'BATCHSTOP4']\n",
    "projects = []\n",
    "num = 1\n",
    "project_ytest_lib = {}"
   ]
  },
  {
   "cell_type": "code",
   "execution_count": 4,
   "id": "58d5bf27",
   "metadata": {},
   "outputs": [],
   "source": [
    "def get_results(results):\n",
    "    l = []\n",
    "    \n",
    "    for r in results:\n",
    "        if r == 'passed':\n",
    "            l.append(1)\n",
    "        else:\n",
    "            l.append(0)\n",
    "            \n",
    "    return l"
   ]
  },
  {
   "cell_type": "code",
   "execution_count": 5,
   "id": "5e5848d3",
   "metadata": {},
   "outputs": [],
   "source": [
    "def str_to_list(s):\n",
    "    if s == '[]':\n",
    "        return [0]\n",
    "    l = s[1:-1].split(', ')\n",
    "    l = [int(x) for x in l]\n",
    "    return l"
   ]
  },
  {
   "cell_type": "code",
   "execution_count": 6,
   "id": "3e037788",
   "metadata": {},
   "outputs": [],
   "source": [
    "def get_empty_library():\n",
    "    global projects\n",
    "    ssr_delay_lib = {}\n",
    "    \n",
    "    for p in projects:\n",
    "        ssr_delay_lib[p] = {'BATCHSTOP4':{4:{}, 8:{}, 16:{}}, 'BATCH4':{4:{}}, 'BATCHBISECT':{1:{}, 2:{}, 4:{}, 8:{}, 16:{}}}\n",
    "    for p in ssr_delay_lib:\n",
    "            for alg in ssr_delay_lib[p]:\n",
    "                for b in ssr_delay_lib[p][alg]:\n",
    "                    for i in range(2,21):\n",
    "                        ssr_delay_lib[p][alg][b][i] = {}\n",
    "    \n",
    "    return ssr_delay_lib\n",
    "        "
   ]
  },
  {
   "cell_type": "code",
   "execution_count": 7,
   "id": "4afcc266",
   "metadata": {},
   "outputs": [],
   "source": [
    "def output_values(Y_data):\n",
    "    Y_t = []\n",
    "    for e in Y_data:\n",
    "        if e == 'passed':\n",
    "            Y_t.append(1)\n",
    "        else:\n",
    "            Y_t.append(0) \n",
    "    return Y_t"
   ]
  },
  {
   "cell_type": "code",
   "execution_count": 8,
   "id": "fa50fb5a",
   "metadata": {},
   "outputs": [],
   "source": [
    "def get_first_failures(df):\n",
    "    \n",
    "    results = df['tr_status'].tolist()\n",
    "    length = len(results)\n",
    "    verdict = ['keep']\n",
    "    prev = results[0]\n",
    "    \n",
    "    for i in range(1, length):\n",
    "        if results[i] == 0:\n",
    "            if prev == 0:\n",
    "                verdict.append('discard')\n",
    "                #print(i+1)\n",
    "            else:\n",
    "                verdict.append('keep')\n",
    "        else:\n",
    "            verdict.append('keep')\n",
    "        prev = results[i]\n",
    "    \n",
    "    df['verdict'] = verdict\n",
    "    df = df[ df['verdict'] == 'keep' ]\n",
    "    df.drop('verdict', inplace=True, axis=1)\n",
    "    return df"
   ]
  },
  {
   "cell_type": "code",
   "execution_count": 9,
   "id": "60316418",
   "metadata": {},
   "outputs": [],
   "source": [
    "def get_empty_counter():\n",
    "    d = {}\n",
    "    for i in range(0,21):\n",
    "        d[i] = 0\n",
    "    return d"
   ]
  },
  {
   "cell_type": "code",
   "execution_count": 10,
   "id": "e53925c7",
   "metadata": {},
   "outputs": [],
   "source": [
    "def get_delay_from_ci(ci, y_test, batch_size):\n",
    "    \n",
    "    i = 1        \n",
    "    delay_list = []\n",
    "    delay_counter = get_empty_counter()\n",
    "    \n",
    "    missed = []\n",
    "    batch_list = []\n",
    "    sbs_list = []\n",
    "    \n",
    "    b = batch_size - 1\n",
    "    \n",
    "    while i < len(ci):\n",
    "\n",
    "        if ci[i] == 0:\n",
    "\n",
    "            while len(missed) > 0:\n",
    "                ind = missed.pop()\n",
    "                sbs_list.append(i-ind)\n",
    "                \n",
    "            batch_list.append(b)\n",
    "            b -= 1\n",
    "            if b == -1:\n",
    "                b = batch_size - 1\n",
    "                \n",
    "\n",
    "        if ci[i] == 1:\n",
    "            if y_test[i] == 0:\n",
    "                missed.append(i)\n",
    "        #print(y_test[i], ci[i], sbs_list, batch_list)\n",
    "        i += 1\n",
    "    \n",
    "#     for el in range(0, 21):\n",
    "#         delay_counter[el] += sbs_list.count(el)\n",
    "            \n",
    "#     for el in range(0, 21):\n",
    "#         delay_counter[el] += batch_list.count(el)\n",
    "    \n",
    "    i = len(ci)\n",
    "    while len(missed) > 0:\n",
    "        ind = missed.pop()\n",
    "        sbs_list.append(i-ind)\n",
    "        #delay_counter[i - ind] += 1\n",
    "    \n",
    "    \n",
    "    delay_list.extend(sbs_list)\n",
    "    #delay_list.extend(batch_list)\n",
    "    \n",
    "    return delay_list"
   ]
  },
  {
   "cell_type": "code",
   "execution_count": 11,
   "id": "4cd79eec",
   "metadata": {
    "scrolled": true
   },
   "outputs": [],
   "source": [
    "def get_delay_lib(ssr_results):\n",
    "    \n",
    "    ssr_delay_lib = get_empty_library()\n",
    "    \n",
    "    for x in range(len(ssr_results)):\n",
    "        row = ssr_results.iloc[x]\n",
    "        ci = str_to_list(row['ci'])\n",
    "        batch_size = row['batch_size']\n",
    "        project = row['project']\n",
    "\n",
    "        test_file = pd.read_csv('../../data/exact_data/' + project + '.csv') \n",
    "        test_file['tr_status'] = output_values(test_file['tr_status'])\n",
    "\n",
    "        y_test = test_file['tr_status'].tolist()\n",
    "        \n",
    "#         delay_counter = get_delay_from_ci(ci, y_test, batch_size)\n",
    "#         ssr_delay_lib[row['project']][row['algorithm']][row['batch_size']][row['confidence']]['delays'] = delay_counter\n",
    "\n",
    "        delay_list = get_delay_from_ci(ci, y_test, batch_size)\n",
    "        ssr_delay_lib[row['project']][row['algorithm']][row['batch_size']][row['confidence']]['delays'] = delay_list\n",
    "        \n",
    "    return ssr_delay_lib\n",
    "        "
   ]
  },
  {
   "cell_type": "code",
   "execution_count": 12,
   "id": "b26279a1",
   "metadata": {},
   "outputs": [],
   "source": [
    "def get_median_from_counter(d):\n",
    "    length = sum(d.values())\n",
    "    half = length/2\n",
    "    l = []\n",
    "    i = 0\n",
    "    while i < 21:\n",
    "        l.extend([i for x in range(d[i]) ])\n",
    "        if len(l) > half:\n",
    "            \n",
    "            if length%2 == 0:\n",
    "                m_1 = length//2\n",
    "                m_2 = m_1 + 1\n",
    "                med = (l[m_1] + l[m_2])/2\n",
    "                return med\n",
    "            else:\n",
    "                m = length//2\n",
    "                med = l[m+1]\n",
    "                return med\n",
    "        i += 1\n",
    "                "
   ]
  },
  {
   "cell_type": "code",
   "execution_count": 13,
   "id": "970e68c9",
   "metadata": {},
   "outputs": [],
   "source": [
    "def get_lines(ssr_results, ssr_delay_lib):\n",
    "    lines = []\n",
    "    \n",
    "    for x in range(len(ssr_results)):\n",
    "        row = ssr_results.iloc[x]\n",
    "        d = ssr_delay_lib[row['project']][row['algorithm']][row['batch_size']][row['confidence']]['delays']\n",
    "        #m = get_median_from_counter(d)\n",
    "        if len(d) == 0:\n",
    "            m = 0\n",
    "        else:\n",
    "            m = median(d)\n",
    "        lines.append([row['project'], row['algorithm'], row['batch_size'], row['confidence'], row['project_reqd_builds'], row['testall_size'], d, m])\n",
    "    return lines\n"
   ]
  },
  {
   "cell_type": "code",
   "execution_count": 18,
   "id": "72a25d5a",
   "metadata": {},
   "outputs": [],
   "source": [
    "def get_best_confidence(data, b):\n",
    "    \n",
    "    #typecasting\n",
    "    data['builds_reqd'] = pd.to_numeric(data['builds_reqd'], downcast=\"float\", errors='coerce')   \n",
    "    \n",
    "    #setting parameters\n",
    "    project_list = set(data['project'].tolist())\n",
    "    batching_alg = set(data['algorithm'].tolist())\n",
    "\n",
    "    #result file\n",
    "    result_file = open('redo_best_confidence.csv', 'a+')\n",
    "    res_writer = csv.writer(result_file)\n",
    "    \n",
    "    \n",
    "    #get best confidences\n",
    "    for p in project_list:\n",
    "        \n",
    "        p_name = p + '.csv'\n",
    "        alg_scores = {}\n",
    "        p_data = data[data['project'] == p]\n",
    "        \n",
    "        y_test = pd.read_csv('../../data/exact_data/' + p_name)['tr_status'].tolist()\n",
    "        y_test = output_values(y_test)\n",
    "        \n",
    "        for alg in batching_alg:\n",
    "\n",
    "            alg_data = p_data[p_data['algorithm'] == alg]\n",
    "\n",
    "            total = alg_data['testall_size'].tolist()[0]\n",
    "            reqd_list = alg_data['builds_reqd'].tolist()\n",
    "            median_delays = alg_data['median_delay'].tolist()\n",
    "            delay_lists = alg_data['sbs_delay_list'].tolist()\n",
    "\n",
    "            min_distance = sys.maxsize\n",
    "\n",
    "            best = [p_name, 'ssr', alg, b, 0, 0, [], 0, 0]\n",
    "            best_i = 0\n",
    "\n",
    "            for i in range(len(reqd_list)):\n",
    "                distance = ((reqd_list[i]**2)+(median_delays[i])**2)**0.5\n",
    "                if distance < min_distance:\n",
    "                    best[4] = reqd_list[i]\n",
    "                    best[5] = median_delays[i]\n",
    "                    best[6] = delay_lists[i]\n",
    "                    best[7] = total\n",
    "                    best[8] = i+2\n",
    "                    best_i = i\n",
    "                    min_distance = distance\n",
    "            \n",
    "            res_writer.writerow(best)"
   ]
  },
  {
   "cell_type": "code",
   "execution_count": 19,
   "id": "1f19b204",
   "metadata": {},
   "outputs": [
    {
     "data": {
      "text/plain": [
       "97"
      ]
     },
     "execution_count": 19,
     "metadata": {},
     "output_type": "execute_result"
    }
   ],
   "source": [
    "result_file = open('redo_best_confidence.csv', 'w')\n",
    "res_headers = ['project', 'method', 'algorithm', 'batch_size', 'builds_reqd', 'median_delay', 'delay_list', 'testall_size', 'confidence']\n",
    "res_writer = csv.writer(result_file)\n",
    "res_writer.writerow(res_headers)"
   ]
  },
  {
   "cell_type": "code",
   "execution_count": 20,
   "id": "89780de8",
   "metadata": {},
   "outputs": [],
   "source": [
    "filename = '../trial_results.csv'\n",
    "batchsizes = [1, 2, 4, 8, 16]\n",
    "batch_frames = []\n",
    "\n",
    "ssr_results = pd.read_csv(filename) \n",
    "projects = set(ssr_results['project'].tolist())"
   ]
  },
  {
   "cell_type": "code",
   "execution_count": 21,
   "id": "701e7dab",
   "metadata": {},
   "outputs": [
    {
     "name": "stderr",
     "output_type": "stream",
     "text": [
      "/var/folders/09/2vzp5xpd2ldd4ggk4xzjt1qr0000gn/T/ipykernel_71038/642351455.py:3: DtypeWarning: Columns (4,7,10,14,19,41,59) have mixed types.Specify dtype option on import or set low_memory=False.\n",
      "  ssr_delay_lib = get_delay_lib(batch_data)\n",
      "/var/folders/09/2vzp5xpd2ldd4ggk4xzjt1qr0000gn/T/ipykernel_71038/642351455.py:7: DtypeWarning: Columns (4,7,10,14,19,41,59) have mixed types.Specify dtype option on import or set low_memory=False.\n",
      "  get_best_confidence(df, b)\n"
     ]
    },
    {
     "ename": "StatisticsError",
     "evalue": "no median for empty data",
     "output_type": "error",
     "traceback": [
      "\u001b[0;31m---------------------------------------------------------------------------\u001b[0m",
      "\u001b[0;31mStatisticsError\u001b[0m                           Traceback (most recent call last)",
      "\u001b[0;32m/var/folders/09/2vzp5xpd2ldd4ggk4xzjt1qr0000gn/T/ipykernel_71038/642351455.py\u001b[0m in \u001b[0;36m<module>\u001b[0;34m\u001b[0m\n\u001b[1;32m      2\u001b[0m     \u001b[0mbatch_data\u001b[0m \u001b[0;34m=\u001b[0m \u001b[0mssr_results\u001b[0m\u001b[0;34m[\u001b[0m \u001b[0mssr_results\u001b[0m\u001b[0;34m[\u001b[0m\u001b[0;34m'batch_size'\u001b[0m\u001b[0;34m]\u001b[0m \u001b[0;34m==\u001b[0m \u001b[0mb\u001b[0m\u001b[0;34m]\u001b[0m\u001b[0;34m\u001b[0m\u001b[0;34m\u001b[0m\u001b[0m\n\u001b[1;32m      3\u001b[0m     \u001b[0mssr_delay_lib\u001b[0m \u001b[0;34m=\u001b[0m \u001b[0mget_delay_lib\u001b[0m\u001b[0;34m(\u001b[0m\u001b[0mbatch_data\u001b[0m\u001b[0;34m)\u001b[0m\u001b[0;34m\u001b[0m\u001b[0;34m\u001b[0m\u001b[0m\n\u001b[0;32m----> 4\u001b[0;31m     \u001b[0mlines\u001b[0m \u001b[0;34m=\u001b[0m \u001b[0mget_lines\u001b[0m\u001b[0;34m(\u001b[0m\u001b[0mbatch_data\u001b[0m\u001b[0;34m,\u001b[0m \u001b[0mssr_delay_lib\u001b[0m\u001b[0;34m)\u001b[0m\u001b[0;34m\u001b[0m\u001b[0;34m\u001b[0m\u001b[0m\n\u001b[0m\u001b[1;32m      5\u001b[0m     \u001b[0mnum\u001b[0m \u001b[0;34m+=\u001b[0m \u001b[0;36m1\u001b[0m\u001b[0;34m\u001b[0m\u001b[0;34m\u001b[0m\u001b[0m\n\u001b[1;32m      6\u001b[0m     \u001b[0mdf\u001b[0m \u001b[0;34m=\u001b[0m \u001b[0mpd\u001b[0m\u001b[0;34m.\u001b[0m\u001b[0mDataFrame\u001b[0m\u001b[0;34m(\u001b[0m\u001b[0mlines\u001b[0m\u001b[0;34m,\u001b[0m \u001b[0mcolumns\u001b[0m\u001b[0;34m=\u001b[0m\u001b[0;34m[\u001b[0m\u001b[0;34m'project'\u001b[0m\u001b[0;34m,\u001b[0m \u001b[0;34m'algorithm'\u001b[0m\u001b[0;34m,\u001b[0m \u001b[0;34m'batch_size'\u001b[0m\u001b[0;34m,\u001b[0m \u001b[0;34m'confidence'\u001b[0m\u001b[0;34m,\u001b[0m \u001b[0;34m'builds_reqd'\u001b[0m\u001b[0;34m,\u001b[0m \u001b[0;34m'testall_size'\u001b[0m\u001b[0;34m,\u001b[0m \u001b[0;34m'sbs_delay_list'\u001b[0m\u001b[0;34m,\u001b[0m \u001b[0;34m'median_delay'\u001b[0m\u001b[0;34m]\u001b[0m\u001b[0;34m)\u001b[0m\u001b[0;34m\u001b[0m\u001b[0;34m\u001b[0m\u001b[0m\n",
      "\u001b[0;32m/var/folders/09/2vzp5xpd2ldd4ggk4xzjt1qr0000gn/T/ipykernel_71038/1000933689.py\u001b[0m in \u001b[0;36mget_lines\u001b[0;34m(ssr_results, ssr_delay_lib)\u001b[0m\n\u001b[1;32m      6\u001b[0m         \u001b[0md\u001b[0m \u001b[0;34m=\u001b[0m \u001b[0mssr_delay_lib\u001b[0m\u001b[0;34m[\u001b[0m\u001b[0mrow\u001b[0m\u001b[0;34m[\u001b[0m\u001b[0;34m'project'\u001b[0m\u001b[0;34m]\u001b[0m\u001b[0;34m]\u001b[0m\u001b[0;34m[\u001b[0m\u001b[0mrow\u001b[0m\u001b[0;34m[\u001b[0m\u001b[0;34m'algorithm'\u001b[0m\u001b[0;34m]\u001b[0m\u001b[0;34m]\u001b[0m\u001b[0;34m[\u001b[0m\u001b[0mrow\u001b[0m\u001b[0;34m[\u001b[0m\u001b[0;34m'batch_size'\u001b[0m\u001b[0;34m]\u001b[0m\u001b[0;34m]\u001b[0m\u001b[0;34m[\u001b[0m\u001b[0mrow\u001b[0m\u001b[0;34m[\u001b[0m\u001b[0;34m'confidence'\u001b[0m\u001b[0;34m]\u001b[0m\u001b[0;34m]\u001b[0m\u001b[0;34m[\u001b[0m\u001b[0;34m'delays'\u001b[0m\u001b[0;34m]\u001b[0m\u001b[0;34m\u001b[0m\u001b[0;34m\u001b[0m\u001b[0m\n\u001b[1;32m      7\u001b[0m         \u001b[0;31m#m = get_median_from_counter(d)\u001b[0m\u001b[0;34m\u001b[0m\u001b[0;34m\u001b[0m\u001b[0m\n\u001b[0;32m----> 8\u001b[0;31m         \u001b[0mm\u001b[0m \u001b[0;34m=\u001b[0m \u001b[0mmedian\u001b[0m\u001b[0;34m(\u001b[0m\u001b[0md\u001b[0m\u001b[0;34m)\u001b[0m\u001b[0;34m\u001b[0m\u001b[0;34m\u001b[0m\u001b[0m\n\u001b[0m\u001b[1;32m      9\u001b[0m         \u001b[0mlines\u001b[0m\u001b[0;34m.\u001b[0m\u001b[0mappend\u001b[0m\u001b[0;34m(\u001b[0m\u001b[0;34m[\u001b[0m\u001b[0mrow\u001b[0m\u001b[0;34m[\u001b[0m\u001b[0;34m'project'\u001b[0m\u001b[0;34m]\u001b[0m\u001b[0;34m,\u001b[0m \u001b[0mrow\u001b[0m\u001b[0;34m[\u001b[0m\u001b[0;34m'algorithm'\u001b[0m\u001b[0;34m]\u001b[0m\u001b[0;34m,\u001b[0m \u001b[0mrow\u001b[0m\u001b[0;34m[\u001b[0m\u001b[0;34m'batch_size'\u001b[0m\u001b[0;34m]\u001b[0m\u001b[0;34m,\u001b[0m \u001b[0mrow\u001b[0m\u001b[0;34m[\u001b[0m\u001b[0;34m'confidence'\u001b[0m\u001b[0;34m]\u001b[0m\u001b[0;34m,\u001b[0m \u001b[0mrow\u001b[0m\u001b[0;34m[\u001b[0m\u001b[0;34m'project_reqd_builds'\u001b[0m\u001b[0;34m]\u001b[0m\u001b[0;34m,\u001b[0m \u001b[0mrow\u001b[0m\u001b[0;34m[\u001b[0m\u001b[0;34m'testall_size'\u001b[0m\u001b[0;34m]\u001b[0m\u001b[0;34m,\u001b[0m \u001b[0md\u001b[0m\u001b[0;34m,\u001b[0m \u001b[0mm\u001b[0m\u001b[0;34m]\u001b[0m\u001b[0;34m)\u001b[0m\u001b[0;34m\u001b[0m\u001b[0;34m\u001b[0m\u001b[0m\n\u001b[1;32m     10\u001b[0m     \u001b[0;32mreturn\u001b[0m \u001b[0mlines\u001b[0m\u001b[0;34m\u001b[0m\u001b[0;34m\u001b[0m\u001b[0m\n",
      "\u001b[0;32m/opt/homebrew/Caskroom/miniforge/base/envs/new_env/lib/python3.9/statistics.py\u001b[0m in \u001b[0;36mmedian\u001b[0;34m(data)\u001b[0m\n\u001b[1;32m    428\u001b[0m     \u001b[0mn\u001b[0m \u001b[0;34m=\u001b[0m \u001b[0mlen\u001b[0m\u001b[0;34m(\u001b[0m\u001b[0mdata\u001b[0m\u001b[0;34m)\u001b[0m\u001b[0;34m\u001b[0m\u001b[0;34m\u001b[0m\u001b[0m\n\u001b[1;32m    429\u001b[0m     \u001b[0;32mif\u001b[0m \u001b[0mn\u001b[0m \u001b[0;34m==\u001b[0m \u001b[0;36m0\u001b[0m\u001b[0;34m:\u001b[0m\u001b[0;34m\u001b[0m\u001b[0;34m\u001b[0m\u001b[0m\n\u001b[0;32m--> 430\u001b[0;31m         \u001b[0;32mraise\u001b[0m \u001b[0mStatisticsError\u001b[0m\u001b[0;34m(\u001b[0m\u001b[0;34m\"no median for empty data\"\u001b[0m\u001b[0;34m)\u001b[0m\u001b[0;34m\u001b[0m\u001b[0;34m\u001b[0m\u001b[0m\n\u001b[0m\u001b[1;32m    431\u001b[0m     \u001b[0;32mif\u001b[0m \u001b[0mn\u001b[0m \u001b[0;34m%\u001b[0m \u001b[0;36m2\u001b[0m \u001b[0;34m==\u001b[0m \u001b[0;36m1\u001b[0m\u001b[0;34m:\u001b[0m\u001b[0;34m\u001b[0m\u001b[0;34m\u001b[0m\u001b[0m\n\u001b[1;32m    432\u001b[0m         \u001b[0;32mreturn\u001b[0m \u001b[0mdata\u001b[0m\u001b[0;34m[\u001b[0m\u001b[0mn\u001b[0m \u001b[0;34m//\u001b[0m \u001b[0;36m2\u001b[0m\u001b[0;34m]\u001b[0m\u001b[0;34m\u001b[0m\u001b[0;34m\u001b[0m\u001b[0m\n",
      "\u001b[0;31mStatisticsError\u001b[0m: no median for empty data"
     ]
    }
   ],
   "source": [
    "for b in batchsizes:\n",
    "    batch_data = ssr_results[ ssr_results['batch_size'] == b]\n",
    "    ssr_delay_lib = get_delay_lib(batch_data)\n",
    "    lines = get_lines(batch_data, ssr_delay_lib)\n",
    "    num += 1\n",
    "    df = pd.DataFrame(lines, columns=['project', 'algorithm', 'batch_size', 'confidence', 'builds_reqd', 'testall_size', 'sbs_delay_list', 'median_delay'])\n",
    "    get_best_confidence(df, b)\n",
    "    batch_frames.append(df)\n",
    "    "
   ]
  },
  {
   "cell_type": "code",
   "execution_count": null,
   "id": "2386347c",
   "metadata": {},
   "outputs": [],
   "source": [
    "new_df = pd.DataFrame()\n",
    "for b in batch_frames:\n",
    "    new_df = new_df.append(b)"
   ]
  },
  {
   "cell_type": "code",
   "execution_count": null,
   "id": "a9d0aae7",
   "metadata": {},
   "outputs": [],
   "source": [
    "new_df.to_csv('sbs_delays_ssr.csv')"
   ]
  },
  {
   "cell_type": "code",
   "execution_count": null,
   "id": "33a9d641",
   "metadata": {},
   "outputs": [],
   "source": [
    "# new_df = final_df.drop('sbs_delay_list', axis=1)\n"
   ]
  },
  {
   "cell_type": "markdown",
   "id": "03ba20fc",
   "metadata": {},
   "source": [
    "# Combining Versions"
   ]
  },
  {
   "cell_type": "code",
   "execution_count": 13,
   "id": "ccb27754",
   "metadata": {},
   "outputs": [],
   "source": [
    "def separate_versions(results):\n",
    "    version_dfs = []\n",
    "    \n",
    "    for i in range(1,11):\n",
    "        ver = results[ results['version']==i]\n",
    "        version_dfs.append(ver)\n",
    "    return version_dfs"
   ]
  },
  {
   "cell_type": "code",
   "execution_count": 14,
   "id": "34631d50",
   "metadata": {},
   "outputs": [],
   "source": [
    "def combine_versions(results):\n",
    "    \n",
    "    projects = set(results['project'].tolist())\n",
    "    all_versions = pd.DataFrame()\n",
    "        \n",
    "    for p in projects:\n",
    "        \n",
    "        p_data = results[ results['project']==p]\n",
    "        pframe = pd.DataFrame()\n",
    "        \n",
    "        versions = separate_versions(p_data)\n",
    "        \n",
    "        for start in range(0,10):\n",
    "            if len(versions[start]) > 0:\n",
    "                pframe = versions[start]\n",
    "                break\n",
    "        \n",
    "        for x in range(len(pframe)):\n",
    "            row = pframe.iloc[x]\n",
    "            \n",
    "            alg = row['algorithm']\n",
    "            b = row['batch_size']\n",
    "            conf = row['confidence']\n",
    "            \n",
    "            final_delay_list = row['delay_list']\n",
    "            \n",
    "            for i in range(start+1,10):\n",
    "                next_ver = versions[i]\n",
    "                new_df = next_ver[ (next_ver['algorithm']==alg) & (next_ver['batch_size']==b) & (next_ver['confidence']==conf)]\n",
    "                \n",
    "                if len(new_df) > 0:\n",
    "                    new_row = new_df.iloc[0]\n",
    "                else:\n",
    "                    continue\n",
    "                \n",
    "                total_size = row['testall_size'] + new_row['testall_size']\n",
    "                total_reqd_builds = (row['builds_reqd']*row['testall_size']) + (new_row['builds_reqd']*new_row['testall_size'])\n",
    "                final_delay_list.extend(new_row['delay_list'])\n",
    "                \n",
    "                row['builds_reqd'] = total_reqd_builds/total_size                \n",
    "                row['delay_list'] = final_delay_list\n",
    "                row['testall_size'] = total_size\n",
    "                \n",
    "            pframe.iloc[x] = row\n",
    "        all_versions = all_versions.append(pframe)\n",
    "    \n",
    "    return all_versions"
   ]
  },
  {
   "cell_type": "code",
   "execution_count": 15,
   "id": "78723324",
   "metadata": {},
   "outputs": [
    {
     "name": "stderr",
     "output_type": "stream",
     "text": [
      "/opt/homebrew/Caskroom/miniforge/base/envs/new_env/lib/python3.9/site-packages/pandas/core/series.py:1056: SettingWithCopyWarning: \n",
      "A value is trying to be set on a copy of a slice from a DataFrame\n",
      "\n",
      "See the caveats in the documentation: https://pandas.pydata.org/pandas-docs/stable/user_guide/indexing.html#returning-a-view-versus-a-copy\n",
      "  cacher_needs_updating = self._check_is_chained_assignment_possible()\n",
      "/opt/homebrew/Caskroom/miniforge/base/envs/new_env/lib/python3.9/site-packages/pandas/core/indexing.py:1797: SettingWithCopyWarning: \n",
      "A value is trying to be set on a copy of a slice from a DataFrame.\n",
      "Try using .loc[row_indexer,col_indexer] = value instead\n",
      "\n",
      "See the caveats in the documentation: https://pandas.pydata.org/pandas-docs/stable/user_guide/indexing.html#returning-a-view-versus-a-copy\n",
      "  self._setitem_single_column(loc, v, pi)\n"
     ]
    }
   ],
   "source": [
    "delay_df = combine_versions(final_df)\n"
   ]
  },
  {
   "cell_type": "code",
   "execution_count": 16,
   "id": "7b82320a",
   "metadata": {},
   "outputs": [],
   "source": [
    "delay_df.drop('delay_list', inplace=True, axis=1)"
   ]
  },
  {
   "cell_type": "code",
   "execution_count": 17,
   "id": "8b251068",
   "metadata": {},
   "outputs": [],
   "source": [
    "delay_df.to_csv('full_combined_delay.csv')"
   ]
  },
  {
   "cell_type": "code",
   "execution_count": null,
   "id": "bed64b55",
   "metadata": {},
   "outputs": [],
   "source": []
  },
  {
   "cell_type": "code",
   "execution_count": null,
   "id": "e4984996",
   "metadata": {},
   "outputs": [],
   "source": []
  },
  {
   "cell_type": "code",
   "execution_count": null,
   "id": "6d45b79c",
   "metadata": {},
   "outputs": [],
   "source": []
  },
  {
   "cell_type": "code",
   "execution_count": null,
   "id": "447dcda2",
   "metadata": {},
   "outputs": [],
   "source": []
  },
  {
   "cell_type": "code",
   "execution_count": null,
   "id": "9666b17b",
   "metadata": {},
   "outputs": [],
   "source": []
  }
 ],
 "metadata": {
  "kernelspec": {
   "display_name": "Python 3 (ipykernel)",
   "language": "python",
   "name": "python3"
  },
  "language_info": {
   "codemirror_mode": {
    "name": "ipython",
    "version": 3
   },
   "file_extension": ".py",
   "mimetype": "text/x-python",
   "name": "python",
   "nbconvert_exporter": "python",
   "pygments_lexer": "ipython3",
   "version": "3.9.7"
  }
 },
 "nbformat": 4,
 "nbformat_minor": 5
}
