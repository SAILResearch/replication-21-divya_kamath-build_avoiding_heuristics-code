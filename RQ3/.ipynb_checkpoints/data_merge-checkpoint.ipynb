{
 "cells": [
  {
   "cell_type": "code",
   "execution_count": 195,
   "id": "0d437bfe",
   "metadata": {},
   "outputs": [],
   "source": [
    "import pandas as pd\n",
    "import numpy as np\n",
    "import math\n",
    "from sklearn.ensemble import RandomForestClassifier\n",
    "from sklearn.model_selection import GridSearchCV\n",
    "from sklearn.model_selection import train_test_split\n",
    "from sklearn.metrics import accuracy_score, confusion_matrix, classification_report"
   ]
  },
  {
   "cell_type": "code",
   "execution_count": 196,
   "id": "b4d0c1ca",
   "metadata": {},
   "outputs": [],
   "source": [
    "chef = pd.read_csv('chef_metrics.csv')\n",
    "cloud_controller = pd.read_csv('cloud_controller_ng_metrics.csv')\n",
    "cloudify = pd.read_csv('cloudify_metrics.csv')\n",
    "gradle = pd.read_csv('gradle_metrics copy 2.csv')\n",
    "jruby = pd.read_csv('jruby_yy_metrics.csv')\n",
    "opal = pd.read_csv('opal_metrics copy.csv')\n",
    "orbeon = pd.read_csv('orbeon-forms_metrics.csv')\n",
    "vagrant = pd.read_csv('vagrant_metrics.csv')"
   ]
  },
  {
   "cell_type": "code",
   "execution_count": 197,
   "id": "9550a1bd",
   "metadata": {},
   "outputs": [],
   "source": [
    "chef.drop('num_commits', inplace=True, axis=1)\n",
    "chef.drop('reviewer_experience', inplace=True, axis=1)\n",
    "chef.drop('num_of_reviewers', inplace=True, axis=1)\n",
    "cloudify.drop('num_commits', inplace=True, axis=1)\n",
    "cloudify.drop('reviewer_experience', inplace=True, axis=1)\n",
    "cloudify.drop('num_of_reviewers', inplace=True, axis=1)\n",
    "cloud_controller.drop('num_commits', inplace=True, axis=1)\n",
    "cloud_controller.drop('reviewer_experience', inplace=True, axis=1)\n",
    "cloud_controller.drop('num_of_reviewers', inplace=True, axis=1)\n",
    "gradle.drop('num_commits', inplace=True, axis=1)\n",
    "gradle.drop('reviewer_experience', inplace=True, axis=1)\n",
    "gradle.drop('num_of_reviewers', inplace=True, axis=1)\n",
    "jruby.drop('num_commits', inplace=True, axis=1)\n",
    "jruby.drop('reviewer_experience', inplace=True, axis=1)\n",
    "jruby.drop('num_of_reviewers', inplace=True, axis=1)\n",
    "opal.drop('num_commits', inplace=True, axis=1)\n",
    "jruby.drop('reviewer_experience', inplace=True, axis=1)\n",
    "jruby.drop('num_of_reviewers', inplace=True, axis=1)"
   ]
  },
  {
   "cell_type": "code",
   "execution_count": 198,
   "id": "6c3c29e5",
   "metadata": {},
   "outputs": [
    {
     "data": {
      "text/plain": [
       "\"chef.drop('num_of_comments', inplace=True, axis=1)\\ncloud_controller.drop('num_of_comments', inplace=True, axis=1)\\ncloudify.drop('num_of_comments', inplace=True, axis=1)\\ngradle.drop('num_of_comments', inplace=True, axis=1)\\njruby.drop('num_of_comments', inplace=True, axis=1)\\n\\nchef.drop('files_deleted', inplace=True, axis=1)\\ncloud_controller.drop('files_deleted', inplace=True, axis=1)\\ncloudify.drop('files_deleted', inplace=True, axis=1)\\ngradle.drop('files_deleted', inplace=True, axis=1)\\njruby.drop('files_deleted', inplace=True, axis=1)\""
      ]
     },
     "execution_count": 198,
     "metadata": {},
     "output_type": "execute_result"
    }
   ],
   "source": [
    "'''chef.drop('num_of_comments', inplace=True, axis=1)\n",
    "cloud_controller.drop('num_of_comments', inplace=True, axis=1)\n",
    "cloudify.drop('num_of_comments', inplace=True, axis=1)\n",
    "gradle.drop('num_of_comments', inplace=True, axis=1)\n",
    "jruby.drop('num_of_comments', inplace=True, axis=1)\n",
    "\n",
    "chef.drop('files_deleted', inplace=True, axis=1)\n",
    "cloud_controller.drop('files_deleted', inplace=True, axis=1)\n",
    "cloudify.drop('files_deleted', inplace=True, axis=1)\n",
    "gradle.drop('files_deleted', inplace=True, axis=1)\n",
    "jruby.drop('files_deleted', inplace=True, axis=1)'''"
   ]
  },
  {
   "cell_type": "code",
   "execution_count": 199,
   "id": "eafccff6",
   "metadata": {},
   "outputs": [],
   "source": [
    "def output_values(X_t, Y_data):\n",
    "    Y_t = []\n",
    "    for e in X_t['tr_build_id']:\n",
    "        y_index = list(Y_data['tr_build_id']).index(e)\n",
    "        if Y_data['tr_status'][y_index] == 'passed':\n",
    "            Y_t.append(1)\n",
    "        else:\n",
    "            Y_t.append(0) \n",
    "    return Y_t"
   ]
  },
  {
   "cell_type": "code",
   "execution_count": 200,
   "id": "707be2f7",
   "metadata": {},
   "outputs": [],
   "source": [
    "res_chef = pd.read_csv('../chef.csv')\n",
    "res_cloud_controller = pd.read_csv('../cloud_controller_ng.csv')\n",
    "res_cloudify = pd.read_csv('../cloudify.csv')\n",
    "res_gradle = pd.read_csv('../gradle.csv')\n",
    "res_jruby = pd.read_csv('../jruby.csv')\n",
    "\n",
    "y_chef = output_values(chef, res_chef)\n",
    "y_cloud_controller = output_values(cloud_controller, res_cloud_controller)\n",
    "y_cloudify = output_values(cloudify, res_cloudify)\n",
    "y_gradle = output_values(gradle, res_gradle)\n",
    "y_jruby = output_values(jruby, res_jruby)\n"
   ]
  },
  {
   "cell_type": "code",
   "execution_count": 201,
   "id": "3513155e",
   "metadata": {},
   "outputs": [
    {
     "name": "stdout",
     "output_type": "stream",
     "text": [
      "17043\n"
     ]
    }
   ],
   "source": [
    "print(len(input_data))"
   ]
  },
  {
   "cell_type": "code",
   "execution_count": 202,
   "id": "749aebb9",
   "metadata": {},
   "outputs": [],
   "source": [
    "chef.drop('tr_build_id', inplace=True, axis=1)\n",
    "cloud_controller.drop('tr_build_id', inplace=True, axis=1)\n",
    "cloudify.drop('tr_build_id', inplace=True, axis=1)\n",
    "gradle.drop('tr_build_id', inplace=True, axis=1)\n",
    "jruby.drop('tr_build_id', inplace=True, axis=1)"
   ]
  },
  {
   "cell_type": "code",
   "execution_count": 203,
   "id": "a97678d6",
   "metadata": {},
   "outputs": [
    {
     "name": "stdout",
     "output_type": "stream",
     "text": [
      "17043\n"
     ]
    }
   ],
   "source": [
    "input_data = chef.append(cloud_controller.append(cloudify.append(gradle.append(jruby))))\n",
    "result_data = y_chef + y_cloud_controller + y_cloudify + y_gradle + y_jruby\n",
    "print(len(result_data))"
   ]
  },
  {
   "cell_type": "code",
   "execution_count": 204,
   "id": "3a63f029",
   "metadata": {},
   "outputs": [
    {
     "data": {
      "text/plain": [
       "'split_index = math.floor(len(input_data)*0.70)\\nX = np.array(input_data[:split_index])\\nY = np.array(result_data[:split_index])\\n\\ntest_input = np.array(input_data[split_index:])\\ntest_output = np.array(result_data[split_index:])\\n\\nnum_features = 5'"
      ]
     },
     "execution_count": 204,
     "metadata": {},
     "output_type": "execute_result"
    }
   ],
   "source": [
    "'''split_index = math.floor(len(input_data)*0.70)\n",
    "X = np.array(input_data[:split_index])\n",
    "Y = np.array(result_data[:split_index])\n",
    "\n",
    "test_input = np.array(input_data[split_index:])\n",
    "test_output = np.array(result_data[split_index:])\n",
    "\n",
    "num_features = 5'''\n"
   ]
  },
  {
   "cell_type": "code",
   "execution_count": 205,
   "id": "1adc120a",
   "metadata": {},
   "outputs": [],
   "source": [
    "#X_train = X.reshape((int(len(X)), num_features))"
   ]
  },
  {
   "cell_type": "code",
   "execution_count": 219,
   "id": "5546b056",
   "metadata": {},
   "outputs": [],
   "source": [
    "n_estimators = [int(x) for x in np.linspace(start = 200, stop = 2000, num = 10)]\n",
    "max_depth = [int(x) for x in np.linspace(10, 110, num = 5)]\n",
    "max_depth.append(None)\n",
    "min_samples_split = [2, 5, 10]\n",
    "min_samples_leaf = [1, 2, 4]"
   ]
  },
  {
   "cell_type": "code",
   "execution_count": 220,
   "id": "0e76eae3",
   "metadata": {},
   "outputs": [],
   "source": [
    "param_grid = {'n_estimators': n_estimators,\n",
    "               'max_features': max_features,\n",
    "               'max_depth': max_depth,\n",
    "               'min_samples_split': min_samples_split,\n",
    "               'min_samples_leaf': min_samples_leaf,\n",
    "               'bootstrap': bootstrap}"
   ]
  },
  {
   "cell_type": "code",
   "execution_count": 221,
   "id": "19b23a44",
   "metadata": {},
   "outputs": [
    {
     "data": {
      "text/plain": [
       "\"param_grid = {\\n    'bootstrap': [True],\\n    'max_depth': [80, 90, 100, 110],\\n    'max_features': [2, 3],\\n    'min_samples_leaf': [3, 4, 5],\\n    'min_samples_split': [8, 10, 12],\\n    'n_estimators': [100, 200, 300, 1000]\\n}\""
      ]
     },
     "execution_count": 221,
     "metadata": {},
     "output_type": "execute_result"
    }
   ],
   "source": [
    "'''param_grid = {\n",
    "    'bootstrap': [True],\n",
    "    'max_depth': [80, 90, 100, 110],\n",
    "    'max_features': [2, 3],\n",
    "    'min_samples_leaf': [3, 4, 5],\n",
    "    'min_samples_split': [8, 10, 12],\n",
    "    'n_estimators': [100, 200, 300, 1000]\n",
    "}'''"
   ]
  },
  {
   "cell_type": "code",
   "execution_count": 222,
   "id": "90129f87",
   "metadata": {},
   "outputs": [],
   "source": [
    "from sklearn.model_selection import train_test_split\n",
    "from sklearn.metrics import accuracy_score, confusion_matrix, classification_report\n",
    "\n",
    "X_train, X_test, y_train, y_test = train_test_split(input_data, result_data, random_state=1, stratify=result_data)\n",
    "forest = RandomForestClassifier()"
   ]
  },
  {
   "cell_type": "code",
   "execution_count": 223,
   "id": "52aa1b4f",
   "metadata": {},
   "outputs": [],
   "source": [
    "grid_search = GridSearchCV(estimator = forest, param_grid = param_grid, \n",
    "                          cv = 3, n_jobs = -1, verbose = 2)"
   ]
  },
  {
   "cell_type": "code",
   "execution_count": 218,
   "id": "e775bbf4",
   "metadata": {},
   "outputs": [
    {
     "name": "stdout",
     "output_type": "stream",
     "text": [
      "Fitting 3 folds for each of 3960 candidates, totalling 11880 fits\n"
     ]
    },
    {
     "ename": "KeyboardInterrupt",
     "evalue": "",
     "output_type": "error",
     "traceback": [
      "\u001b[0;31m---------------------------------------------------------------------------\u001b[0m",
      "\u001b[0;31mKeyboardInterrupt\u001b[0m                         Traceback (most recent call last)",
      "\u001b[0;32m/var/folders/09/2vzp5xpd2ldd4ggk4xzjt1qr0000gn/T/ipykernel_1783/2602797336.py\u001b[0m in \u001b[0;36m<module>\u001b[0;34m\u001b[0m\n\u001b[0;32m----> 1\u001b[0;31m \u001b[0mgrid_search\u001b[0m\u001b[0;34m.\u001b[0m\u001b[0mfit\u001b[0m\u001b[0;34m(\u001b[0m\u001b[0mX_train\u001b[0m\u001b[0;34m,\u001b[0m \u001b[0my_train\u001b[0m\u001b[0;34m)\u001b[0m\u001b[0;34m\u001b[0m\u001b[0;34m\u001b[0m\u001b[0m\n\u001b[0m\u001b[1;32m      2\u001b[0m \u001b[0my_pred_test\u001b[0m \u001b[0;34m=\u001b[0m \u001b[0mgrid_search\u001b[0m\u001b[0;34m.\u001b[0m\u001b[0mpredict\u001b[0m\u001b[0;34m(\u001b[0m\u001b[0mX_test\u001b[0m\u001b[0;34m)\u001b[0m\u001b[0;34m\u001b[0m\u001b[0;34m\u001b[0m\u001b[0m\n\u001b[1;32m      3\u001b[0m \u001b[0maccuracy_score\u001b[0m\u001b[0;34m(\u001b[0m\u001b[0my_test\u001b[0m\u001b[0;34m,\u001b[0m \u001b[0my_pred_test\u001b[0m\u001b[0;34m)\u001b[0m\u001b[0;34m\u001b[0m\u001b[0;34m\u001b[0m\u001b[0m\n",
      "\u001b[0;32m/opt/homebrew/Caskroom/miniforge/base/envs/new_env/lib/python3.9/site-packages/sklearn/model_selection/_search.py\u001b[0m in \u001b[0;36mfit\u001b[0;34m(self, X, y, groups, **fit_params)\u001b[0m\n\u001b[1;32m    889\u001b[0m                 \u001b[0;32mreturn\u001b[0m \u001b[0mresults\u001b[0m\u001b[0;34m\u001b[0m\u001b[0;34m\u001b[0m\u001b[0m\n\u001b[1;32m    890\u001b[0m \u001b[0;34m\u001b[0m\u001b[0m\n\u001b[0;32m--> 891\u001b[0;31m             \u001b[0mself\u001b[0m\u001b[0;34m.\u001b[0m\u001b[0m_run_search\u001b[0m\u001b[0;34m(\u001b[0m\u001b[0mevaluate_candidates\u001b[0m\u001b[0;34m)\u001b[0m\u001b[0;34m\u001b[0m\u001b[0;34m\u001b[0m\u001b[0m\n\u001b[0m\u001b[1;32m    892\u001b[0m \u001b[0;34m\u001b[0m\u001b[0m\n\u001b[1;32m    893\u001b[0m             \u001b[0;31m# multimetric is determined here because in the case of a callable\u001b[0m\u001b[0;34m\u001b[0m\u001b[0;34m\u001b[0m\u001b[0m\n",
      "\u001b[0;32m/opt/homebrew/Caskroom/miniforge/base/envs/new_env/lib/python3.9/site-packages/sklearn/model_selection/_search.py\u001b[0m in \u001b[0;36m_run_search\u001b[0;34m(self, evaluate_candidates)\u001b[0m\n\u001b[1;32m   1390\u001b[0m     \u001b[0;32mdef\u001b[0m \u001b[0m_run_search\u001b[0m\u001b[0;34m(\u001b[0m\u001b[0mself\u001b[0m\u001b[0;34m,\u001b[0m \u001b[0mevaluate_candidates\u001b[0m\u001b[0;34m)\u001b[0m\u001b[0;34m:\u001b[0m\u001b[0;34m\u001b[0m\u001b[0;34m\u001b[0m\u001b[0m\n\u001b[1;32m   1391\u001b[0m         \u001b[0;34m\"\"\"Search all candidates in param_grid\"\"\"\u001b[0m\u001b[0;34m\u001b[0m\u001b[0;34m\u001b[0m\u001b[0m\n\u001b[0;32m-> 1392\u001b[0;31m         \u001b[0mevaluate_candidates\u001b[0m\u001b[0;34m(\u001b[0m\u001b[0mParameterGrid\u001b[0m\u001b[0;34m(\u001b[0m\u001b[0mself\u001b[0m\u001b[0;34m.\u001b[0m\u001b[0mparam_grid\u001b[0m\u001b[0;34m)\u001b[0m\u001b[0;34m)\u001b[0m\u001b[0;34m\u001b[0m\u001b[0;34m\u001b[0m\u001b[0m\n\u001b[0m\u001b[1;32m   1393\u001b[0m \u001b[0;34m\u001b[0m\u001b[0m\n\u001b[1;32m   1394\u001b[0m \u001b[0;34m\u001b[0m\u001b[0m\n",
      "\u001b[0;32m/opt/homebrew/Caskroom/miniforge/base/envs/new_env/lib/python3.9/site-packages/sklearn/model_selection/_search.py\u001b[0m in \u001b[0;36mevaluate_candidates\u001b[0;34m(candidate_params, cv, more_results)\u001b[0m\n\u001b[1;32m    836\u001b[0m                     )\n\u001b[1;32m    837\u001b[0m \u001b[0;34m\u001b[0m\u001b[0m\n\u001b[0;32m--> 838\u001b[0;31m                 out = parallel(\n\u001b[0m\u001b[1;32m    839\u001b[0m                     delayed(_fit_and_score)(\n\u001b[1;32m    840\u001b[0m                         \u001b[0mclone\u001b[0m\u001b[0;34m(\u001b[0m\u001b[0mbase_estimator\u001b[0m\u001b[0;34m)\u001b[0m\u001b[0;34m,\u001b[0m\u001b[0;34m\u001b[0m\u001b[0;34m\u001b[0m\u001b[0m\n",
      "\u001b[0;32m/opt/homebrew/Caskroom/miniforge/base/envs/new_env/lib/python3.9/site-packages/joblib/parallel.py\u001b[0m in \u001b[0;36m__call__\u001b[0;34m(self, iterable)\u001b[0m\n\u001b[1;32m   1054\u001b[0m \u001b[0;34m\u001b[0m\u001b[0m\n\u001b[1;32m   1055\u001b[0m             \u001b[0;32mwith\u001b[0m \u001b[0mself\u001b[0m\u001b[0;34m.\u001b[0m\u001b[0m_backend\u001b[0m\u001b[0;34m.\u001b[0m\u001b[0mretrieval_context\u001b[0m\u001b[0;34m(\u001b[0m\u001b[0;34m)\u001b[0m\u001b[0;34m:\u001b[0m\u001b[0;34m\u001b[0m\u001b[0;34m\u001b[0m\u001b[0m\n\u001b[0;32m-> 1056\u001b[0;31m                 \u001b[0mself\u001b[0m\u001b[0;34m.\u001b[0m\u001b[0mretrieve\u001b[0m\u001b[0;34m(\u001b[0m\u001b[0;34m)\u001b[0m\u001b[0;34m\u001b[0m\u001b[0;34m\u001b[0m\u001b[0m\n\u001b[0m\u001b[1;32m   1057\u001b[0m             \u001b[0;31m# Make sure that we get a last message telling us we are done\u001b[0m\u001b[0;34m\u001b[0m\u001b[0;34m\u001b[0m\u001b[0m\n\u001b[1;32m   1058\u001b[0m             \u001b[0melapsed_time\u001b[0m \u001b[0;34m=\u001b[0m \u001b[0mtime\u001b[0m\u001b[0;34m.\u001b[0m\u001b[0mtime\u001b[0m\u001b[0;34m(\u001b[0m\u001b[0;34m)\u001b[0m \u001b[0;34m-\u001b[0m \u001b[0mself\u001b[0m\u001b[0;34m.\u001b[0m\u001b[0m_start_time\u001b[0m\u001b[0;34m\u001b[0m\u001b[0;34m\u001b[0m\u001b[0m\n",
      "\u001b[0;32m/opt/homebrew/Caskroom/miniforge/base/envs/new_env/lib/python3.9/site-packages/joblib/parallel.py\u001b[0m in \u001b[0;36mretrieve\u001b[0;34m(self)\u001b[0m\n\u001b[1;32m    933\u001b[0m             \u001b[0;32mtry\u001b[0m\u001b[0;34m:\u001b[0m\u001b[0;34m\u001b[0m\u001b[0;34m\u001b[0m\u001b[0m\n\u001b[1;32m    934\u001b[0m                 \u001b[0;32mif\u001b[0m \u001b[0mgetattr\u001b[0m\u001b[0;34m(\u001b[0m\u001b[0mself\u001b[0m\u001b[0;34m.\u001b[0m\u001b[0m_backend\u001b[0m\u001b[0;34m,\u001b[0m \u001b[0;34m'supports_timeout'\u001b[0m\u001b[0;34m,\u001b[0m \u001b[0;32mFalse\u001b[0m\u001b[0;34m)\u001b[0m\u001b[0;34m:\u001b[0m\u001b[0;34m\u001b[0m\u001b[0;34m\u001b[0m\u001b[0m\n\u001b[0;32m--> 935\u001b[0;31m                     \u001b[0mself\u001b[0m\u001b[0;34m.\u001b[0m\u001b[0m_output\u001b[0m\u001b[0;34m.\u001b[0m\u001b[0mextend\u001b[0m\u001b[0;34m(\u001b[0m\u001b[0mjob\u001b[0m\u001b[0;34m.\u001b[0m\u001b[0mget\u001b[0m\u001b[0;34m(\u001b[0m\u001b[0mtimeout\u001b[0m\u001b[0;34m=\u001b[0m\u001b[0mself\u001b[0m\u001b[0;34m.\u001b[0m\u001b[0mtimeout\u001b[0m\u001b[0;34m)\u001b[0m\u001b[0;34m)\u001b[0m\u001b[0;34m\u001b[0m\u001b[0;34m\u001b[0m\u001b[0m\n\u001b[0m\u001b[1;32m    936\u001b[0m                 \u001b[0;32melse\u001b[0m\u001b[0;34m:\u001b[0m\u001b[0;34m\u001b[0m\u001b[0;34m\u001b[0m\u001b[0m\n\u001b[1;32m    937\u001b[0m                     \u001b[0mself\u001b[0m\u001b[0;34m.\u001b[0m\u001b[0m_output\u001b[0m\u001b[0;34m.\u001b[0m\u001b[0mextend\u001b[0m\u001b[0;34m(\u001b[0m\u001b[0mjob\u001b[0m\u001b[0;34m.\u001b[0m\u001b[0mget\u001b[0m\u001b[0;34m(\u001b[0m\u001b[0;34m)\u001b[0m\u001b[0;34m)\u001b[0m\u001b[0;34m\u001b[0m\u001b[0;34m\u001b[0m\u001b[0m\n",
      "\u001b[0;32m/opt/homebrew/Caskroom/miniforge/base/envs/new_env/lib/python3.9/site-packages/joblib/_parallel_backends.py\u001b[0m in \u001b[0;36mwrap_future_result\u001b[0;34m(future, timeout)\u001b[0m\n\u001b[1;32m    540\u001b[0m         AsyncResults.get from multiprocessing.\"\"\"\n\u001b[1;32m    541\u001b[0m         \u001b[0;32mtry\u001b[0m\u001b[0;34m:\u001b[0m\u001b[0;34m\u001b[0m\u001b[0;34m\u001b[0m\u001b[0m\n\u001b[0;32m--> 542\u001b[0;31m             \u001b[0;32mreturn\u001b[0m \u001b[0mfuture\u001b[0m\u001b[0;34m.\u001b[0m\u001b[0mresult\u001b[0m\u001b[0;34m(\u001b[0m\u001b[0mtimeout\u001b[0m\u001b[0;34m=\u001b[0m\u001b[0mtimeout\u001b[0m\u001b[0;34m)\u001b[0m\u001b[0;34m\u001b[0m\u001b[0;34m\u001b[0m\u001b[0m\n\u001b[0m\u001b[1;32m    543\u001b[0m         \u001b[0;32mexcept\u001b[0m \u001b[0mCfTimeoutError\u001b[0m \u001b[0;32mas\u001b[0m \u001b[0me\u001b[0m\u001b[0;34m:\u001b[0m\u001b[0;34m\u001b[0m\u001b[0;34m\u001b[0m\u001b[0m\n\u001b[1;32m    544\u001b[0m             \u001b[0;32mraise\u001b[0m \u001b[0mTimeoutError\u001b[0m \u001b[0;32mfrom\u001b[0m \u001b[0me\u001b[0m\u001b[0;34m\u001b[0m\u001b[0;34m\u001b[0m\u001b[0m\n",
      "\u001b[0;32m/opt/homebrew/Caskroom/miniforge/base/envs/new_env/lib/python3.9/concurrent/futures/_base.py\u001b[0m in \u001b[0;36mresult\u001b[0;34m(self, timeout)\u001b[0m\n\u001b[1;32m    438\u001b[0m                     \u001b[0;32mreturn\u001b[0m \u001b[0mself\u001b[0m\u001b[0;34m.\u001b[0m\u001b[0m__get_result\u001b[0m\u001b[0;34m(\u001b[0m\u001b[0;34m)\u001b[0m\u001b[0;34m\u001b[0m\u001b[0;34m\u001b[0m\u001b[0m\n\u001b[1;32m    439\u001b[0m \u001b[0;34m\u001b[0m\u001b[0m\n\u001b[0;32m--> 440\u001b[0;31m                 \u001b[0mself\u001b[0m\u001b[0;34m.\u001b[0m\u001b[0m_condition\u001b[0m\u001b[0;34m.\u001b[0m\u001b[0mwait\u001b[0m\u001b[0;34m(\u001b[0m\u001b[0mtimeout\u001b[0m\u001b[0;34m)\u001b[0m\u001b[0;34m\u001b[0m\u001b[0;34m\u001b[0m\u001b[0m\n\u001b[0m\u001b[1;32m    441\u001b[0m \u001b[0;34m\u001b[0m\u001b[0m\n\u001b[1;32m    442\u001b[0m                 \u001b[0;32mif\u001b[0m \u001b[0mself\u001b[0m\u001b[0;34m.\u001b[0m\u001b[0m_state\u001b[0m \u001b[0;32min\u001b[0m \u001b[0;34m[\u001b[0m\u001b[0mCANCELLED\u001b[0m\u001b[0;34m,\u001b[0m \u001b[0mCANCELLED_AND_NOTIFIED\u001b[0m\u001b[0;34m]\u001b[0m\u001b[0;34m:\u001b[0m\u001b[0;34m\u001b[0m\u001b[0;34m\u001b[0m\u001b[0m\n",
      "\u001b[0;32m/opt/homebrew/Caskroom/miniforge/base/envs/new_env/lib/python3.9/threading.py\u001b[0m in \u001b[0;36mwait\u001b[0;34m(self, timeout)\u001b[0m\n\u001b[1;32m    310\u001b[0m         \u001b[0;32mtry\u001b[0m\u001b[0;34m:\u001b[0m    \u001b[0;31m# restore state no matter what (e.g., KeyboardInterrupt)\u001b[0m\u001b[0;34m\u001b[0m\u001b[0;34m\u001b[0m\u001b[0m\n\u001b[1;32m    311\u001b[0m             \u001b[0;32mif\u001b[0m \u001b[0mtimeout\u001b[0m \u001b[0;32mis\u001b[0m \u001b[0;32mNone\u001b[0m\u001b[0;34m:\u001b[0m\u001b[0;34m\u001b[0m\u001b[0;34m\u001b[0m\u001b[0m\n\u001b[0;32m--> 312\u001b[0;31m                 \u001b[0mwaiter\u001b[0m\u001b[0;34m.\u001b[0m\u001b[0macquire\u001b[0m\u001b[0;34m(\u001b[0m\u001b[0;34m)\u001b[0m\u001b[0;34m\u001b[0m\u001b[0;34m\u001b[0m\u001b[0m\n\u001b[0m\u001b[1;32m    313\u001b[0m                 \u001b[0mgotit\u001b[0m \u001b[0;34m=\u001b[0m \u001b[0;32mTrue\u001b[0m\u001b[0;34m\u001b[0m\u001b[0;34m\u001b[0m\u001b[0m\n\u001b[1;32m    314\u001b[0m             \u001b[0;32melse\u001b[0m\u001b[0;34m:\u001b[0m\u001b[0;34m\u001b[0m\u001b[0;34m\u001b[0m\u001b[0m\n",
      "\u001b[0;31mKeyboardInterrupt\u001b[0m: "
     ]
    }
   ],
   "source": [
    "grid_search.fit(X_train, y_train)\n",
    "y_pred_test = grid_search.predict(X_test)\n",
    "accuracy_score(y_test, y_pred_test)"
   ]
  },
  {
   "cell_type": "code",
   "execution_count": 170,
   "id": "02794b9e",
   "metadata": {},
   "outputs": [
    {
     "name": "stdout",
     "output_type": "stream",
     "text": [
      "Fitting 3 folds for each of 288 candidates, totalling 864 fits\n"
     ]
    }
   ],
   "source": [
    "predictor = grid_search.fit(X_train, Y)"
   ]
  },
  {
   "cell_type": "code",
   "execution_count": 171,
   "id": "5cf292ea",
   "metadata": {},
   "outputs": [],
   "source": [
    "y_res = []\n",
    "for index in range(len(test_input)):\n",
    "    new_build = test_input[index]\n",
    "    new_build = new_build.reshape((1, num_features))\n",
    "    predict_result = predictor.predict(new_build)\n",
    "    y_res.append(predict_result)"
   ]
  },
  {
   "cell_type": "code",
   "execution_count": 172,
   "id": "0567112e",
   "metadata": {},
   "outputs": [
    {
     "name": "stdout",
     "output_type": "stream",
     "text": [
      "44.690005867396835\n"
     ]
    }
   ],
   "source": [
    "count = 0\n",
    "for index in range(len(y_res)):\n",
    "    if y_res[index] == test_output[index]:\n",
    "        count += 1\n",
    "\n",
    "print(count*100/len(y_res))"
   ]
  },
  {
   "cell_type": "code",
   "execution_count": 173,
   "id": "175936a9",
   "metadata": {},
   "outputs": [
    {
     "name": "stdout",
     "output_type": "stream",
     "text": [
      "{'bootstrap': True, 'max_depth': 100, 'max_features': 2, 'min_samples_leaf': 4, 'min_samples_split': 12, 'n_estimators': 100}\n"
     ]
    }
   ],
   "source": [
    "print(grid_search.best_params_)"
   ]
  },
  {
   "cell_type": "code",
   "execution_count": 151,
   "id": "37fd32a8",
   "metadata": {},
   "outputs": [
    {
     "name": "stdout",
     "output_type": "stream",
     "text": [
      "      patch_size  num_of_comments  test_file_changes  files_added  \\\n",
      "0              2                0                 41            1   \n",
      "1              9                0                262            1   \n",
      "2              0                0                  4            0   \n",
      "3              2                0                 12            0   \n",
      "4            274                0                 62            2   \n",
      "...          ...              ...                ...          ...   \n",
      "7341           0                0                 15            0   \n",
      "7342         365                0                  0            0   \n",
      "7343           0                0                417            0   \n",
      "7344          35                0                  0            0   \n",
      "7345          22                0                  0            0   \n",
      "\n",
      "      files_deleted  frequency_file_change  developer_experience  \n",
      "0                 0                     23                     1  \n",
      "1                 0                    140                     0  \n",
      "2                 0                     18                     0  \n",
      "3                 0                     29                  1316  \n",
      "4                 0                     51                  1658  \n",
      "...             ...                    ...                   ...  \n",
      "7341              0                      2                  5025  \n",
      "7342              0                     33                    40  \n",
      "7343              2                      5                  1723  \n",
      "7344              0                     13                  1724  \n",
      "7345              0                    608                  1724  \n",
      "\n",
      "[17043 rows x 7 columns]\n"
     ]
    }
   ],
   "source": [
    "print(input_data)"
   ]
  },
  {
   "cell_type": "code",
   "execution_count": null,
   "id": "c1b44b26",
   "metadata": {},
   "outputs": [],
   "source": []
  }
 ],
 "metadata": {
  "kernelspec": {
   "display_name": "Python 3 (ipykernel)",
   "language": "python",
   "name": "python3"
  },
  "language_info": {
   "codemirror_mode": {
    "name": "ipython",
    "version": 3
   },
   "file_extension": ".py",
   "mimetype": "text/x-python",
   "name": "python",
   "nbconvert_exporter": "python",
   "pygments_lexer": "ipython3",
   "version": "3.9.7"
  }
 },
 "nbformat": 4,
 "nbformat_minor": 5
}
