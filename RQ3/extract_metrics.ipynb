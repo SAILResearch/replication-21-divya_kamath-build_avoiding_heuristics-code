{
 "cells": [
  {
   "cell_type": "code",
   "execution_count": 1,
   "id": "5279e188",
   "metadata": {},
   "outputs": [],
   "source": [
    "from github import Github\n",
    "import requests\n",
    "import csv\n",
    "import pandas as pd\n",
    "import time\n",
    "from datetime import datetime\n",
    "from pprint import pprint\n",
    "from dateutil.relativedelta import relativedelta "
   ]
  },
  {
   "cell_type": "code",
   "execution_count": 2,
   "id": "c441fd4b",
   "metadata": {},
   "outputs": [],
   "source": [
    "project_list = ['heroku.csv']"
   ]
  },
  {
   "cell_type": "code",
   "execution_count": 3,
   "id": "73e9fc4a",
   "metadata": {},
   "outputs": [],
   "source": [
    "dataset_path = '../data/full_data/'\n",
    "metrics_path = 'project_metrics/'"
   ]
  },
  {
   "cell_type": "code",
   "execution_count": 4,
   "id": "dda47aed",
   "metadata": {},
   "outputs": [],
   "source": [
    "feature_headers = ['tr_build_id', 'git_diff_src_churn', 'gh_num_commit_comments', 'git_diff_test_churn', 'gh_diff_files_added', 'gh_diff_files_deleted', 'gh_diff_files_modified', 'git_num_all_built_commits', 'gh_num_commits_on_files_touched', 'git_num_all_built_commits', 'tr_status']"
   ]
  },
  {
   "cell_type": "code",
   "execution_count": 6,
   "id": "98279b96",
   "metadata": {},
   "outputs": [
    {
     "name": "stdout",
     "output_type": "stream",
     "text": [
      "Processing heroku\n"
     ]
    }
   ],
   "source": [
    "for project in project_list:\n",
    "    name = project.split('.')[0]\n",
    "    metrics_name = name + '_metrics.csv'\n",
    "    \n",
    "    csv_file = pd.read_csv(dataset_path + project, on_bad_lines='skip')\n",
    "    print('Processing {}'.format(name))\n",
    "    \n",
    "    writefile = open(metrics_path + metrics_name, 'w')\n",
    "    writer = csv.writer(writefile)\n",
    "    writer.writerow(feature_headers)\n",
    "    \n",
    "    for c_id in range(len(csv_file['tr_original_commit'])):\n",
    "        features = []\n",
    "        commit = csv_file['tr_original_commit'][c_id]\n",
    "        if commit != '':\n",
    "            features.append(csv_file['tr_build_id'][c_id])\n",
    "            features.append(csv_file['git_diff_src_churn'][c_id])\n",
    "            features.append(csv_file['gh_num_commit_comments'][c_id])\n",
    "            features.append(csv_file['git_diff_test_churn'][c_id])\n",
    "            features.append(csv_file['gh_diff_files_added'][c_id])\n",
    "            features.append(csv_file['gh_diff_files_deleted'][c_id])\n",
    "            features.append(csv_file['gh_diff_files_modified'][c_id])\n",
    "            features.append(csv_file['git_num_all_built_commits'][c_id])\n",
    "            features.append(csv_file['gh_num_commits_on_files_touched'][c_id])\n",
    "            features.append(csv_file['git_num_all_built_commits'][c_id])\n",
    "            features.append(csv_file['tr_status'][c_id])\n",
    "        \n",
    "        writer.writerow(features)"
   ]
  },
  {
   "cell_type": "code",
   "execution_count": 7,
   "id": "905173a3",
   "metadata": {},
   "outputs": [],
   "source": [
    "data = pd.read_csv('project_metrics/heroku_metrics.csv')"
   ]
  },
  {
   "cell_type": "code",
   "execution_count": 8,
   "id": "faff267e",
   "metadata": {},
   "outputs": [
    {
     "data": {
      "text/plain": [
       "2083"
      ]
     },
     "execution_count": 8,
     "metadata": {},
     "output_type": "execute_result"
    }
   ],
   "source": [
    "len(data)"
   ]
  },
  {
   "cell_type": "code",
   "execution_count": null,
   "id": "a44f37ae",
   "metadata": {},
   "outputs": [],
   "source": []
  }
 ],
 "metadata": {
  "kernelspec": {
   "display_name": "Python 3 (ipykernel)",
   "language": "python",
   "name": "python3"
  },
  "language_info": {
   "codemirror_mode": {
    "name": "ipython",
    "version": 3
   },
   "file_extension": ".py",
   "mimetype": "text/x-python",
   "name": "python",
   "nbconvert_exporter": "python",
   "pygments_lexer": "ipython3",
   "version": "3.9.7"
  }
 },
 "nbformat": 4,
 "nbformat_minor": 5
}
