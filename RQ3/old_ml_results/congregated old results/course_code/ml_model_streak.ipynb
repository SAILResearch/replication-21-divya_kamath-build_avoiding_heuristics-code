{
 "cells": [
  {
   "cell_type": "code",
   "execution_count": 1,
   "id": "da50a3ee",
   "metadata": {},
   "outputs": [],
   "source": [
    "import pandas as pd\n",
    "import numpy as np\n",
    "import math\n",
    "from sklearn.ensemble import RandomForestClassifier\n",
    "from sklearn.model_selection import GridSearchCV\n",
    "from sklearn.model_selection import train_test_split\n",
    "from sklearn.metrics import accuracy_score, confusion_matrix, classification_report\n",
    "from sklearn.utils import resample\n",
    "from sklearn.metrics import roc_curve\n",
    "from sklearn.metrics import precision_recall_curve\n",
    "from sklearn.metrics import f1_score\n",
    "from matplotlib import pyplot\n",
    "import pickle\n",
    "import csv"
   ]
  },
  {
   "cell_type": "code",
   "execution_count": 2,
   "id": "d884cb16",
   "metadata": {},
   "outputs": [],
   "source": [
    "def output_values(X_t, Y_data):\n",
    "    Y_t = []\n",
    "    for e in X_t['tr_build_id']:\n",
    "        y_index = list(Y_data['tr_build_id']).index(e)\n",
    "        if Y_data['tr_status'][y_index] == 'passed':\n",
    "            Y_t.append(1)\n",
    "        else:\n",
    "            Y_t.append(0) \n",
    "    return Y_t"
   ]
  },
  {
   "cell_type": "code",
   "execution_count": 17,
   "id": "c07edf52",
   "metadata": {},
   "outputs": [],
   "source": [
    "def get_pass_streak(y_project):\n",
    "    p = y_project[0]\n",
    "    pass_streak = [y_project[0]]\n",
    "    for i in range(1, len(y_project)):\n",
    "        if y_project[i] == 1:\n",
    "            p += 1\n",
    "        else:\n",
    "            p = 0\n",
    "        pass_streak.append(p)\n",
    "    return num_passes"
   ]
  },
  {
   "cell_type": "code",
   "execution_count": 18,
   "id": "69cd2f30",
   "metadata": {},
   "outputs": [],
   "source": [
    "cloud_controller = pd.read_csv('metrics_data/cloud_controller_ng_metrics.csv')\n",
    "res_cloud_controller = pd.read_csv('../data/cloud_controller_ng.csv')\n",
    "y_cloud_controller = output_values(cloud_controller, res_cloud_controller)"
   ]
  },
  {
   "cell_type": "code",
   "execution_count": 19,
   "id": "959d8f1e",
   "metadata": {},
   "outputs": [],
   "source": [
    "geoserver = pd.read_csv('metrics_data/geoserver_metrics.csv')\n",
    "res_geoserver = pd.read_csv('../data/geoserver.csv')\n",
    "y_geoserver = output_values(geoserver, res_geoserver)"
   ]
  },
  {
   "cell_type": "code",
   "execution_count": 20,
   "id": "c3c4d206",
   "metadata": {},
   "outputs": [],
   "source": [
    "gradle = pd.read_csv('metrics_data/gradle_metrics copy 2.csv')\n",
    "res_gradle = pd.read_csv('../data/gradle.csv')\n",
    "y_gradle = output_values(gradle, res_gradle)"
   ]
  },
  {
   "cell_type": "code",
   "execution_count": 21,
   "id": "3f395982",
   "metadata": {},
   "outputs": [],
   "source": [
    "projects = [gradle, cloud_controller, geoserver]"
   ]
  },
  {
   "cell_type": "code",
   "execution_count": 22,
   "id": "a68ab6a8",
   "metadata": {},
   "outputs": [],
   "source": [
    "gradle.drop('num_commits', inplace=True, axis=1)\n",
    "gradle.drop('reviewer_experience', inplace=True, axis=1)\n",
    "gradle.drop('num_of_reviewers', inplace=True, axis=1)\n",
    "\n",
    "cloud_controller.drop('num_commits', inplace=True, axis=1)\n",
    "cloud_controller.drop('reviewer_experience', inplace=True, axis=1)\n",
    "cloud_controller.drop('num_of_reviewers', inplace=True, axis=1)\n",
    "\n",
    "geoserver.drop('num_commits', inplace=True, axis=1)\n",
    "geoserver.drop('reviewer_experience', inplace=True, axis=1)\n",
    "geoserver.drop('num_of_reviewers', inplace=True, axis=1)"
   ]
  },
  {
   "cell_type": "code",
   "execution_count": 23,
   "id": "bb14e5fe",
   "metadata": {},
   "outputs": [],
   "source": [
    "gradle['num_of_passes'] = get_pass_streak(y_gradle)\n",
    "cloud_controller['num_of_passes'] = get_pass_streak(y_cloud_controller)\n",
    "geoserver['num_of_passes'] = get_pass_streak(y_geoserver)"
   ]
  },
  {
   "cell_type": "code",
   "execution_count": 24,
   "id": "4ce16b72",
   "metadata": {},
   "outputs": [],
   "source": [
    "n_estimators = [int(x) for x in np.linspace(start = 200, stop = 2000, num = 10)]\n",
    "max_depth = [int(x) for x in np.linspace(10, 110, num = 5)]\n",
    "max_depth.append(None)\n",
    "min_samples_split = [2, 5, 10]\n",
    "min_samples_leaf = [1, 2, 4]"
   ]
  },
  {
   "cell_type": "code",
   "execution_count": 25,
   "id": "df94ef3a",
   "metadata": {},
   "outputs": [],
   "source": [
    "param_grid = {'n_estimators': n_estimators,\n",
    "               'max_depth': max_depth,\n",
    "               'min_samples_split': min_samples_split,\n",
    "               'min_samples_leaf': min_samples_leaf\n",
    "             }"
   ]
  },
  {
   "cell_type": "code",
   "execution_count": 26,
   "id": "76455612",
   "metadata": {},
   "outputs": [],
   "source": [
    "forest = RandomForestClassifier()\n",
    "grid_search = GridSearchCV(estimator = forest, param_grid = param_grid, \n",
    "                          cv = 3, n_jobs = -1, verbose = 2)"
   ]
  },
  {
   "cell_type": "code",
   "execution_count": 36,
   "id": "2e08ea16",
   "metadata": {},
   "outputs": [],
   "source": [
    "#estimating for geoserver\n",
    "split_index = int(len(y_geoserver)*0.80)\n",
    "X_train = np.array(geoserver[:split_index])\n",
    "X_test = np.array(geoserver[split_index:])\n",
    "y_train = np.array(y_geoserver[:split_index])\n",
    "y_test = np.array(y_geoserver[split_index:])"
   ]
  },
  {
   "cell_type": "code",
   "execution_count": 37,
   "id": "3e63a184",
   "metadata": {},
   "outputs": [
    {
     "name": "stdout",
     "output_type": "stream",
     "text": [
      "[[11905123        0        0 ...        1        0        0]\n",
      " [11905554        0        0 ...        3        0        0]\n",
      " [11909050        0        0 ...       10        0        0]\n",
      " ...\n",
      " [97840373        0        0 ...        8     1262      767]\n",
      " [97840774        8        0 ...       16     1262      768]\n",
      " [97841159       23        0 ...       35      231      768]]\n"
     ]
    }
   ],
   "source": [
    "print(X_train)"
   ]
  },
  {
   "cell_type": "code",
   "execution_count": 38,
   "id": "7dad0134",
   "metadata": {},
   "outputs": [
    {
     "name": "stdout",
     "output_type": "stream",
     "text": [
      "Fitting 3 folds for each of 540 candidates, totalling 1620 fits\n"
     ]
    },
    {
     "data": {
      "text/plain": [
       "0.7177033492822966"
      ]
     },
     "execution_count": 38,
     "metadata": {},
     "output_type": "execute_result"
    }
   ],
   "source": [
    "grid_search.fit(X_train, y_train)\n",
    "y_pred_test = grid_search.predict(X_test)\n",
    "accuracy_score(y_test, y_pred_test)"
   ]
  },
  {
   "cell_type": "code",
   "execution_count": 64,
   "id": "0e8242a8",
   "metadata": {},
   "outputs": [],
   "source": [
    "queue = y_test[-10:].tolist()\n",
    "max_queue_length = 10\n",
    "\n",
    "y_pred_test = []\n",
    "for index in range(len(X_test)):\n",
    "    new_build = X_test[index]\n",
    "    new_build[-1] = queue.count(1)\n",
    "    new_build = new_build.reshape((1,9))\n",
    "    predict_result = grid_search.predict(new_build)\n",
    "    queue.pop(0)\n",
    "    queue.append(predict_result[0])\n",
    "    y_pred_test.append(predict_result[0])"
   ]
  },
  {
   "cell_type": "code",
   "execution_count": 65,
   "id": "a9bba1c7",
   "metadata": {},
   "outputs": [
    {
     "data": {
      "text/plain": [
       "0.7129186602870813"
      ]
     },
     "execution_count": 65,
     "metadata": {},
     "output_type": "execute_result"
    }
   ],
   "source": [
    "accuracy_score(y_test, y_pred_test)"
   ]
  },
  {
   "cell_type": "code",
   "execution_count": 66,
   "id": "30b1da87",
   "metadata": {},
   "outputs": [
    {
     "name": "stdout",
     "output_type": "stream",
     "text": [
      "[1 1 1 1 0 0 1 1 1 1 1 1 0 0 0 1 1 1 1 1 1 1 1 1 1 1 1 1 1 1 1 1 1 1 1 1 1\n",
      " 1 1 1 1 0 1 1 1 1 1 1 1 1 1 1 1 1 1 1 1 1 1 1 1 1 1 1 1 0 1 1 1 1 1 1 1 1\n",
      " 1 1 0 1 1 1 1 1 1 1 1 1 1 1 1 1 1 0 1 1 1 1 1 1 1 1 1 1 1 1 0 1 1 1 1 1 1\n",
      " 1 1 1 1 1 1 1 1 1 1 1 1 1 0 1 1 1 0 0 0 0 0 0 0 0 0 0 0 0 0 0 0 0 0 0 0 0\n",
      " 0 0 0 0 0 0 0 0 0 0 0 0 0 0 0 0 0 0 0 0 0 0 0 0 0 0 0 0 0 0 0 0 0 0 0 0 0\n",
      " 0 0 0 0 0 0 0 0 0 0 0 0 0 0 0 0 0 0 0 0 0 1 1 1 1 1 1 1 1 1 1 1 1 1 1 1 1\n",
      " 1 0 1 1 0 1 1 1 1 1 1 1 1 1 1 1 0 1 1 1 1 1 1 1 1 1 1 1 1 1 0 1 1 0 1 1 1\n",
      " 1 1 1 1 1 1 0 1 1 0 1 1 1 0 1 1 1 1 1 0 1 1 1 1 1 1 1 1 1 1 1 1 1 1 1 1 1\n",
      " 1 1 1 1 1 1 1 1 1 1 1 1 1 1 0 1 1 0 1 1 1 1 1 1 1 1 1 1 1 0 1 1 1 1 1 1 1\n",
      " 1 1 1 1 0 1 1 1 1 1 1 1 0 1 0 0 1 1 1 1 1 1 1 1 1 1 1 1 1 1 1 1 1 1 1 1 1\n",
      " 1 1 1 1 1 1 1 1 1 1 0 1 1 1 1 1 1 1 0 0 1 1 1 1 1 1 1 0 1 1 0 1 0 1 0 1 1\n",
      " 1 1 1 0 1 0 0 0 0 1 0]\n"
     ]
    }
   ],
   "source": [
    "print(y_test)"
   ]
  },
  {
   "cell_type": "code",
   "execution_count": 67,
   "id": "e985514a",
   "metadata": {},
   "outputs": [
    {
     "name": "stdout",
     "output_type": "stream",
     "text": [
      "[1, 1, 1, 1, 1, 1, 1, 1, 1, 1, 1, 1, 1, 1, 1, 1, 1, 1, 1, 1, 1, 0, 1, 1, 1, 1, 1, 1, 1, 1, 1, 1, 1, 1, 1, 1, 1, 1, 1, 1, 1, 1, 1, 1, 1, 1, 1, 1, 1, 1, 1, 0, 1, 1, 1, 1, 1, 1, 1, 1, 1, 1, 1, 1, 1, 1, 1, 1, 1, 1, 1, 1, 1, 1, 1, 1, 1, 1, 1, 1, 1, 1, 1, 1, 1, 1, 1, 1, 1, 1, 1, 1, 1, 1, 1, 1, 1, 1, 1, 1, 1, 1, 1, 1, 1, 1, 1, 1, 0, 0, 1, 1, 1, 1, 0, 0, 1, 1, 1, 1, 1, 1, 1, 1, 1, 1, 1, 1, 1, 1, 1, 1, 1, 1, 1, 1, 1, 1, 1, 1, 1, 1, 1, 1, 1, 1, 1, 1, 1, 1, 1, 1, 1, 1, 1, 1, 1, 1, 1, 1, 1, 1, 1, 1, 1, 1, 1, 1, 1, 0, 1, 0, 1, 1, 1, 1, 1, 1, 1, 1, 1, 1, 1, 1, 1, 1, 1, 1, 1, 0, 1, 1, 1, 1, 1, 1, 1, 1, 1, 1, 1, 1, 1, 1, 0, 1, 1, 1, 1, 1, 1, 1, 1, 1, 1, 1, 1, 1, 1, 1, 1, 1, 1, 1, 1, 1, 1, 1, 1, 1, 1, 1, 1, 1, 1, 1, 1, 1, 1, 1, 1, 1, 1, 1, 1, 1, 1, 1, 1, 1, 1, 1, 1, 1, 1, 1, 1, 1, 1, 1, 1, 1, 1, 1, 1, 1, 1, 1, 1, 1, 1, 1, 1, 1, 1, 1, 1, 1, 0, 1, 1, 1, 1, 1, 1, 1, 1, 1, 1, 1, 1, 1, 1, 1, 1, 1, 1, 1, 1, 1, 1, 1, 1, 1, 1, 1, 1, 1, 1, 1, 1, 1, 1, 1, 1, 1, 1, 1, 1, 1, 1, 1, 1, 1, 1, 1, 1, 1, 1, 1, 1, 1, 1, 1, 1, 1, 1, 1, 1, 1, 1, 1, 1, 1, 1, 1, 1, 1, 1, 1, 1, 1, 1, 1, 1, 1, 1, 1, 1, 1, 1, 1, 1, 1, 1, 1, 1, 1, 1, 1, 1, 1, 0, 1, 1, 1, 1, 1, 1, 1, 1, 1, 1, 1, 1, 1, 1, 1, 1, 1, 1, 1, 1, 1, 1, 1, 1, 1, 1, 1, 1, 1, 1, 1, 1, 1, 1, 1, 1, 1, 1, 1, 1, 1, 1, 1, 1, 1]\n"
     ]
    }
   ],
   "source": [
    "print(y_pred_test)"
   ]
  },
  {
   "cell_type": "code",
   "execution_count": 68,
   "id": "d6c0f62f",
   "metadata": {},
   "outputs": [
    {
     "data": {
      "text/plain": [
       "array([[  5, 113],\n",
       "       [  7, 293]])"
      ]
     },
     "execution_count": 68,
     "metadata": {},
     "output_type": "execute_result"
    }
   ],
   "source": [
    "confusion_matrix(y_test, y_pred_test)"
   ]
  },
  {
   "cell_type": "code",
   "execution_count": null,
   "id": "cbdd8ecd",
   "metadata": {},
   "outputs": [],
   "source": []
  }
 ],
 "metadata": {
  "kernelspec": {
   "display_name": "Python 3 (ipykernel)",
   "language": "python",
   "name": "python3"
  },
  "language_info": {
   "codemirror_mode": {
    "name": "ipython",
    "version": 3
   },
   "file_extension": ".py",
   "mimetype": "text/x-python",
   "name": "python",
   "nbconvert_exporter": "python",
   "pygments_lexer": "ipython3",
   "version": "3.9.7"
  }
 },
 "nbformat": 4,
 "nbformat_minor": 5
}
