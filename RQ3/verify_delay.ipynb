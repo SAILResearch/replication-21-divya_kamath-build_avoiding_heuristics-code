{
 "cells": [
  {
   "cell_type": "code",
   "execution_count": 1,
   "id": "820895b2",
   "metadata": {},
   "outputs": [],
   "source": [
    "import pandas as pd"
   ]
  },
  {
   "cell_type": "code",
   "execution_count": 2,
   "id": "5bab089f",
   "metadata": {},
   "outputs": [],
   "source": [
    "def get_proper(data):\n",
    "    output = []\n",
    "    for i in data:\n",
    "        if i == 'passed':\n",
    "            output.append(1)\n",
    "        else:\n",
    "            output.append(0)\n",
    "    return output"
   ]
  },
  {
   "cell_type": "code",
   "execution_count": 3,
   "id": "fe67cf36",
   "metadata": {},
   "outputs": [],
   "source": [
    "def get_ci(ci):\n",
    "    output = ci[1:-1].split(', ')\n",
    "    result = [int(x) for x in output]\n",
    "    return result\n",
    "    "
   ]
  },
  {
   "cell_type": "code",
   "execution_count": 9,
   "id": "c6052df4",
   "metadata": {},
   "outputs": [],
   "source": [
    "filename = 'Updated_RQ_Results.csv'\n",
    "result = pd.read_csv(filename)\n",
    "\n",
    "ci_list = result['ci'].tolist()\n",
    "project = result['project'].tolist()\n",
    "\n",
    "delay_list = []\n",
    "for k in range(len(project)):\n",
    "    p = project[k]\n",
    "    actual_path = '../data/even_data/first_failures/test/' + p.split('.')[0] + '_test.csv'\n",
    "    actual = pd.read_csv(actual_path, usecols=['tr_status'])\n",
    "    actual = get_proper(actual['tr_status'].tolist())\n",
    "\n",
    "    delay = 0\n",
    "    \n",
    "    ci = get_ci(ci_list[k])\n",
    "\n",
    "    flag = 0\n",
    "    for i in range(len(actual)):\n",
    "        if flag == 1:\n",
    "            if ci[i] == 1:\n",
    "                delay += 1\n",
    "            else:\n",
    "                flag = 0\n",
    "\n",
    "        if actual[i] == 0:\n",
    "            if ci[i] != 0:\n",
    "                delay += 1\n",
    "                flag = 1\n",
    "    delay_list.append(delay)"
   ]
  },
  {
   "cell_type": "code",
   "execution_count": 13,
   "id": "ea92f937",
   "metadata": {},
   "outputs": [],
   "source": [
    "result['sbs_delays'] = delay_list"
   ]
  },
  {
   "cell_type": "code",
   "execution_count": 15,
   "id": "edca3ece",
   "metadata": {},
   "outputs": [],
   "source": [
    "result.to_csv(filename)"
   ]
  },
  {
   "cell_type": "code",
   "execution_count": null,
   "id": "f2d344c2",
   "metadata": {},
   "outputs": [],
   "source": []
  }
 ],
 "metadata": {
  "kernelspec": {
   "display_name": "Python 3 (ipykernel)",
   "language": "python",
   "name": "python3"
  },
  "language_info": {
   "codemirror_mode": {
    "name": "ipython",
    "version": 3
   },
   "file_extension": ".py",
   "mimetype": "text/x-python",
   "name": "python",
   "nbconvert_exporter": "python",
   "pygments_lexer": "ipython3",
   "version": "3.9.7"
  }
 },
 "nbformat": 4,
 "nbformat_minor": 5
}
